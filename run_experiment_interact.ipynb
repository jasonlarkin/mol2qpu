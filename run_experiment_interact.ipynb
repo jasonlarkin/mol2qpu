{
 "cells": [
  {
   "cell_type": "code",
   "execution_count": 1,
   "metadata": {},
   "outputs": [],
   "source": [
    "import cvxpy as cvx\n",
    "import cvxopt\n",
    "import networkx as nx\n",
    "import numpy as np\n",
    "import argparse\n",
    "from typing import Tuple\n",
    "# %matplotlib inline\n",
    "import matplotlib.pyplot as plt\n",
    "import random\n",
    "from time import time\n",
    "import os, sys\n",
    "import subprocess\n",
    "import re\n",
    "import numpy as np\n",
    "import pylab\n",
    "from qiskit import Aer, BasicAer\n",
    "from qiskit.aqua import aqua_globals, QuantumInstance\n",
    "from qiskit.aqua.algorithms import ExactEigensolver, VQE\n",
    "from qiskit.aqua.components.optimizers import SPSA, COBYLA, L_BFGS_B\n",
    "from qiskit.aqua.components.variational_forms import RY, RYRZ\n",
    "from qiskit.chemistry.drivers import PySCFDriver, UnitsType\n",
    "from qiskit.chemistry.core import Hamiltonian, QubitMappingType, TransformationType"
   ]
  },
  {
   "cell_type": "code",
   "execution_count": 2,
   "metadata": {},
   "outputs": [],
   "source": [
    "import types\n",
    "args = types.SimpleNamespace()\n",
    "\n",
    "args.molecule='Be2' \n",
    "args.basis_set='ccpvtz' \n",
    "args.algorithm='VQE' \n",
    "args.transformation_type='TransformationType.FULL' \n",
    "args.qubitmapping_type='QubitMappingType.BRAVYI_KITAEV' \n",
    "args.two_qubit_reduce = True\n",
    "args.vqe_optimizer='SPSA' \n",
    "args.vqe_max_iter=2\n",
    "args.vqe_var_form='RY' \n",
    "args.vqe_depth=1 \n",
    "args.vqe_entangler='linear' \n",
    "args.num_shots=100 \n",
    "args.max_parallel_threads=10 \n",
    "args.vqe_sim = True\n",
    "args.vqe_aer = True\n",
    "args.datapath='/pylon5/cc5phsp/cbernaci/mol2qpu'\n",
    "args.random_seed=750 \n",
    "args.vqe_opt_params = False"
   ]
  },
  {
   "cell_type": "code",
   "execution_count": 3,
   "metadata": {},
   "outputs": [
    {
     "name": "stdout",
     "output_type": "stream",
     "text": [
      "BEGIN RUN_VQE_AER\n",
      "args.molecule= Be2\n",
      "args.datapath= /pylon5/cc5phsp/cbernaci/mol2qpu\n"
     ]
    }
   ],
   "source": [
    "#def run_vqe_aer(args):\n",
    "\n",
    "print(\"BEGIN RUN_VQE_AER\")\n",
    "print(\"args.molecule=\", args.molecule)\n",
    "print(\"args.datapath=\", args.datapath)\n",
    "#sys.exit(\"exiting now\")\n",
    "\n",
    "### READ IN MOLECULE\n",
    "#FIXME: bring in molecules from file?\n",
    "if args.molecule=='H2':\n",
    "    molecule = 'H .0 .0 -{0}; H .0 .0 {0}'\n",
    "elif args.molecule=='LiH':\n",
    "    molecule = 'Li .0 .0 -{0}; H .0 .0 {0}'\n",
    "elif args.molecule=='Be2':\n",
    "    molecule = 'Be .0 .0 -{0}; Be .0 .0 {0}'\n",
    "\n",
    "start = 0.5  # Start distance\n",
    "steps = 0    # Number of steps to increase by\n",
    "energies = np.zeros(steps+1)\n",
    "hf_energies = np.zeros(steps+1)\n",
    "distances = np.zeros(steps+1)\n",
    "aqua_globals.random_seed = args.random_seed\n",
    "\n",
    "d = start\n",
    "\n",
    "driver = PySCFDriver(molecule.format(d/2), basis=args.basis_set)\n",
    "qmolecule = driver.run()\n",
    "operator =  Hamiltonian(transformation=eval(args.transformation_type), \n",
    "                        qubit_mapping=eval(args.qubitmapping_type),  \n",
    "                        two_qubit_reduction=args.two_qubit_reduce)"
   ]
  },
  {
   "cell_type": "code",
   "execution_count": null,
   "metadata": {},
   "outputs": [],
   "source": [
    "qubitOp, aux_ops = operator.run(qmolecule)"
   ]
  },
  {
   "cell_type": "code",
   "execution_count": null,
   "metadata": {},
   "outputs": [],
   "source": [
    "backend = Aer.get_backend('qasm_simulator')\n",
    "\n",
    "quantum_instance = QuantumInstance(circuit_caching=True, \n",
    "                                   backend=backend,\n",
    "                                   backend_options={'max_parallel_threads': args.max_parallel_threads,                                                                             'max_parallel_experiments': 0, \n",
    "                                                    'shots': args.num_shots})\n",
    "## optimizer\n",
    "if args.vqe_optimizer=='SPSA':\n",
    "    optimizer = SPSA(max_trials=200)\n",
    "elif args.vqe_optimizer=='COBYLA':\n",
    "    optimizer = COBYLA()\n",
    "    optimizer.set_options(maxiter=args.vqe_max_iter)\n",
    "elif args.vqe_optimizer=='L_BFGS_B':\n",
    "    optimizer = L_BFGS_B(maxfun=args.vqe_max_iter)\n",
    "else:\n",
    "    optimizer = COBYLA()\n",
    "    optimizer.set_options(maxiter=args.vqe_max_iter)\n",
    "\n",
    "## variational form\n",
    "if args.vqe_var_form=='RY':\n",
    "    var_form = RY(qubitOp.num_qubits, depth=args.vqe_depth, entanglement=args.vqe_entangler)   \n",
    "elif args.vqe_var_form=='RYRZ':\n",
    "    var_form = RYRZ(qubitOp.num_qubits, depth=args.vqe_depth, entanglement=args.vqe_entangler)\n",
    "\n",
    "## VQE params\n",
    "if args.vqe_opt_params:\n",
    "    initial_point=np.load(args.vqe_opt_params_path+'._ret_opt_params.npy',allow_pickle=True, fix_imports=True)\n",
    "    algo = VQE(qubitOp, var_form, optimizer, initial_point=initial_point)\n",
    "else:\n",
    "    algo = VQE(qubitOp, var_form, optimizer)\n",
    "\n",
    "result = algo.run(quantum_instance)    \n",
    "lines, result_op = operator.process_algorithm_result(result)\n",
    "\n",
    "energies[i] = result['energy']\n",
    "hf_energies[i] = result['hf_energy']\n",
    "distances[i] = d\n",
    "\n",
    "#print(type(result))\n",
    "#print(dir(algo))\n",
    "circ_opt = algo.get_optimal_circuit()\n",
    "print(circ_opt)\n",
    "#print('vqe WallTime:',computeWalltime(circ_opt))\n",
    "print(' --- complete')\n",
    "print('circuit_summary=', quantum_instance.circuit_summary)\n",
    "print(algo.print_settings())\n",
    "print('Distances: ', distances)\n",
    "print('Energies:', energies)\n",
    "print('Hartree-Fock energies:', hf_energies)\n",
    "\n",
    "#return result\n",
    "\n"
   ]
  },
  {
   "cell_type": "code",
   "execution_count": null,
   "metadata": {},
   "outputs": [],
   "source": []
  },
  {
   "cell_type": "code",
   "execution_count": null,
   "metadata": {},
   "outputs": [],
   "source": []
  },
  {
   "cell_type": "code",
   "execution_count": 31,
   "metadata": {},
   "outputs": [
    {
     "data": {
      "text/plain": [
       "array([{'10': 9, '01': 91}], dtype=object)"
      ]
     },
     "execution_count": 31,
     "metadata": {},
     "output_type": "execute_result"
    }
   ],
   "source": [
    "result['algorithm_retvals']['eigvecs']\n",
    "#results['eigvecs']\n",
    "#type(results)\n",
    "#eigvecs = results.get('eigvecs')\n"
   ]
  },
  {
   "cell_type": "code",
   "execution_count": 33,
   "metadata": {},
   "outputs": [
    {
     "data": {
      "image/png": "[encoded data removed]",
      "text/plain": [
       "<Figure size 504x360 with 1 Axes>"
      ]
     },
     "execution_count": 33,
     "metadata": {},
     "output_type": "execute_result"
    }
   ],
   "source": [
    "from qiskit.tools.visualization import plot_histogram\n",
    "plot_histogram(results['algorithm_retvals']['eigvecs'])"
   ]
  },
  {
   "cell_type": "code",
   "execution_count": 34,
   "metadata": {},
   "outputs": [
    {
     "ename": "NameError",
     "evalue": "name 'operator' is not defined",
     "output_type": "error",
     "traceback": [
      "\u001b[0;31m---------------------------------------------------------------------------\u001b[0m",
      "\u001b[0;31mNameError\u001b[0m                                 Traceback (most recent call last)",
      "\u001b[0;32m<ipython-input-34-8ea413b4d767>\u001b[0m in \u001b[0;36m<module>\u001b[0;34m\u001b[0m\n\u001b[0;32m----> 1\u001b[0;31m \u001b[0mlines\u001b[0m\u001b[0;34m,\u001b[0m \u001b[0mresultA\u001b[0m \u001b[0;34m=\u001b[0m \u001b[0moperator\u001b[0m\u001b[0;34m.\u001b[0m\u001b[0mprocess_algorithm_result\u001b[0m\u001b[0;34m(\u001b[0m\u001b[0mresults\u001b[0m\u001b[0;34m)\u001b[0m\u001b[0;34m\u001b[0m\u001b[0;34m\u001b[0m\u001b[0m\n\u001b[0m",
      "\u001b[0;31mNameError\u001b[0m: name 'operator' is not defined"
     ]
    }
   ],
   "source": [
    "lines, resultA = operator.process_algorithm_result(results)"
   ]
  },
  {
   "cell_type": "code",
   "execution_count": null,
   "metadata": {},
   "outputs": [],
   "source": [
    "#results = run_vqe_aer(args) "
   ]
  },
  {
   "cell_type": "code",
   "execution_count": null,
   "metadata": {},
   "outputs": [],
   "source": []
  }
 ],
 "metadata": {
  "kernelspec": {
   "display_name": "QiskitEnv",
   "language": "python",
   "name": "python3"
  },
  "language_info": {
   "codemirror_mode": {
    "name": "ipython",
    "version": 3
   },
   "file_extension": ".py",
   "mimetype": "text/x-python",
   "name": "python",
   "nbconvert_exporter": "python",
   "pygments_lexer": "ipython3",
   "version": "3.8.1"
  }
 },
 "nbformat": 4,
 "nbformat_minor": 2
}

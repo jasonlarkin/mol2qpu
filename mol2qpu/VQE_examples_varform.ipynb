{
 "cells": [
  {
   "cell_type": "code",
   "execution_count": 21,
   "metadata": {},
   "outputs": [],
   "source": [
    "from IPython.core.interactiveshell import InteractiveShell \n",
    "InteractiveShell.ast_node_interactivity = \"all\"\n",
    "\n",
    "import numpy as np\n",
    "from qiskit.aqua.components.optimizers import COBYLA"
   ]
  },
  {
   "cell_type": "markdown",
   "metadata": {},
   "source": [
    "## Optimization of Single Qubit Variational From\n",
    "Example from: https://qiskit.org/textbook/ch-applications/vqe-molecules.html\n",
    "\n",
    "\"We will now use the simple single qubit variational form to solve a problem similar to ground state energy estimation. Specifically, we are given a random probability vector  $\\overrightarrow{x}$ and wish to determine a possible parameterization for our single qubit variational form such that it outputs a probability distribution that is close to $\\overrightarrow{x}$ (where closeness is defined in terms of the Manhattan distance between the two probability vectors).\""
   ]
  },
  {
   "cell_type": "markdown",
   "metadata": {},
   "source": [
    "### Define Target Distribution\n",
    "we are measuring the probability of the 0 state and the 1 state, so each should be approximately 50/50. Therefore our target distribution is a length two vector with roughly 50% for each component because each number is chosen randomly from 0 to 1. "
   ]
  },
  {
   "cell_type": "code",
   "execution_count": 22,
   "metadata": {},
   "outputs": [
    {
     "data": {
      "text/plain": [
       "array([0.51357006, 0.48642994])"
      ]
     },
     "execution_count": 22,
     "metadata": {},
     "output_type": "execute_result"
    }
   ],
   "source": [
    "np.random.seed(999999)\n",
    "target_distr = np.random.rand(2)\n",
    "target_distr /= sum(target_distr)\n",
    "target_distr"
   ]
  },
  {
   "cell_type": "markdown",
   "metadata": {},
   "source": [
    "### Function for Creating Variational Form\n",
    "It's a circuit with 1 qubit, where the first qubit is acted on by a U3 gate with some input set of parameters."
   ]
  },
  {
   "cell_type": "code",
   "execution_count": 23,
   "metadata": {},
   "outputs": [],
   "source": [
    "from qiskit import QuantumCircuit, ClassicalRegister, QuantumRegister\n",
    "def get_var_form(params):\n",
    "    qr = QuantumRegister(1, name=\"q\")\n",
    "    cr = ClassicalRegister(1, name='c')\n",
    "    qc = QuantumCircuit(qr, cr)\n",
    "    qc.u3(params[0], params[1], params[2], qr[0])\n",
    "    #print(qc)\n",
    "    qc.measure(qr, cr[0])\n",
    "    #print(qc)\n",
    "    return qc"
   ]
  },
  {
   "cell_type": "markdown",
   "metadata": {},
   "source": [
    "### Specify Objective Function \n",
    "We define the objective function, which is the calculation of the quantity of interest, here it's just a cost function is the sum of the absolute value of the difference between the target distribution and the output distribution of the objective function. "
   ]
  },
  {
   "cell_type": "code",
   "execution_count": 24,
   "metadata": {},
   "outputs": [],
   "source": [
    "from qiskit import Aer, execute\n",
    "backend = Aer.get_backend(\"qasm_simulator\")\n",
    "num_shots = 100"
   ]
  },
  {
   "cell_type": "code",
   "execution_count": 25,
   "metadata": {},
   "outputs": [],
   "source": [
    "def get_probability_distribution(counts):\n",
    "    output_distr = [v/num_shots for v in counts.values()]\n",
    "    if len(output_distr) == 1:\n",
    "        output_distr.append(0)\n",
    "    return output_distr"
   ]
  },
  {
   "cell_type": "code",
   "execution_count": 26,
   "metadata": {},
   "outputs": [],
   "source": [
    "def objective_function(params):\n",
    "    # Obtain a quantum circuit instance from the parameters\n",
    "    qc = get_var_form(params)\n",
    "    #print(qc)\n",
    "    result = execute(qc, backend, shots=num_shots).result()\n",
    "    #print(dir(result))\n",
    "    #print(result.get_counts(qc))\n",
    "    output_distr = get_probability_distribution(result.get_counts(qc))\n",
    "    print(output_distr)\n",
    "    cost = sum([np.abs(output_distr[i] - target_distr[i]) for i in range(2)])\n",
    "    return cost\n"
   ]
  },
  {
   "cell_type": "code",
   "execution_count": 27,
   "metadata": {},
   "outputs": [
    {
     "name": "stdout",
     "output_type": "stream",
     "text": [
      "[0.43, 0.57]\n"
     ]
    },
    {
     "data": {
      "text/plain": [
       "0.1671401187388391"
      ]
     },
     "execution_count": 27,
     "metadata": {},
     "output_type": "execute_result"
    }
   ],
   "source": [
    "params = np.zeros(3)\n",
    "params[0] = 1.46209037\n",
    "params[1] = 1.564515\n",
    "params[2] = 0.34435917\n",
    "#array([1.46209037, 1.564515  , 0.34435917])\n",
    "test = objective_function(params)\n",
    "test"
   ]
  },
  {
   "cell_type": "code",
   "execution_count": 28,
   "metadata": {},
   "outputs": [],
   "source": [
    "# Initialize the COBYLA optimizer\n",
    "optimizer = COBYLA(maxiter=500, tol=0.001)"
   ]
  },
  {
   "cell_type": "code",
   "execution_count": 29,
   "metadata": {},
   "outputs": [
    {
     "name": "stdout",
     "output_type": "stream",
     "text": [
      "[0.12, 0.88]\n",
      "[0.51, 0.49]\n",
      "[0.57, 0.43]\n",
      "[0.53, 0.47]\n",
      "[0.98, 0.02]\n",
      "[0.81, 0.19]\n",
      "[0.44, 0.56]\n",
      "[0.57, 0.43]\n",
      "[0.7, 0.3]\n",
      "[0.56, 0.44]\n",
      "[0.67, 0.33]\n",
      "[0.54, 0.46]\n",
      "[0.48, 0.52]\n",
      "[0.63, 0.37]\n",
      "[0.51, 0.49]\n",
      "[0.56, 0.44]\n",
      "[0.65, 0.35]\n",
      "[0.61, 0.39]\n",
      "[0.59, 0.41]\n",
      "[0.45, 0.55]\n",
      "[0.58, 0.42]\n",
      "[0.55, 0.45]\n",
      "[0.61, 0.39]\n",
      "[0.56, 0.44]\n",
      "[0.56, 0.44]\n",
      "[0.55, 0.45]\n"
     ]
    }
   ],
   "source": [
    "params = np.random.rand(3)\n",
    "ret = optimizer.optimize(num_vars=3, objective_function=objective_function, initial_point=params)"
   ]
  },
  {
   "cell_type": "code",
   "execution_count": 110,
   "metadata": {},
   "outputs": [
    {
     "data": {
      "text/plain": [
       "array([1.57432471, 0.24493779, 0.54862615])"
      ]
     },
     "execution_count": 110,
     "metadata": {},
     "output_type": "execute_result"
    },
    {
     "data": {
      "text/plain": [
       "0.00714011873883913"
      ]
     },
     "execution_count": 110,
     "metadata": {},
     "output_type": "execute_result"
    },
    {
     "data": {
      "text/plain": [
       "31"
      ]
     },
     "execution_count": 110,
     "metadata": {},
     "output_type": "execute_result"
    }
   ],
   "source": [
    "ret[0]\n",
    "ret[1]\n",
    "ret[2]"
   ]
  },
  {
   "cell_type": "markdown",
   "metadata": {},
   "source": [
    "`ret[0]` is a 1D numpy.ndarray containing the optimal parameters\n",
    "\n",
    "`ret[1]` is a float with the objective function value (cost in this case)\n",
    "\n",
    "`ret[2]` number of objective function calls made if available\n",
    "\n",
    "And now that we have our optimized parameters, we can calculate how close the measurement of the variational form with these parameters is to the target distribution. "
   ]
  },
  {
   "cell_type": "code",
   "execution_count": 112,
   "metadata": {},
   "outputs": [
    {
     "name": "stdout",
     "output_type": "stream",
     "text": [
      "        ┌────────────────────────────┐┌─┐\n",
      "q_0: |0>┤ U3(1.5743,0.24494,0.54863) ├┤M├\n",
      "        └────────────────────────────┘└╥┘\n",
      " c_0: 0 ═══════════════════════════════╩═\n",
      "                                         \n"
     ]
    }
   ],
   "source": [
    "qc = get_var_form(ret[0])\n",
    "print(qc)"
   ]
  },
  {
   "cell_type": "code",
   "execution_count": 114,
   "metadata": {},
   "outputs": [
    {
     "name": "stdout",
     "output_type": "stream",
     "text": [
      "Target Distribution: [0.51357006 0.48642994]\n",
      "Obtained Distribution: [0.49, 0.51]\n",
      "Output Error (Manhattan Distance): 0.00714011873883913\n",
      "Parameters Found: [1.57432471 0.24493779 0.54862615]\n"
     ]
    }
   ],
   "source": [
    "counts = execute(qc, backend, shots=num_shots).result().get_counts(qc)\n",
    "output_distr = get_probability_distribution(counts)\n",
    "\n",
    "print(\"Target Distribution:\", target_distr)\n",
    "print(\"Obtained Distribution:\", output_distr)\n",
    "print(\"Output Error (Manhattan Distance):\", ret[1])\n",
    "print(\"Parameters Found:\", ret[0])"
   ]
  },
  {
   "cell_type": "markdown",
   "metadata": {},
   "source": [
    "## Domain Agnostic Variational Forms\n",
    "A domain agnostic variational form is a 'heuristic circuit' where the gates are layered such that they give a good approximation to a wide range of states. Qiskit Aqua has three such types:\n",
    "* Ry\n",
    "* RyRx\n",
    "* SwapRz\n",
    "\n",
    "Ry, and RyRz accept three inputs that cover the basic parameters:\n",
    "\n",
    "* number of qubits\n",
    "* depth setting (number of times to repeat a set pattern of 1-qubit gates and CX gates)\n",
    "* entanglement setting (how CX gates connect qubits, i.e. linear/nearest-neighbor or full/all-to-all)"
   ]
  },
  {
   "cell_type": "code",
   "execution_count": 1,
   "metadata": {},
   "outputs": [
    {
     "name": "stdout",
     "output_type": "stream",
     "text": [
      "=============Linear Entanglement:=============\n",
      "        ┌───────────┐┌───────┐ ░                                                                 ░ »\n",
      "q_0: |0>┤ U3(0,0,0) ├┤ U1(0) ├─░───────────────■─────────────────────────────────────────────────░─»\n",
      "        ├───────────┤├───────┤ ░ ┌──────────┐┌─┴─┐┌──────────┐                                   ░ »\n",
      "q_1: |0>┤ U3(0,0,0) ├┤ U1(0) ├─░─┤ U2(0,pi) ├┤ X ├┤ U2(0,pi) ├──■────────────────────────────────░─»\n",
      "        ├───────────┤├───────┤ ░ ├──────────┤└───┘└──────────┘┌─┴─┐┌──────────┐                  ░ »\n",
      "q_2: |0>┤ U3(0,0,0) ├┤ U1(0) ├─░─┤ U2(0,pi) ├─────────────────┤ X ├┤ U2(0,pi) ├──■───────────────░─»\n",
      "        ├───────────┤├───────┤ ░ ├──────────┤                 └───┘└──────────┘┌─┴─┐┌──────────┐ ░ »\n",
      "q_3: |0>┤ U3(0,0,0) ├┤ U1(0) ├─░─┤ U2(0,pi) ├──────────────────────────────────┤ X ├┤ U2(0,pi) ├─░─»\n",
      "        └───────────┘└───────┘ ░ └──────────┘                                  └───┘└──────────┘ ░ »\n",
      "«     ┌───────────┐┌───────┐ ░ \n",
      "«q_0: ┤ U3(0,0,0) ├┤ U1(0) ├─░─\n",
      "«     ├───────────┤├───────┤ ░ \n",
      "«q_1: ┤ U3(0,0,0) ├┤ U1(0) ├─░─\n",
      "«     ├───────────┤├───────┤ ░ \n",
      "«q_2: ┤ U3(0,0,0) ├┤ U1(0) ├─░─\n",
      "«     ├───────────┤├───────┤ ░ \n",
      "«q_3: ┤ U3(0,0,0) ├┤ U1(0) ├─░─\n",
      "«     └───────────┘└───────┘ ░ \n",
      "\n",
      "=============Full Entanglement:=============\n",
      "        ┌───────────┐┌───────┐ ░                                                                »\n",
      "q_0: |0>┤ U3(0,0,0) ├┤ U1(0) ├─░───────────────■────────────────■────────────────■──────────────»\n",
      "        ├───────────┤├───────┤ ░ ┌──────────┐┌─┴─┐┌──────────┐  │                │              »\n",
      "q_1: |0>┤ U3(0,0,0) ├┤ U1(0) ├─░─┤ U2(0,pi) ├┤ X ├┤ U2(0,pi) ├──┼────────────────┼──────────────»\n",
      "        ├───────────┤├───────┤ ░ ├──────────┤└───┘└──────────┘┌─┴─┐┌──────────┐  │  ┌──────────┐»\n",
      "q_2: |0>┤ U3(0,0,0) ├┤ U1(0) ├─░─┤ U2(0,pi) ├─────────────────┤ X ├┤ U2(0,pi) ├──┼──┤ U2(0,pi) ├»\n",
      "        ├───────────┤├───────┤ ░ ├──────────┤                 └───┘└──────────┘┌─┴─┐├──────────┤»\n",
      "q_3: |0>┤ U3(0,0,0) ├┤ U1(0) ├─░─┤ U2(0,pi) ├──────────────────────────────────┤ X ├┤ U2(0,pi) ├»\n",
      "        └───────────┘└───────┘ ░ └──────────┘                                  └───┘└──────────┘»\n",
      "«                                                                            ░ ┌───────────┐»\n",
      "«q_0: ───────────────────────────────────────────────────────────────────────░─┤ U3(0,0,0) ├»\n",
      "«                                                                            ░ ├───────────┤»\n",
      "«q_1: ─────■────────────────────■────────────────────────────────────────────░─┤ U3(0,0,0) ├»\n",
      "«        ┌─┴─┐    ┌──────────┐  │                                            ░ ├───────────┤»\n",
      "«q_2: ───┤ X ├────┤ U2(0,pi) ├──┼────────────────────────────■───────────────░─┤ U3(0,0,0) ├»\n",
      "«     ┌──┴───┴───┐└──────────┘┌─┴─┐┌──────────┐┌──────────┐┌─┴─┐┌──────────┐ ░ ├───────────┤»\n",
      "«q_3: ┤ U2(0,pi) ├────────────┤ X ├┤ U2(0,pi) ├┤ U2(0,pi) ├┤ X ├┤ U2(0,pi) ├─░─┤ U3(0,0,0) ├»\n",
      "«     └──────────┘            └───┘└──────────┘└──────────┘└───┘└──────────┘ ░ └───────────┘»\n",
      "«     ┌───────┐ ░ \n",
      "«q_0: ┤ U1(0) ├─░─\n",
      "«     ├───────┤ ░ \n",
      "«q_1: ┤ U1(0) ├─░─\n",
      "«     ├───────┤ ░ \n",
      "«q_2: ┤ U1(0) ├─░─\n",
      "«     ├───────┤ ░ \n",
      "«q_3: ┤ U1(0) ├─░─\n",
      "«     └───────┘ ░ \n",
      "\n"
     ]
    }
   ],
   "source": [
    "from qiskit.aqua.components.variational_forms import RYRZ\n",
    "entanglements = [\"linear\", \"full\"]\n",
    "for entanglement in entanglements:\n",
    "    form = RYRZ(num_qubits=4, depth=1, entanglement=entanglement)\n",
    "    if entanglement == \"linear\":\n",
    "        print(\"=============Linear Entanglement:=============\")\n",
    "    else:\n",
    "        print(\"=============Full Entanglement:=============\")\n",
    "    # We initialize all parameters to 0 for this demonstration\n",
    "    print(form.construct_circuit([0] * form.num_parameters).draw(fold=100))\n",
    "    print()"
   ]
  },
  {
   "cell_type": "markdown",
   "metadata": {},
   "source": [
    "## VQE Implementation in Qiskit"
   ]
  },
  {
   "cell_type": "code",
   "execution_count": 30,
   "metadata": {},
   "outputs": [],
   "source": [
    "from qiskit.aqua.algorithms import VQE, ExactEigensolver\n",
    "import matplotlib.pyplot as plt\n",
    "import numpy as np\n",
    "%matplotlib inline\n",
    "%config InlineBackend.figure_format = 'svg' # Makes the images look nice"
   ]
  },
  {
   "cell_type": "code",
   "execution_count": 31,
   "metadata": {},
   "outputs": [],
   "source": [
    "from qiskit.chemistry.components.variational_forms import UCCSD\n",
    "from qiskit.chemistry.components.initial_states import HartreeFock\n",
    "from qiskit.aqua.components.variational_forms import RYRZ\n",
    "from qiskit.aqua.components.optimizers import COBYLA, SPSA, SLSQP\n",
    "from qiskit.aqua.operators import Z2Symmetries\n",
    "from qiskit import IBMQ, BasicAer, Aer\n",
    "from qiskit.chemistry.drivers import PySCFDriver, UnitsType\n",
    "from qiskit.chemistry import FermionicOperator\n",
    "from qiskit.aqua import QuantumInstance\n",
    "from qiskit.ignis.mitigation.measurement import CompleteMeasFitter\n",
    "from qiskit.providers.aer.noise import NoiseModel "
   ]
  },
  {
   "cell_type": "code",
   "execution_count": 43,
   "metadata": {},
   "outputs": [
    {
     "name": "stdout",
     "output_type": "stream",
     "text": [
      "['__abstractmethods__', '__add__', '__class__', '__delattr__', '__dict__', '__dir__', '__doc__', '__eq__', '__format__', '__ge__', '__getattribute__', '__gt__', '__hash__', '__iadd__', '__init__', '__init_subclass__', '__isub__', '__le__', '__lt__', '__module__', '__mul__', '__ne__', '__neg__', '__new__', '__reduce__', '__reduce_ex__', '__repr__', '__rmul__', '__setattr__', '__sizeof__', '__slots__', '__str__', '__sub__', '__subclasshook__', '__weakref__', '_abc_impl', '_add_or_sub', '_atol', '_basis', '_name', '_paulis', '_paulis_table', '_routine_compute_mean_and_var', '_scaling_weight', '_z2_symmetries', 'add', 'anticommute_with', 'atol', 'basis', 'chop', 'commute_with', 'construct_evaluation_circuit', 'copy', 'evaluate_with_result', 'evaluate_with_statevector', 'evaluation_instruction', 'evolve', 'evolve_instruction', 'from_dict', 'from_file', 'from_list', 'is_empty', 'multiply', 'name', 'num_qubits', 'paulis', 'print_details', 'reorder_paulis', 'rounding', 'simplify', 'sub', 'to_dict', 'to_file', 'z2_symmetries']\n",
      "[(Pauli(z=[False, False, False, False, False, False], x=[False, False, False, False, False, False]), [0]), (Pauli(z=[True, False, False, False, False, False], x=[False, False, False, False, False, False]), [1]), (Pauli(z=[True, True, False, False, False, False], x=[True, True, False, False, False, False]), [2]), (Pauli(z=[False, False, False, False, False, False], x=[True, True, False, False, False, False]), [3]), (Pauli(z=[True, True, True, False, False, False], x=[True, False, True, False, False, False]), [4]), (Pauli(z=[False, True, False, False, False, False], x=[True, False, True, False, False, False]), [5]), (Pauli(z=[False, True, False, False, False, False], x=[False, False, False, False, False, False]), [6]), (Pauli(z=[False, True, True, False, False, False], x=[False, True, True, False, False, False]), [7]), (Pauli(z=[False, False, False, False, False, False], x=[False, True, True, False, False, False]), [8]), (Pauli(z=[False, False, True, False, False, False], x=[False, False, False, False, False, False]), [9]), (Pauli(z=[False, False, False, True, False, False], x=[False, False, False, False, False, False]), [10]), (Pauli(z=[False, False, False, True, True, False], x=[False, False, False, True, True, False]), [11]), (Pauli(z=[False, False, False, False, False, False], x=[False, False, False, True, True, False]), [12]), (Pauli(z=[False, False, False, True, True, True], x=[False, False, False, True, False, True]), [13]), (Pauli(z=[False, False, False, False, True, False], x=[False, False, False, True, False, True]), [14]), (Pauli(z=[False, False, False, False, True, False], x=[False, False, False, False, False, False]), [15]), (Pauli(z=[False, False, False, False, True, True], x=[False, False, False, False, True, True]), [16]), (Pauli(z=[False, False, False, False, False, False], x=[False, False, False, False, True, True]), [17]), (Pauli(z=[False, False, False, False, False, True], x=[False, False, False, False, False, False]), [18]), (Pauli(z=[True, True, False, False, False, False], x=[False, False, False, False, False, False]), [19]), (Pauli(z=[True, True, True, False, False, False], x=[False, True, True, False, False, False]), [20]), (Pauli(z=[True, False, False, False, False, False], x=[False, True, True, False, False, False]), [21]), (Pauli(z=[True, False, True, False, False, False], x=[False, False, False, False, False, False]), [22]), (Pauli(z=[True, False, True, False, False, False], x=[True, False, True, False, False, False]), [23]), (Pauli(z=[False, False, False, False, False, False], x=[True, False, True, False, False, False]), [24]), (Pauli(z=[True, True, True, False, False, False], x=[True, True, False, False, False, False]), [25]), (Pauli(z=[False, False, True, False, False, False], x=[True, True, False, False, False, False]), [26]), (Pauli(z=[True, False, False, True, False, False], x=[False, False, False, False, False, False]), [27]), (Pauli(z=[True, True, False, True, False, False], x=[True, True, False, False, False, False]), [28]), (Pauli(z=[False, False, False, True, False, False], x=[True, True, False, False, False, False]), [29]), (Pauli(z=[True, True, True, True, False, False], x=[True, False, True, False, False, False]), [30]), (Pauli(z=[False, True, False, True, False, False], x=[True, False, True, False, False, False]), [31]), (Pauli(z=[True, False, False, False, False, False], x=[False, False, False, True, True, False]), [32]), (Pauli(z=[True, False, False, True, True, False], x=[False, False, False, True, True, False]), [33]), (Pauli(z=[True, True, False, False, False, False], x=[True, True, False, True, True, False]), [34]), (Pauli(z=[True, True, False, True, True, False], x=[True, True, False, True, True, False]), [35]), (Pauli(z=[False, False, False, False, False, False], x=[True, True, False, True, True, False]), [36]), (Pauli(z=[False, False, False, True, True, False], x=[True, True, False, True, True, False]), [37]), (Pauli(z=[True, True, True, False, False, False], x=[True, False, True, True, True, False]), [38]), (Pauli(z=[True, True, True, True, True, False], x=[True, False, True, True, True, False]), [39]), (Pauli(z=[False, True, False, False, False, False], x=[True, False, True, True, True, False]), [40]), (Pauli(z=[False, True, False, True, True, False], x=[True, False, True, True, True, False]), [41]), (Pauli(z=[True, False, False, False, True, False], x=[False, False, False, True, False, True]), [42]), (Pauli(z=[True, False, False, True, True, True], x=[False, False, False, True, False, True]), [43]), (Pauli(z=[True, True, False, False, True, False], x=[True, True, False, True, False, True]), [44]), (Pauli(z=[True, True, False, True, True, True], x=[True, True, False, True, False, True]), [45]), (Pauli(z=[False, False, False, False, True, False], x=[True, True, False, True, False, True]), [46]), (Pauli(z=[False, False, False, True, True, True], x=[True, True, False, True, False, True]), [47]), (Pauli(z=[True, True, True, False, True, False], x=[True, False, True, True, False, True]), [48]), (Pauli(z=[True, True, True, True, True, True], x=[True, False, True, True, False, True]), [49]), (Pauli(z=[False, True, False, False, True, False], x=[True, False, True, True, False, True]), [50]), (Pauli(z=[False, True, False, True, True, True], x=[True, False, True, True, False, True]), [51]), (Pauli(z=[True, False, False, False, True, False], x=[False, False, False, False, False, False]), [52]), (Pauli(z=[True, True, False, False, True, False], x=[True, True, False, False, False, False]), [53]), (Pauli(z=[False, False, False, False, True, False], x=[True, True, False, False, False, False]), [54]), (Pauli(z=[True, True, True, False, True, False], x=[True, False, True, False, False, False]), [55]), (Pauli(z=[False, True, False, False, True, False], x=[True, False, True, False, False, False]), [56]), (Pauli(z=[True, False, False, False, False, False], x=[False, False, False, False, True, True]), [57]), (Pauli(z=[True, False, False, False, True, True], x=[False, False, False, False, True, True]), [58]), (Pauli(z=[True, True, False, False, False, False], x=[True, True, False, False, True, True]), [59]), (Pauli(z=[True, True, False, False, True, True], x=[True, True, False, False, True, True]), [60]), (Pauli(z=[False, False, False, False, False, False], x=[True, True, False, False, True, True]), [61]), (Pauli(z=[False, False, False, False, True, True], x=[True, True, False, False, True, True]), [62]), (Pauli(z=[True, True, True, False, False, False], x=[True, False, True, False, True, True]), [63]), (Pauli(z=[True, True, True, False, True, True], x=[True, False, True, False, True, True]), [64]), (Pauli(z=[False, True, False, False, False, False], x=[True, False, True, False, True, True]), [65]), (Pauli(z=[False, True, False, False, True, True], x=[True, False, True, False, True, True]), [66]), (Pauli(z=[True, False, False, False, False, True], x=[False, False, False, False, False, False]), [67]), (Pauli(z=[True, True, False, False, False, True], x=[True, True, False, False, False, False]), [68]), (Pauli(z=[False, False, False, False, False, True], x=[True, True, False, False, False, False]), [69]), (Pauli(z=[True, True, True, False, False, True], x=[True, False, True, False, False, False]), [70]), (Pauli(z=[False, True, False, False, False, True], x=[True, False, True, False, False, False]), [71]), (Pauli(z=[False, True, True, False, False, False], x=[False, False, False, False, False, False]), [72]), (Pauli(z=[False, True, False, True, False, False], x=[False, False, False, False, False, False]), [73]), (Pauli(z=[False, True, True, True, False, False], x=[False, True, True, False, False, False]), [74]), (Pauli(z=[False, False, False, True, False, False], x=[False, True, True, False, False, False]), [75]), (Pauli(z=[False, True, False, False, False, False], x=[False, False, False, True, True, False]), [76]), (Pauli(z=[False, True, False, True, True, False], x=[False, False, False, True, True, False]), [77]), (Pauli(z=[False, True, True, False, False, False], x=[False, True, True, True, True, False]), [78]), (Pauli(z=[False, True, True, True, True, False], x=[False, True, True, True, True, False]), [79]), (Pauli(z=[False, False, False, False, False, False], x=[False, True, True, True, True, False]), [80]), (Pauli(z=[False, False, False, True, True, False], x=[False, True, True, True, True, False]), [81]), (Pauli(z=[False, True, False, False, True, False], x=[False, False, False, True, False, True]), [82]), (Pauli(z=[False, True, False, True, True, True], x=[False, False, False, True, False, True]), [83]), (Pauli(z=[False, True, True, False, True, False], x=[False, True, True, True, False, True]), [84]), (Pauli(z=[False, True, True, True, True, True], x=[False, True, True, True, False, True]), [85]), (Pauli(z=[False, False, False, False, True, False], x=[False, True, True, True, False, True]), [86]), (Pauli(z=[False, False, False, True, True, True], x=[False, True, True, True, False, True]), [87]), (Pauli(z=[False, True, False, False, True, False], x=[False, False, False, False, False, False]), [88]), (Pauli(z=[False, True, True, False, True, False], x=[False, True, True, False, False, False]), [89]), (Pauli(z=[False, False, False, False, True, False], x=[False, True, True, False, False, False]), [90]), (Pauli(z=[False, True, False, False, False, False], x=[False, False, False, False, True, True]), [91]), (Pauli(z=[False, True, False, False, True, True], x=[False, False, False, False, True, True]), [92]), (Pauli(z=[False, True, True, False, False, False], x=[False, True, True, False, True, True]), [93]), (Pauli(z=[False, True, True, False, True, True], x=[False, True, True, False, True, True]), [94]), (Pauli(z=[False, False, False, False, False, False], x=[False, True, True, False, True, True]), [95]), (Pauli(z=[False, False, False, False, True, True], x=[False, True, True, False, True, True]), [96]), (Pauli(z=[False, True, False, False, False, True], x=[False, False, False, False, False, False]), [97]), (Pauli(z=[False, True, True, False, False, True], x=[False, True, True, False, False, False]), [98]), (Pauli(z=[False, False, False, False, False, True], x=[False, True, True, False, False, False]), [99]), (Pauli(z=[False, False, True, True, False, False], x=[False, False, False, False, False, False]), [100]), (Pauli(z=[False, False, True, False, False, False], x=[False, False, False, True, True, False]), [101]), (Pauli(z=[False, False, True, True, True, False], x=[False, False, False, True, True, False]), [102]), (Pauli(z=[False, False, True, False, True, False], x=[False, False, False, True, False, True]), [103]), (Pauli(z=[False, False, True, True, True, True], x=[False, False, False, True, False, True]), [104]), (Pauli(z=[False, False, True, False, True, False], x=[False, False, False, False, False, False]), [105]), (Pauli(z=[False, False, True, False, False, False], x=[False, False, False, False, True, True]), [106]), (Pauli(z=[False, False, True, False, True, True], x=[False, False, False, False, True, True]), [107]), (Pauli(z=[False, False, True, False, False, True], x=[False, False, False, False, False, False]), [108]), (Pauli(z=[False, False, False, True, True, False], x=[False, False, False, False, False, False]), [109]), (Pauli(z=[False, False, False, True, True, True], x=[False, False, False, False, True, True]), [110]), (Pauli(z=[False, False, False, True, False, False], x=[False, False, False, False, True, True]), [111]), (Pauli(z=[False, False, False, True, False, True], x=[False, False, False, False, False, False]), [112]), (Pauli(z=[False, False, False, True, False, True], x=[False, False, False, True, False, True]), [113]), (Pauli(z=[False, False, False, False, False, False], x=[False, False, False, True, False, True]), [114]), (Pauli(z=[False, False, False, True, True, True], x=[False, False, False, True, True, False]), [115]), (Pauli(z=[False, False, False, False, False, True], x=[False, False, False, True, True, False]), [116]), (Pauli(z=[False, False, False, False, True, True], x=[False, False, False, False, False, False]), [117])]\n"
     ]
    }
   ],
   "source": [
    "def get_qubit_op(dist):\n",
    "    freeze_list = [0]\n",
    "    remove_list = [-3, -2]\n",
    "    driver = PySCFDriver(atom=\"Li .0 .0 .0; H .0 .0 \" + str(dist), unit=UnitsType.ANGSTROM, \n",
    "                         charge=0, spin=0, basis='sto3g')\n",
    "    molecule = driver.run()\n",
    "    \n",
    "    ## create lists of orbitals to either freeze or remove when the fermionic operator is constructed\n",
    "    num_orbitals = molecule.num_orbitals\n",
    "    remove_list = [x % num_orbitals for x in remove_list]\n",
    "    freeze_list = [x % num_orbitals for x in freeze_list]\n",
    "    remove_list = [x - len(freeze_list) for x in remove_list]\n",
    "    remove_list += [x + num_orbitals - len(freeze_list)  for x in remove_list]\n",
    "    freeze_list += [x + num_orbitals for x in freeze_list]\n",
    "    \n",
    "    ## create fermionic operator with frozen and elimnated modes\n",
    "    ferOp = FermionicOperator(h1=molecule.one_body_integrals, h2=molecule.two_body_integrals)\n",
    "    ferOp, energy_shift = ferOp.fermion_mode_freezing(freeze_list)\n",
    "    ferOp = ferOp.fermion_mode_elimination(remove_list)    \n",
    "        \n",
    "    ## calculate number of particles and spin orbitals \n",
    "    num_particles = molecule.num_alpha + molecule.num_beta\n",
    "    num_spin_orbitals = molecule.num_orbitals * 2\n",
    "    num_spin_orbitals -= len(freeze_list)\n",
    "    num_spin_orbitals -= len(remove_list)\n",
    "    num_particles -= len(freeze_list)\n",
    "   \n",
    "    qubitOp = ferOp.mapping(map_type='jordan_wigner', threshold=0.00000001)\n",
    "    print(dir(qubitOp))\n",
    "    print(qubitOp.basis)\n",
    "    qubitOp = Z2Symmetries.two_qubit_reduction(qubitOp, num_particles)\n",
    "    shift = energy_shift + molecule.nuclear_repulsion_energy\n",
    "    return qubitOp, num_particles, num_spin_orbitals, shift\n",
    "    \n",
    "    #print(dir(molecule))\n",
    "    \n",
    "    #print(\"nuclear_repulsion_energy = \", repulsion_energy)\n",
    "    #print(\"num_particles =\", num_particles)\n",
    "    #print(\"num_orbitals = \", num_spin_orbitals)\n",
    "    #print(\"remove_list = \", remove_list)\n",
    "    #print(\"freeze_list = \", freeze_list)\n",
    "    #print(\"len(freeze_list) = \", len(freeze_list))\n",
    "    #print(\"ferOp = \", ferOp)\n",
    "    #print(\"energy_shift = \", energy_shift)\n",
    "    #print(dir(qubitOp)) \n",
    "dist = 0.5\n",
    "qubitOp, num_particles, num_spin_orbitals, shift = get_qubit_op(dist)\n"
   ]
  },
  {
   "cell_type": "code",
   "execution_count": 5,
   "metadata": {},
   "outputs": [
    {
     "name": "stdout",
     "output_type": "stream",
     "text": [
      "num_orbitals =  6\n"
     ]
    }
   ],
   "source": [
    "\n"
   ]
  },
  {
   "cell_type": "code",
   "execution_count": null,
   "metadata": {},
   "outputs": [],
   "source": []
  },
  {
   "cell_type": "code",
   "execution_count": null,
   "metadata": {},
   "outputs": [],
   "source": [
    "backend = BasicAer.get_backend(\"statevector_simulator\")\n",
    "#distances = np.arange(0.5, 4.0, 0.1)\n",
    "distances = 0.5\n",
    "exact_energies = []\n",
    "vqe_energies = []\n",
    "optimizer = SLSQP(maxiter=5)\n",
    "\n",
    "for dist in distances:\n",
    "    qubitOp, num_particles, num_spin_orbitals, shift = get_qubit_op(dist)\n",
    "    result = ExactEigensolver(qubitOp).run()\n",
    "    exact_energies.append(result['energy'] + shift)\n",
    "    initial_state = HartreeFock(qubitOp.num_qubits,\n",
    "                                num_spin_orbitals,\n",
    "                                num_particles,\n",
    "                                'parity') \n",
    "    var_form = UCCSD(qubitOp.num_qubits,\n",
    "                     depth=1,\n",
    "                     num_orbitals=num_spin_orbitals,\n",
    "                     num_particles=num_particles,\n",
    "                     initial_state=initial_state,\n",
    "                     qubit_mapping='parity')\n",
    "    \n",
    "    vqe = VQE(qubitOp, var_form, optimizer)\n",
    "    results = vqe.run(backend)['energy'] + shift\n",
    "    vqe_energies.append(results)\n",
    "    print(\"Interatomic Distance:\", np.round(dist, 2), \"VQE Result:\", results, \"Exact Energy:\", exact_energies[-1])\n",
    "    \n",
    "print(\"All energies have been calculated\")"
   ]
  },
  {
   "cell_type": "code",
   "execution_count": null,
   "metadata": {},
   "outputs": [],
   "source": []
  }
 ],
 "metadata": {
  "kernelspec": {
   "display_name": "Python 3",
   "language": "python",
   "name": "python3"
  },
  "language_info": {
   "codemirror_mode": {
    "name": "ipython",
    "version": 3
   },
   "file_extension": ".py",
   "mimetype": "text/x-python",
   "name": "python",
   "nbconvert_exporter": "python",
   "pygments_lexer": "ipython3",
   "version": "3.7.3"
  }
 },
 "nbformat": 4,
 "nbformat_minor": 4
}

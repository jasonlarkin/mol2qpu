{
 "cells": [
  {
   "cell_type": "code",
   "execution_count": 77,
   "metadata": {},
   "outputs": [],
   "source": [
    "from IPython.core.interactiveshell import InteractiveShell \n",
    "InteractiveShell.ast_node_interactivity = \"all\"\n",
    "\n",
    "import numpy as np\n",
    "from qiskit.aqua.components.optimizers import COBYLA"
   ]
  },
  {
   "cell_type": "markdown",
   "metadata": {},
   "source": [
    "## VQE Example with Single Qubit Variational From\n",
    "Example from: https://qiskit.org/textbook/ch-applications/vqe-molecules.html\n",
    "\n",
    "\"We will now use the simple single qubit variational form to solve a problem similar to ground state energy estimation. Specifically, we are given a random probability vector  $\\overrightarrow{x}$ and wish to determine a possible parameterization for our single qubit variational form such that it outputs a probability distribution that is close to $\\overrightarrow{x}$ (where closeness is defined in terms of the Manhattan distance between the two probability vectors).\""
   ]
  },
  {
   "cell_type": "markdown",
   "metadata": {},
   "source": [
    "### Define Target Distribution\n",
    "we are measuring the probability of the 0 state and the 1 state, so each should be approximately 50/50. Therefore our target distribution is a length two vector with roughly 50% for each component because each number is chosen randomly from 0 to 1. "
   ]
  },
  {
   "cell_type": "code",
   "execution_count": 2,
   "metadata": {},
   "outputs": [
    {
     "data": {
      "text/plain": [
       "array([0.51357006, 0.48642994])"
      ]
     },
     "execution_count": 2,
     "metadata": {},
     "output_type": "execute_result"
    }
   ],
   "source": [
    "np.random.seed(999999)\n",
    "target_distr = np.random.rand(2)\n",
    "target_distr /= sum(target_distr)\n",
    "target_distr"
   ]
  },
  {
   "cell_type": "markdown",
   "metadata": {},
   "source": [
    "### Function for Creating Variational Form\n",
    "It's a circuit with 1 qubit, where the first qubit is acted on by a U3 gate with some input set of parameters."
   ]
  },
  {
   "cell_type": "code",
   "execution_count": 14,
   "metadata": {},
   "outputs": [],
   "source": [
    "from qiskit import QuantumCircuit, ClassicalRegister, QuantumRegister\n",
    "def get_var_form(params):\n",
    "    qr = QuantumRegister(1, name=\"q\")\n",
    "    cr = ClassicalRegister(1, name='c')\n",
    "    qc = QuantumCircuit(qr, cr)\n",
    "    qc.u3(params[0], params[1], params[2], qr[0])\n",
    "    #print(qc)\n",
    "    qc.measure(qr, cr[0])\n",
    "    #print(qc)\n",
    "    return qc"
   ]
  },
  {
   "cell_type": "markdown",
   "metadata": {},
   "source": [
    "### Specify Objective Function \n",
    "We define the objective function, which is the calculation of the quantity of interest, here it's just a cost function is the sum of the absolute value of the difference between the target distribution and the output distribution of the objective function. "
   ]
  },
  {
   "cell_type": "code",
   "execution_count": 46,
   "metadata": {},
   "outputs": [],
   "source": [
    "from qiskit import Aer, execute\n",
    "backend = Aer.get_backend(\"qasm_simulator\")\n",
    "num_shots = 100"
   ]
  },
  {
   "cell_type": "code",
   "execution_count": 6,
   "metadata": {},
   "outputs": [],
   "source": [
    "def get_probability_distribution(counts):\n",
    "    output_distr = [v/num_shots for v in counts.values()]\n",
    "    if len(output_distr) == 1:\n",
    "        output_distr.append(0)\n",
    "    return output_distr"
   ]
  },
  {
   "cell_type": "code",
   "execution_count": 75,
   "metadata": {},
   "outputs": [],
   "source": [
    "def objective_function(params):\n",
    "    # Obtain a quantum circuit instance from the parameters\n",
    "    qc = get_var_form(params)\n",
    "    #print(qc)\n",
    "    result = execute(qc, backend, shots=num_shots).result()\n",
    "    #print(dir(result))\n",
    "    #print(result.get_counts(qc))\n",
    "    output_distr = get_probability_distribution(result.get_counts(qc))\n",
    "    print(output_distr)\n",
    "    cost = sum([np.abs(output_distr[i] - target_distr[i]) for i in range(2)])\n",
    "    return cost\n"
   ]
  },
  {
   "cell_type": "code",
   "execution_count": 98,
   "metadata": {},
   "outputs": [
    {
     "name": "stdout",
     "output_type": "stream",
     "text": [
      "[0.47, 0.53]\n"
     ]
    },
    {
     "data": {
      "text/plain": [
       "0.0871401187388392"
      ]
     },
     "execution_count": 98,
     "metadata": {},
     "output_type": "execute_result"
    }
   ],
   "source": [
    "params = np.zeros(3)\n",
    "params[0] = 1.46209037\n",
    "params[1] = 1.564515\n",
    "params[2] = 0.34435917\n",
    "#array([1.46209037, 1.564515  , 0.34435917])\n",
    "test = objective_function(params)\n",
    "test"
   ]
  },
  {
   "cell_type": "code",
   "execution_count": 79,
   "metadata": {},
   "outputs": [],
   "source": [
    "# Initialize the COBYLA optimizer\n",
    "optimizer = COBYLA(maxiter=500, tol=0.001)"
   ]
  },
  {
   "cell_type": "code",
   "execution_count": 102,
   "metadata": {},
   "outputs": [
    {
     "name": "stdout",
     "output_type": "stream",
     "text": [
      "[0.75, 0.25]\n",
      "[0.31, 0.69]\n",
      "[0.26, 0.74]\n",
      "[0.31, 0.69]\n",
      "[0.12, 0.88]\n",
      "[0.21, 0.79]\n",
      "[0.39, 0.61]\n",
      "[0.56, 0.44]\n",
      "[0.66, 0.34]\n",
      "[0.6, 0.4]\n",
      "[0.63, 0.37]\n",
      "[0.62, 0.38]\n",
      "[0.64, 0.36]\n",
      "[0.55, 0.45]\n",
      "[0.6, 0.4]\n",
      "[0.6, 0.4]\n",
      "[0.51, 0.49]\n",
      "[0.43, 0.57]\n",
      "[0.47, 0.53]\n",
      "[0.56, 0.44]\n",
      "[0.55, 0.45]\n",
      "[0.41, 0.59]\n",
      "[0.55, 0.45]\n",
      "[0.56, 0.44]\n",
      "[0.51, 0.49]\n",
      "[0.45, 0.55]\n",
      "[0.47, 0.53]\n",
      "[0.54, 0.46]\n",
      "[0.5, 0.5]\n",
      "[0.6, 0.4]\n",
      "[0.51, 0.49]\n"
     ]
    }
   ],
   "source": [
    "params = np.random.rand(3)\n",
    "ret = optimizer.optimize(num_vars=3, objective_function=objective_function, initial_point=params)"
   ]
  },
  {
   "cell_type": "code",
   "execution_count": 110,
   "metadata": {},
   "outputs": [
    {
     "data": {
      "text/plain": [
       "array([1.57432471, 0.24493779, 0.54862615])"
      ]
     },
     "execution_count": 110,
     "metadata": {},
     "output_type": "execute_result"
    },
    {
     "data": {
      "text/plain": [
       "0.00714011873883913"
      ]
     },
     "execution_count": 110,
     "metadata": {},
     "output_type": "execute_result"
    },
    {
     "data": {
      "text/plain": [
       "31"
      ]
     },
     "execution_count": 110,
     "metadata": {},
     "output_type": "execute_result"
    }
   ],
   "source": [
    "ret[0]\n",
    "ret[1]\n",
    "ret[2]"
   ]
  },
  {
   "cell_type": "markdown",
   "metadata": {},
   "source": [
    "`ret[0]` is a 1D numpy.ndarray containing the optimal parameters\n",
    "\n",
    "`ret[1]` is a float with the objective function value (cost in this case)\n",
    "\n",
    "`ret[2]` number of objective function calls made if available\n",
    "\n",
    "And now that we have our optimized parameters, we can calculate how close the measurement of the variational form with these parameters is to the target distribution. "
   ]
  },
  {
   "cell_type": "code",
   "execution_count": 112,
   "metadata": {},
   "outputs": [
    {
     "name": "stdout",
     "output_type": "stream",
     "text": [
      "        ┌────────────────────────────┐┌─┐\n",
      "q_0: |0>┤ U3(1.5743,0.24494,0.54863) ├┤M├\n",
      "        └────────────────────────────┘└╥┘\n",
      " c_0: 0 ═══════════════════════════════╩═\n",
      "                                         \n"
     ]
    }
   ],
   "source": [
    "qc = get_var_form(ret[0])\n",
    "print(qc)"
   ]
  },
  {
   "cell_type": "code",
   "execution_count": 114,
   "metadata": {},
   "outputs": [
    {
     "name": "stdout",
     "output_type": "stream",
     "text": [
      "Target Distribution: [0.51357006 0.48642994]\n",
      "Obtained Distribution: [0.49, 0.51]\n",
      "Output Error (Manhattan Distance): 0.00714011873883913\n",
      "Parameters Found: [1.57432471 0.24493779 0.54862615]\n"
     ]
    }
   ],
   "source": [
    "counts = execute(qc, backend, shots=num_shots).result().get_counts(qc)\n",
    "output_distr = get_probability_distribution(counts)\n",
    "\n",
    "print(\"Target Distribution:\", target_distr)\n",
    "print(\"Obtained Distribution:\", output_distr)\n",
    "print(\"Output Error (Manhattan Distance):\", ret[1])\n",
    "print(\"Parameters Found:\", ret[0])"
   ]
  }
 ],
 "metadata": {
  "kernelspec": {
   "display_name": "Python 3",
   "language": "python",
   "name": "python3"
  },
  "language_info": {
   "codemirror_mode": {
    "name": "ipython",
    "version": 3
   },
   "file_extension": ".py",
   "mimetype": "text/x-python",
   "name": "python",
   "nbconvert_exporter": "python",
   "pygments_lexer": "ipython3",
   "version": "3.7.3"
  }
 },
 "nbformat": 4,
 "nbformat_minor": 4
}

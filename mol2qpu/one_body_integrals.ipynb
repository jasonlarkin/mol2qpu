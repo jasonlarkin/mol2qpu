{
 "cells": [
  {
   "cell_type": "markdown",
   "metadata": {},
   "source": [
    "## One Body Integrals of Qiskit and PySCF"
   ]
  },
  {
   "cell_type": "code",
   "execution_count": 1,
   "metadata": {},
   "outputs": [
    {
     "name": "stderr",
     "output_type": "stream",
     "text": [
      "Numpy 1.16 has memory leak bug  https://github.com/numpy/numpy/issues/13808\n",
      "It is recommended to downgrade to numpy 1.15 or older\n"
     ]
    }
   ],
   "source": [
    "import numpy as np\n",
    "import pylab\n",
    "from pyscf import gto, scf, dft\n",
    "from qiskit.chemistry.drivers import PySCFDriver, UnitsType\n",
    "from IPython.core.interactiveshell import InteractiveShell \n",
    "InteractiveShell.ast_node_interactivity = \"all\""
   ]
  },
  {
   "cell_type": "markdown",
   "metadata": {},
   "source": [
    "Calcs here in units of:\n",
    "Angstrom\n",
    "\n",
    "Calcs in Szabo & Ostlund in units of:\n",
    "AU (Bohr)\n",
    "\n",
    "Conversion:\n",
    "1 AU = 0.5291772083"
   ]
  },
  {
   "cell_type": "markdown",
   "metadata": {},
   "source": [
    "### Define Molecule\n",
    "The PySCFDriver function relies on functions in PySCF to calculate the one-body integrals.  When they come out of the driver function, they are not in the right basis yet for use in the second-quantized Hamiltonian. "
   ]
  },
  {
   "cell_type": "code",
   "execution_count": 2,
   "metadata": {},
   "outputs": [],
   "source": [
    "molecule = 'H .0 .0 -0.3704; H .0 .0 0.3704'\n",
    "driver = PySCFDriver(molecule, basis='sto3g')\n",
    "qmolecule = driver.run()"
   ]
  },
  {
   "cell_type": "markdown",
   "metadata": {},
   "source": [
    "### One-Body Integrals in PySCF\n",
    "`mo_coeff` comes directly from the PySCF function as shown here:"
   ]
  },
  {
   "cell_type": "code",
   "execution_count": 13,
   "metadata": {},
   "outputs": [
    {
     "name": "stdout",
     "output_type": "stream",
     "text": [
      "converged SCF energy = -1.11671690917341\n"
     ]
    },
    {
     "name": "stderr",
     "output_type": "stream",
     "text": [
      "Warning: <pyscf.gto.mole.Mole object at 0x7f2b6a2182e8> must be initialized before calling SCF.\n",
      "Initialize <pyscf.gto.mole.Mole object at 0x7f2b6a2182e8> in <pyscf.scf.hf.RHF object at 0x7f2b6a1bc748>\n"
     ]
    },
    {
     "data": {
      "text/plain": [
       "-1.1167169091734095"
      ]
     },
     "execution_count": 13,
     "metadata": {},
     "output_type": "execute_result"
    },
    {
     "name": "stdout",
     "output_type": "stream",
     "text": [
      "[[ 0.54892884  1.21152003]\n",
      " [ 0.54892884 -1.21152003]]\n"
     ]
    },
    {
     "data": {
      "text/plain": [
       "pyscf.scf.hf.RHF"
      ]
     },
     "execution_count": 13,
     "metadata": {},
     "output_type": "execute_result"
    }
   ],
   "source": [
    "test_mol = gto.Mole()\n",
    "test_mol.atom = [['H', (0.7408, 0., 0.)], ['H', (0.,0.,0.)]]\n",
    "test = scf.hf.RHF(test_mol)\n",
    "test.kernel()\n",
    "print(test.mo_coeff)\n",
    "#print(test.get_hcore())\n",
    "type(test)"
   ]
  },
  {
   "cell_type": "markdown",
   "metadata": {},
   "source": [
    "#### What Qiming said: \n",
    "Dear Catherine,\n",
    "\n",
    "mo_coeff is short for molecular orbital (MO) coefficients. The one body Hamiltonian in atomic orbital basis can be obtained\n",
    "\n",
    "`h_ao = test.get_hcore()`\n",
    "\n",
    "In most cases, you would need the one-body Hamiltonian in MO basis\n",
    "\n",
    "`h_mo = test.mo_coeff.T.dot(test.get_hcore()).dot(test.mo_coeff)`\n",
    "\n",
    "The Hamiltonian from Qiskit is likely a representation of the one-body Hamiltonian in N-body basis. It needs some transformation or direct product of based on h_mo depending the convention of the N-body basis of Qiskit.\n",
    "\n",
    "Best,\n",
    "Qiming Sun\n"
   ]
  },
  {
   "cell_type": "code",
   "execution_count": 14,
   "metadata": {},
   "outputs": [
    {
     "data": {
      "text/plain": [
       "array([[-1.12044021, -0.95843642],\n",
       "       [-0.95843642, -1.12044021]])"
      ]
     },
     "execution_count": 14,
     "metadata": {},
     "output_type": "execute_result"
    },
    {
     "data": {
      "text/plain": [
       "array([[-1.25282613e+00, -4.20539999e-17],\n",
       "       [ 9.89338352e-18, -4.75572084e-01]])"
      ]
     },
     "execution_count": 14,
     "metadata": {},
     "output_type": "execute_result"
    }
   ],
   "source": [
    "h_ao = test.get_hcore()\n",
    "h_ao\n",
    "\n",
    "h_mo = test.mo_coeff.T.dot(test.get_hcore()).dot(test.mo_coeff)\n",
    "h_mo"
   ]
  },
  {
   "cell_type": "markdown",
   "metadata": {},
   "source": [
    "### One-Body Integrals in Qiskit\n",
    "Qiskit takes it further by converting the `mo_coeff` of PySCF into the so-called 'spin-orbital basis'. According to folks on Qiskit, it is this basis that the integrals must be in to become the input for the one and two-body integrals of the second quantized Hamiltonian. We see in the cell below, that at this point, the Qiskit output is exactly the same as the PySCF output. "
   ]
  },
  {
   "cell_type": "code",
   "execution_count": 5,
   "metadata": {},
   "outputs": [
    {
     "data": {
      "text/plain": [
       "array([[ 0.54892884,  1.21152003],\n",
       "       [ 0.54892884, -1.21152003]])"
      ]
     },
     "execution_count": 5,
     "metadata": {},
     "output_type": "execute_result"
    }
   ],
   "source": [
    "#dir(qmolecule)\n",
    "qmolecule.mo_coeff\n",
    "#qmolecule.mo_coeff_b\n",
    "#qmolecule.mo_onee_ints_b"
   ]
  },
  {
   "cell_type": "markdown",
   "metadata": {},
   "source": [
    "In what follows below, he use the code from the `integrals.py` script in Qiskit, taken from Github: https://github.com/Qiskit/qiskit-aqua/blob/master/qiskit/chemistry/drivers/pyscfd/integrals.py"
   ]
  },
  {
   "cell_type": "code",
   "execution_count": 15,
   "metadata": {},
   "outputs": [
    {
     "data": {
      "text/plain": [
       "False"
      ]
     },
     "execution_count": 15,
     "metadata": {},
     "output_type": "execute_result"
    },
    {
     "data": {
      "text/plain": [
       "2"
      ]
     },
     "execution_count": 15,
     "metadata": {},
     "output_type": "execute_result"
    }
   ],
   "source": [
    "isinstance(qmolecule.mo_coeff, tuple)\n",
    "len(qmolecule.mo_coeff.shape) \n",
    "## so therefore these definitons are made (see integrals.py for if/then statement)\n",
    "mo_coeff = qmolecule.mo_coeff\n",
    "mo_coeff_b = None"
   ]
  },
  {
   "cell_type": "code",
   "execution_count": 16,
   "metadata": {},
   "outputs": [
    {
     "data": {
      "text/plain": [
       "array([[-1.12044021, -0.95843642],\n",
       "       [-0.95843642, -1.12044021]])"
      ]
     },
     "execution_count": 16,
     "metadata": {},
     "output_type": "execute_result"
    }
   ],
   "source": [
    "hij = scf.RHF(test_mol).get_hcore() ## qmolecule does not have 'get_hcore' attribute\n",
    "hij"
   ]
  },
  {
   "cell_type": "markdown",
   "metadata": {},
   "source": [
    "#### `mohij` are one body integrals in molecular orbital basis"
   ]
  },
  {
   "cell_type": "code",
   "execution_count": 17,
   "metadata": {},
   "outputs": [
    {
     "data": {
      "text/plain": [
       "array([[-1.25282613e+00, -4.20539999e-17],\n",
       "       [ 9.89338352e-18, -4.75572084e-01]])"
      ]
     },
     "execution_count": 17,
     "metadata": {},
     "output_type": "execute_result"
    }
   ],
   "source": [
    "mohij = np.dot(np.dot(mo_coeff.T, hij), mo_coeff)\n",
    "mohij\n",
    "\n"
   ]
  },
  {
   "cell_type": "code",
   "execution_count": null,
   "metadata": {},
   "outputs": [],
   "source": [
    "\n"
   ]
  },
  {
   "cell_type": "code",
   "execution_count": null,
   "metadata": {},
   "outputs": [],
   "source": []
  },
  {
   "cell_type": "markdown",
   "metadata": {},
   "source": [
    "#### These are inputs to `onee_to_spin`\n",
    "which are called by the `one_body_integrals` function\n",
    "\n",
    "The `onee_to_spin` function: \n",
    "\"Convert one-body MO integrals to spin orbital basis.\n",
    "Takes one body integrals in molecular orbital basis and returns integrals in spin orbitals ready for use as coefficients to one body terms 2nd quantized Hamiltonian.\""
   ]
  },
  {
   "cell_type": "code",
   "execution_count": 18,
   "metadata": {},
   "outputs": [],
   "source": [
    "mo_onee_ints = mohij\n",
    "mo_onee_ints_b = None"
   ]
  },
  {
   "cell_type": "code",
   "execution_count": 19,
   "metadata": {},
   "outputs": [],
   "source": [
    "one_body_integrals = qmolecule.onee_to_spin(mo_onee_ints, mo_onee_ints_b)"
   ]
  },
  {
   "cell_type": "code",
   "execution_count": 20,
   "metadata": {},
   "outputs": [
    {
     "data": {
      "text/plain": [
       "array([[-1.25282613,  0.        ,  0.        ,  0.        ],\n",
       "       [ 0.        , -0.47557208,  0.        ,  0.        ],\n",
       "       [ 0.        ,  0.        , -1.25282613,  0.        ],\n",
       "       [ 0.        ,  0.        ,  0.        , -0.47557208]])"
      ]
     },
     "execution_count": 20,
     "metadata": {},
     "output_type": "execute_result"
    },
    {
     "data": {
      "text/plain": [
       "array([[-1.25282613,  0.        ,  0.        ,  0.        ],\n",
       "       [ 0.        , -0.47557208,  0.        ,  0.        ],\n",
       "       [ 0.        ,  0.        , -1.25282613,  0.        ],\n",
       "       [ 0.        ,  0.        ,  0.        , -0.47557208]])"
      ]
     },
     "execution_count": 20,
     "metadata": {},
     "output_type": "execute_result"
    }
   ],
   "source": [
    "one_body_integrals\n",
    "qmolecule.one_body_integrals"
   ]
  },
  {
   "cell_type": "markdown",
   "metadata": {},
   "source": [
    "### OK so those go into 2nd quantized Hamiltonian...does pyscf not calculate them tho? Why does Qiskit have to do through all this to get them into this 'spin orbital basis'?"
   ]
  },
  {
   "cell_type": "code",
   "execution_count": 21,
   "metadata": {},
   "outputs": [],
   "source": [
    "def onee_to_spin(mohij, mohij_b=None, threshold=1E-12):\n",
    "        \"\"\"Convert one-body MO integrals to spin orbital basis\n",
    "\n",
    "        Takes one body integrals in molecular orbital basis and returns\n",
    "        integrals in spin orbitals ready for use as coefficients to\n",
    "        one body terms 2nd quantized Hamiltonian.\n",
    "\n",
    "        Args:\n",
    "            mohij (numpy.ndarray): One body orbitals in molecular basis (Alpha)\n",
    "            mohij_b (numpy.ndarray): One body orbitals in molecular basis (Beta)\n",
    "            threshold (float): Threshold value for assignments\n",
    "        Returns:\n",
    "            numpy.ndarray: One body integrals in spin orbitals\n",
    "        \"\"\"\n",
    "        if mohij_b is None:\n",
    "            mohij_b = mohij\n",
    "\n",
    "        # The number of spin orbitals is twice the number of orbitals\n",
    "        norbs = mohij.shape[0]\n",
    "        nspin_orbs = 2*norbs\n",
    "\n",
    "        # One electron terms\n",
    "        moh1_qubit = numpy.zeros([nspin_orbs, nspin_orbs])\n",
    "        for p in range(nspin_orbs):  # pylint: disable=invalid-name\n",
    "            for q in range(nspin_orbs):\n",
    "                spinp = int(p/norbs)\n",
    "                spinq = int(q/norbs)\n",
    "                if spinp % 2 != spinq % 2:\n",
    "                    continue\n",
    "                ints = mohij if spinp == 0 else mohij_b\n",
    "                orbp = int(p % norbs)\n",
    "                orbq = int(q % norbs)\n",
    "                if abs(ints[orbp, orbq]) > threshold:\n",
    "                    moh1_qubit[p, q] = ints[orbp, orbq]\n",
    "\n",
    "        return moh1_qubit"
   ]
  },
  {
   "cell_type": "code",
   "execution_count": 22,
   "metadata": {},
   "outputs": [
    {
     "name": "stdout",
     "output_type": "stream",
     "text": [
      "converged SCF energy = -1.11671690917341\n"
     ]
    },
    {
     "name": "stderr",
     "output_type": "stream",
     "text": [
      "Warning: <pyscf.gto.mole.Mole object at 0x7f2b6a1bca58> must be initialized before calling SCF.\n",
      "Initialize <pyscf.gto.mole.Mole object at 0x7f2b6a1bca58> in <pyscf.scf.hf.RHF object at 0x7f2b6a1bc6a0>\n"
     ]
    },
    {
     "data": {
      "text/plain": [
       "-1.1167169091734095"
      ]
     },
     "execution_count": 22,
     "metadata": {},
     "output_type": "execute_result"
    },
    {
     "data": {
      "text/plain": [
       "array([[ 0.54892884,  1.21152003],\n",
       "       [ 0.54892884, -1.21152003]])"
      ]
     },
     "execution_count": 22,
     "metadata": {},
     "output_type": "execute_result"
    },
    {
     "data": {
      "text/plain": [
       "array([[-1.25282613,  0.        ,  0.        ,  0.        ],\n",
       "       [ 0.        , -0.47557208,  0.        ,  0.        ],\n",
       "       [ 0.        ,  0.        , -1.25282613,  0.        ],\n",
       "       [ 0.        ,  0.        ,  0.        , -0.47557208]])"
      ]
     },
     "execution_count": 22,
     "metadata": {},
     "output_type": "execute_result"
    }
   ],
   "source": [
    "from pyscf import gto, scf\n",
    "\n",
    "## define molecule, H2 at 0.2 Angstrom\n",
    "test_mol = gto.Mole()\n",
    "test_mol.atom = [['H', (0.7408, 0., 0.)], ['H', (0.,0.,0.)]]\n",
    "test = scf.hf.RHF(test_mol)\n",
    "test.kernel()\n",
    "\n",
    "## construct 'one-body-integrals' for input to 2nd quantized Hamiltonian\n",
    "mo_coeff = qmolecule.mo_coeff\n",
    "hij = scf.RHF(test_mol).get_hcore()\n",
    "mohij = np.dot(np.dot(mo_coeff.T, hij), mo_coeff)\n",
    "mohij_b = None\n",
    "one_body_integrals = qmolecule.onee_to_spin(mohij, mohij_b)\n",
    "\n",
    "## integrals from PySCF\n",
    "mo_coeff\n",
    "## integrals from Qiskit\n",
    "one_body_integrals"
   ]
  }
 ],
 "metadata": {
  "kernelspec": {
   "display_name": "Python 3",
   "language": "python",
   "name": "python3"
  },
  "language_info": {
   "codemirror_mode": {
    "name": "ipython",
    "version": 3
   },
   "file_extension": ".py",
   "mimetype": "text/x-python",
   "name": "python",
   "nbconvert_exporter": "python",
   "pygments_lexer": "ipython3",
   "version": "3.6.8"
  }
 },
 "nbformat": 4,
 "nbformat_minor": 2
}

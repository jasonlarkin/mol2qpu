{
 "cells": [
  {
   "cell_type": "code",
   "execution_count": 1,
   "metadata": {},
   "outputs": [
    {
     "data": {
      "text/plain": [
       "{'qiskit-terra': '0.11.1',\n",
       " 'qiskit-aer': '0.3.4',\n",
       " 'qiskit-ignis': '0.2.0',\n",
       " 'qiskit-ibmq-provider': '0.4.5',\n",
       " 'qiskit-aqua': '0.6.2',\n",
       " 'qiskit': '0.14.1'}"
      ]
     },
     "execution_count": 1,
     "metadata": {},
     "output_type": "execute_result"
    }
   ],
   "source": [
    "from IPython.core.interactiveshell import InteractiveShell \n",
    "InteractiveShell.ast_node_interactivity = \"all\"\n",
    "import qiskit\n",
    "qiskit.__qiskit_version__"
   ]
  },
  {
   "cell_type": "markdown",
   "metadata": {},
   "source": [
    "## Molecule set-up"
   ]
  },
  {
   "cell_type": "code",
   "execution_count": 2,
   "metadata": {},
   "outputs": [],
   "source": [
    "import numpy as np\n",
    "import pylab\n",
    "from pyscf import gto, scf, dft\n",
    "from qiskit import BasicAer\n",
    "from qiskit.aqua import aqua_globals, QuantumInstance\n",
    "from qiskit.aqua.algorithms import ExactEigensolver, VQE\n",
    "from qiskit.aqua.components.optimizers import SPSA\n",
    "from qiskit.aqua.components.variational_forms import RYRZ\n",
    "from qiskit.chemistry.drivers import PySCFDriver, UnitsType\n",
    "from qiskit.chemistry.core import Hamiltonian, QubitMappingType, TransformationType\n",
    "from qiskit.aqua.input import EnergyInput\n",
    "\n",
    "## initialize some params for the outer loop - overall analysis\n",
    "#energies = np.empty([len(algorithms), steps+1])\n",
    "#hf_energies = np.empty(steps+1)\n",
    "#distances = np.empty(steps+1)\n",
    "#aqua_globals.random_seed = 750\n",
    "#steps = 0\n",
    "\n",
    "algorithms = [{'name': 'VQE'},\n",
    "              {'name': 'ExactEigensolver'}]\n",
    "molecule = 'H .0 .0 -{0}; H .0 .0 {0}'\n",
    "driver = PySCFDriver(molecule.format(0.25), basis='sto3g')\n",
    "\n",
    "###\n",
    "### build molecule object in Qiskit\n",
    "###\n",
    "qmolecule = driver.run()"
   ]
  },
  {
   "cell_type": "code",
   "execution_count": 4,
   "metadata": {},
   "outputs": [
    {
     "data": {
      "text/plain": [
       "array([[ 9.47964642e-01, -3.84542230e-01, -5.20455239e-02,\n",
       "         1.35012604e-17, -7.80874785e-17, -7.32739848e-01],\n",
       "       [-3.53908877e-02,  5.80910786e-01,  7.97379180e-01,\n",
       "        -1.03802989e-16,  2.17724005e-16, -9.44433506e-01],\n",
       "       [ 1.83389776e-19,  2.61628519e-18, -4.15373424e-16,\n",
       "         1.61935811e-01,  9.86801294e-01,  1.56558967e-18],\n",
       "       [-0.00000000e+00, -0.00000000e+00,  1.11022302e-16,\n",
       "         9.86801294e-01, -1.61935811e-01, -0.00000000e+00],\n",
       "       [-1.46091296e-02,  4.84887781e-01, -6.52892392e-01,\n",
       "         1.34394319e-17, -5.35797608e-16, -8.81410256e-01],\n",
       "       [ 1.08475456e-01,  3.73570666e-01, -2.33787311e-01,\n",
       "         2.15181517e-17,  5.58595507e-17,  1.69556060e+00]])"
      ]
     },
     "execution_count": 4,
     "metadata": {},
     "output_type": "execute_result"
    },
    {
     "data": {
      "text/plain": [
       "6"
      ]
     },
     "execution_count": 4,
     "metadata": {},
     "output_type": "execute_result"
    }
   ],
   "source": [
    "#len(qmolecule.mo_coeff)\n",
    "\n",
    "qmolecule.mo_coeff\n",
    "#qmolecule.one_body_integrals\n",
    "#qmolecule.two_body_integrals\n",
    "#qmolecule.hf_energy\n",
    "#qmolecule.nuclear_repulsion_energy\n",
    "#qmolecule.nuclear_dipole_moment\n",
    "#qmolecule.reverse_dipole_sign\n",
    "#qmolecule.core_orbitals\n",
    "#qmolecule.has_dipole_integrals\n",
    "qmolecule.num_orbitals\n",
    "#dir(qmolecule)"
   ]
  },
  {
   "cell_type": "code",
   "execution_count": null,
   "metadata": {},
   "outputs": [],
   "source": []
  },
  {
   "cell_type": "markdown",
   "metadata": {},
   "source": [
    "### No Orbital Reduction, Depth = 3, Full Entanglement"
   ]
  },
  {
   "cell_type": "code",
   "execution_count": 7,
   "metadata": {},
   "outputs": [
    {
     "name": "stdout",
     "output_type": "stream",
     "text": [
      "full\n",
      "parity\n",
      "True\n"
     ]
    },
    {
     "data": {
      "text/plain": [
       "False"
      ]
     },
     "execution_count": 7,
     "metadata": {},
     "output_type": "execute_result"
    }
   ],
   "source": [
    "operator =  Hamiltonian(transformation=TransformationType.FULL, # full or particle_hole\n",
    "                        qubit_mapping=QubitMappingType.PARITY,  # jordan_wigner, parity or bravyi_kitaev\n",
    "                        two_qubit_reduction=True)#,\n",
    "qubit_op, aux_ops = operator.run(qmolecule)\n",
    "\n",
    "#var_form = RYRZ(qubit_op.num_qubits, depth=3, entanglement='full')\n",
    "#var_circ = var_form.construct_circuit(np.zeros(var_form.num_parameters))\n",
    "\n",
    "#print(\"Num qubits = \", qubit_op.num_qubits)\n",
    "#print(\"Num gates = \", len(var_circ))\n",
    "#var_circ.draw(output='mpl')\n"
   ]
  },
  {
   "cell_type": "code",
   "execution_count": 10,
   "metadata": {},
   "outputs": [
    {
     "data": {
      "text/plain": [
       "False"
      ]
     },
     "execution_count": 10,
     "metadata": {},
     "output_type": "execute_result"
    },
    {
     "data": {
      "text/plain": [
       "[0]"
      ]
     },
     "execution_count": 10,
     "metadata": {},
     "output_type": "execute_result"
    },
    {
     "data": {
      "text/plain": [
       "[]"
      ]
     },
     "execution_count": 10,
     "metadata": {},
     "output_type": "execute_result"
    }
   ],
   "source": [
    "operator._freeze_core\n",
    "qmolecule.core_orbitals\n",
    "operator._orbital_reduction"
   ]
  },
  {
   "cell_type": "markdown",
   "metadata": {},
   "source": [
    "#### Inspecting 'run' function of class Hamiltonian"
   ]
  },
  {
   "cell_type": "code",
   "execution_count": 61,
   "metadata": {},
   "outputs": [],
   "source": [
    "self_hf_energy = qmolecule.hf_energy\n",
    "self_nuclear_repulsion_energy = qmolecule.nuclear_repulsion_energy\n",
    "self_nuclear_dipole_moment = qmolecule.nuclear_dipole_moment\n",
    "self_reverse_dipole_sign = qmolecule.reverse_dipole_sign\n",
    "self_freeze_core = operator._freeze_core\n",
    "self_orbital_reduction = operator._orbital_reduction\n",
    "core_list = qmolecule.core_orbitals if self_freeze_core else []\n",
    "reduce_list = self_orbital_reduction\n",
    "transformation = 'full'\n",
    "qubit_mapping = 'parity'\n",
    "two_qubit_reduction = True\n",
    "\n",
    "if self_freeze_core:\n",
    "    logger.info(\"Freeze_core specified. Core orbitals to be frozen: %s\", core_list)\n",
    "if reduce_list:\n",
    "    logger.info(\"Configured orbital reduction list: %s\", reduce_list)\n",
    "    reduce_list = [x + qmolecule.num_orbitals if x < 0 else x for x in reduce_list]\n",
    "\n",
    "freeze_list = []\n",
    "remove_list = []\n",
    "\n",
    "orbitals_list = list(set(core_list + reduce_list))\n",
    "num_alpha = qmolecule.num_alpha\n",
    "num_beta = qmolecule.num_beta\n",
    "new_num_alpha = num_alpha\n",
    "new_num_beta = num_beta"
   ]
  },
  {
   "cell_type": "code",
   "execution_count": 15,
   "metadata": {},
   "outputs": [],
   "source": [
    "if orbitals_list:\n",
    "    orbitals_list = np.array(orbitals_list)\n",
    "    orbitals_list = orbitals_list[(orbitals_list >= 0) &\n",
    "                                          (orbitals_list < qmolecule.num_orbitals)]\n",
    "\n",
    "    freeze_list_alpha = [i for i in orbitals_list if i < num_alpha]\n",
    "    freeze_list_beta = [i for i in orbitals_list if i < num_beta]\n",
    "    freeze_list = np.append(freeze_list_alpha,\n",
    "                                    [i + qmolecule.num_orbitals for i in freeze_list_beta])\n",
    "\n",
    "    remove_list_alpha = [i for i in orbitals_list if i >= num_alpha]\n",
    "    remove_list_beta = [i for i in orbitals_list if i >= num_beta]\n",
    "    rla_adjust = -len(freeze_list_alpha)\n",
    "    rlb_adjust = -len(freeze_list_alpha) - len(freeze_list_beta) + qmolecule.num_orbitals\n",
    "    remove_list = np.append([i + rla_adjust for i in remove_list_alpha],\n",
    "                                    [i + rlb_adjust for i in remove_list_beta])\n",
    "\n",
    "    new_num_alpha -= len(freeze_list_alpha)\n",
    "    new_num_beta -= len(freeze_list_beta)\n",
    "\n",
    "new_nel = [new_num_alpha, new_num_beta]"
   ]
  },
  {
   "cell_type": "code",
   "execution_count": 51,
   "metadata": {},
   "outputs": [
    {
     "data": {
      "text/plain": [
       "[2, 2]"
      ]
     },
     "execution_count": 51,
     "metadata": {},
     "output_type": "execute_result"
    },
    {
     "data": {
      "text/plain": [
       "[]"
      ]
     },
     "execution_count": 51,
     "metadata": {},
     "output_type": "execute_result"
    },
    {
     "data": {
      "text/plain": [
       "[]"
      ]
     },
     "execution_count": 51,
     "metadata": {},
     "output_type": "execute_result"
    }
   ],
   "source": [
    "new_nel\n",
    "freeze_list\n",
    "remove_list"
   ]
  },
  {
   "cell_type": "code",
   "execution_count": 18,
   "metadata": {},
   "outputs": [],
   "source": [
    "from qiskit.chemistry.fermionic_operator import FermionicOperator\n",
    "fer_op = FermionicOperator(h1=qmolecule.one_body_integrals, h2=qmolecule.two_body_integrals)\n",
    "# Args for FermionicOperator:\n",
    "#           h1 (numpy.ndarray): second-quantized fermionic one-body operator, a 2-D (NxN) tensor\n",
    "#           h2 (numpy.ndarray): second-quantized fermionic two-body operator,\n",
    "#                               a 4-D (NxNxNxN) tensor\n",
    "#           ph_trans_shift (float): energy shift caused by particle hole transformation"
   ]
  },
  {
   "cell_type": "code",
   "execution_count": 20,
   "metadata": {},
   "outputs": [],
   "source": [
    " #'_bravyi_kitaev_mode',  [function that needs to be invoked with input]\n",
    " #'_convert_to_block_spins',\n",
    " #'_convert_to_interleaved_spins',\n",
    " #'_h1_transform',   [function that needs to be invoked with input]\n",
    " #'_h2_transform',   [function that needs to be invoked with input]\n",
    " #'_jordan_wigner_mode', [function that needs to be invoked with input]\n",
    " #'_modes', [set in __init__ from inputs]\n",
    " #'_one_body_mapping',  [function that needs to be invoked with input]\n",
    " #'_parity_mode', [function that needs to be invoked with input]\n",
    " #'_two_body_mapping',   [invoked in 'mapping' function]\n",
    " #'fermion_mode_elimination', [function that needs to be invoked with input]\n",
    " #'fermion_mode_freezing',    [function that needs to be invoked with input]\n",
    " #'mapping', [function that needs to be invoked with input]\n",
    " #'particle_hole_transformation',   [function that needs to be invoked with input]\n",
    " #'total_angular_momentum',\n",
    " #'total_magnetization',\n",
    " #'total_particle_number',\n",
    " #'transform'\n",
    "\n",
    " #'_s_x_squared',\n",
    " #'_s_y_squared',\n",
    " #'_s_z_squared',\n",
    " #'h1',\n",
    " #'h2',"
   ]
  },
  {
   "cell_type": "code",
   "execution_count": 53,
   "metadata": {},
   "outputs": [
    {
     "data": {
      "text/plain": [
       "<qiskit.chemistry.fermionic_operator.FermionicOperator at 0x7f423b298518>"
      ]
     },
     "execution_count": 53,
     "metadata": {},
     "output_type": "execute_result"
    },
    {
     "data": {
      "text/plain": [
       "0.0"
      ]
     },
     "execution_count": 53,
     "metadata": {},
     "output_type": "execute_result"
    },
    {
     "data": {
      "text/plain": [
       "False"
      ]
     },
     "execution_count": 53,
     "metadata": {},
     "output_type": "execute_result"
    }
   ],
   "source": [
    "fer_op, _energy_shift, did_shift = Hamiltonian._try_reduce_fermionic_operator(fer_op, freeze_list, remove_list)\n",
    "\n",
    "fer_op\n",
    "_energy_shift\n",
    "did_shift"
   ]
  },
  {
   "cell_type": "code",
   "execution_count": 66,
   "metadata": {},
   "outputs": [
    {
     "name": "stdout",
     "output_type": "stream",
     "text": [
      "Converting to qubit using %s mapping parity\n"
     ]
    }
   ],
   "source": [
    "if did_shift:\n",
    "    logger.info(\"Frozen orbital energy shift: %s\", self._energy_shift)\n",
    "    \n",
    "if transformation == 'particle_hole':\n",
    "    fer_op, ph_shift = fer_op.particle_hole_transformation(new_nel)\n",
    "    self._ph_energy_shift = -ph_shift\n",
    "    logger.info(\"Particle hole energy shift: %s\", self._ph_energy_shift)\n",
    "\n",
    "print('Converting to qubit using %s mapping', qubit_mapping)\n",
    "qubit_op = Hamiltonian._map_fermionic_operator_to_qubit(fer_op, qubit_mapping, new_nel, two_qubit_reduction)"
   ]
  },
  {
   "cell_type": "code",
   "execution_count": 68,
   "metadata": {},
   "outputs": [
    {
     "data": {
      "text/plain": [
       "['__abstractmethods__',\n",
       " '__add__',\n",
       " '__class__',\n",
       " '__delattr__',\n",
       " '__dict__',\n",
       " '__dir__',\n",
       " '__doc__',\n",
       " '__eq__',\n",
       " '__format__',\n",
       " '__ge__',\n",
       " '__getattribute__',\n",
       " '__gt__',\n",
       " '__hash__',\n",
       " '__iadd__',\n",
       " '__init__',\n",
       " '__init_subclass__',\n",
       " '__isub__',\n",
       " '__le__',\n",
       " '__lt__',\n",
       " '__module__',\n",
       " '__mul__',\n",
       " '__ne__',\n",
       " '__neg__',\n",
       " '__new__',\n",
       " '__reduce__',\n",
       " '__reduce_ex__',\n",
       " '__repr__',\n",
       " '__rmul__',\n",
       " '__setattr__',\n",
       " '__sizeof__',\n",
       " '__slots__',\n",
       " '__str__',\n",
       " '__sub__',\n",
       " '__subclasshook__',\n",
       " '__weakref__',\n",
       " '_abc_impl',\n",
       " '_add_or_sub',\n",
       " '_aer_paulis',\n",
       " '_atol',\n",
       " '_basis',\n",
       " '_eval_directly',\n",
       " '_name',\n",
       " '_paulis',\n",
       " '_paulis_table',\n",
       " '_routine_compute_mean_and_var',\n",
       " '_scaling_weight',\n",
       " '_simplify_paulis',\n",
       " '_to_dia_matrix',\n",
       " '_z2_symmetries',\n",
       " 'add',\n",
       " 'aer_paulis',\n",
       " 'anticommute_with',\n",
       " 'atol',\n",
       " 'basis',\n",
       " 'chop',\n",
       " 'coloring',\n",
       " 'commute_with',\n",
       " 'construct_evaluation_circuit',\n",
       " 'construct_evolution_circuit',\n",
       " 'convert',\n",
       " 'copy',\n",
       " 'disable_summarize_circuits',\n",
       " 'enable_summarize_circuits',\n",
       " 'eval',\n",
       " 'evaluate_with_result',\n",
       " 'evaluate_with_statevector',\n",
       " 'evaluation_instruction',\n",
       " 'evolve',\n",
       " 'evolve_instruction',\n",
       " 'find_Z2_symmetries',\n",
       " 'from_dict',\n",
       " 'from_file',\n",
       " 'from_list',\n",
       " 'get_flat_pauli_list',\n",
       " 'is_empty',\n",
       " 'kernel_F2',\n",
       " 'load_from_dict',\n",
       " 'load_from_file',\n",
       " 'multiply',\n",
       " 'name',\n",
       " 'num_qubits',\n",
       " 'paulis',\n",
       " 'print_details',\n",
       " 'print_operators',\n",
       " 'qubit_tapering',\n",
       " 'reorder_paulis',\n",
       " 'representations',\n",
       " 'rounding',\n",
       " 'row_echelon_F2',\n",
       " 'save_to_dict',\n",
       " 'save_to_file',\n",
       " 'scaling_coeff',\n",
       " 'simplify',\n",
       " 'sub',\n",
       " 'to_dict',\n",
       " 'to_file',\n",
       " 'to_grouped_paulis',\n",
       " 'to_matrix',\n",
       " 'to_matrix_operator',\n",
       " 'to_paulis',\n",
       " 'to_tpb_grouped_weighted_pauli_operator',\n",
       " 'to_weighted_pauli_operator',\n",
       " 'two_qubit_reduced_operator',\n",
       " 'z2_symmetries',\n",
       " 'zeros_coeff_elimination']"
      ]
     },
     "execution_count": 68,
     "metadata": {},
     "output_type": "execute_result"
    }
   ],
   "source": [
    "dir(qubit_op)"
   ]
  },
  {
   "cell_type": "code",
   "execution_count": null,
   "metadata": {},
   "outputs": [],
   "source": [
    "print('  num paulis: %s, num qubits: %s', len(qubit_op.paulis), qubit_op.num_qubits)\n",
    "algo_input = EnergyInput(qubit_op)\n",
    "\n",
    "def _add_aux_op(aux_op):\n",
    "    algo_input.add_aux_op(Hamiltonian._map_fermionic_operator_to_qubit(aux_op, qubit_mapping, new_nel, two_qubit_reduction))\n",
    "    print('  num paulis: %s', len(algo_input.aux_ops[-1].paulis))\n",
    "\n",
    "print('Creating aux op for Number of Particles')\n",
    "_add_aux_op(fer_op.total_particle_number())\n",
    "\n",
    "print('Creating aux op for S^2')\n",
    "_add_aux_op(fer_op.total_angular_momentum())\n",
    "\n",
    "print('Creating aux op for Magnetization')\n",
    "_add_aux_op(fer_op.total_magnetization())"
   ]
  },
  {
   "cell_type": "code",
   "execution_count": null,
   "metadata": {},
   "outputs": [],
   "source": [
    "if qmolecule.has_dipole_integrals():\n",
    "    def _dipole_op(dipole_integrals, axis):\n",
    "        logger.debug('Creating aux op for dipole %s', axis)\n",
    "        fer_op_ = FermionicOperator(h1=dipole_integrals)\n",
    "        fer_op_, shift, did_shift_ = self._try_reduce_fermionic_operator(fer_op_,\n",
    "                                                                                 freeze_list,\n",
    "                                                                                 remove_list)\n",
    "        if did_shift_: \n",
    "            logger.info(\"Frozen orbital %s dipole shift: %s\", axis, shift)\n",
    "            ph_shift_ = 0.0\n",
    "        if self._transformation == TransformationType.PARTICLE_HOLE.value:\n",
    "            fer_op_, ph_shift_ = fer_op_.particle_hole_transformation(new_nel)\n",
    "            ph_shift_ = -ph_shift_\n",
    "            logger.info(\"Particle hole %s dipole shift: %s\", axis, ph_shift_)\n",
    "        qubit_op_ = self._map_fermionic_operator_to_qubit(fer_op_,\n",
    "                                                                  self._qubit_mapping,\n",
    "                                                                  new_nel,\n",
    "                                                                  self._two_qubit_reduction)\n",
    "        logger.debug('  num paulis: %s', len(qubit_op_.paulis))\n",
    "        return qubit_op_, shift, ph_shift_\n",
    "\n",
    "    op_dipole_x, self._x_dipole_shift, self._ph_x_dipole_shift = \\\n",
    "                _dipole_op(qmolecule.x_dipole_integrals, 'x')\n",
    "    op_dipole_y, self._y_dipole_shift, self._ph_y_dipole_shift = \\\n",
    "                _dipole_op(qmolecule.y_dipole_integrals, 'y')\n",
    "    op_dipole_z, self._z_dipole_shift, self._ph_z_dipole_shift = \\\n",
    "                _dipole_op(qmolecule.z_dipole_integrals, 'z')\n",
    "\n",
    "    algo_input.add_aux_op(op_dipole_x)\n",
    "    algo_input.add_aux_op(op_dipole_y)\n",
    "    algo_input.add_aux_op(op_dipole_z)\n",
    "\n",
    "logger.info('Molecule num electrons: %s, remaining for processing: %s',\n",
    "                    [num_alpha, num_beta], new_nel)\n",
    "nspinorbs = qmolecule.num_orbitals * 2\n",
    "new_nspinorbs = nspinorbs - len(freeze_list) - len(remove_list)\n",
    "logger.info('Molecule num spin orbitals: %s, remaining for processing: %s',\n",
    "                    nspinorbs, new_nspinorbs)\n",
    "\n",
    "self._add_molecule_info(self.INFO_NUM_PARTICLES, [new_num_alpha, new_num_beta])\n",
    "self._add_molecule_info(self.INFO_NUM_ORBITALS, new_nspinorbs)\n",
    "self._add_molecule_info(self.INFO_TWO_QUBIT_REDUCTION,\n",
    "                                self._two_qubit_reduction\n",
    "                                if self._qubit_mapping == 'parity' else False)\n",
    "\n",
    "logger.debug('Processing complete ready to run algorithm')\n",
    "return algo_input.qubit_op, algo_input.aux_ops"
   ]
  },
  {
   "cell_type": "markdown",
   "metadata": {},
   "source": [
    "### No Orbital Reduction, Depth = 5, Full Entanglement"
   ]
  },
  {
   "cell_type": "code",
   "execution_count": 26,
   "metadata": {},
   "outputs": [
    {
     "name": "stdout",
     "output_type": "stream",
     "text": [
      "Num qubits =  10\n",
      "Num gates =  806\n"
     ]
    }
   ],
   "source": [
    "var_form = RYRZ(qubit_op.num_qubits, depth=5, entanglement='full')\n",
    "var_circ = var_form.construct_circuit(np.zeros(var_form.num_parameters))\n",
    "print(\"Num qubits = \", qubit_op.num_qubits)\n",
    "print(\"Num gates = \", len(var_circ))\n",
    "#var_circ.draw(output='mpl')"
   ]
  },
  {
   "cell_type": "markdown",
   "metadata": {},
   "source": [
    "### No Orbital Reduction, Depth = 3, Linear Entanglement"
   ]
  },
  {
   "cell_type": "code",
   "execution_count": 27,
   "metadata": {},
   "outputs": [
    {
     "name": "stdout",
     "output_type": "stream",
     "text": [
      "Num qubits =  10\n",
      "Num gates =  168\n"
     ]
    }
   ],
   "source": [
    "var_form = RYRZ(qubit_op.num_qubits, depth=3, entanglement='linear')\n",
    "var_circ = var_form.construct_circuit(np.zeros(var_form.num_parameters))\n",
    "print(\"Num qubits = \", qubit_op.num_qubits)\n",
    "print(\"Num gates = \", len(var_circ))\n",
    "#var_circ.draw(output='mpl')"
   ]
  },
  {
   "cell_type": "markdown",
   "metadata": {},
   "source": [
    "### No Orbital Reduction, Depth = 5, Linear Entanglement"
   ]
  },
  {
   "cell_type": "code",
   "execution_count": 28,
   "metadata": {},
   "outputs": [
    {
     "name": "stdout",
     "output_type": "stream",
     "text": [
      "Num qubits =  10\n",
      "Num gates =  266\n"
     ]
    }
   ],
   "source": [
    "var_form = RYRZ(qubit_op.num_qubits, depth=5, entanglement='linear')\n",
    "var_circ = var_form.construct_circuit(np.zeros(var_form.num_parameters))\n",
    "print(\"Num qubits = \", qubit_op.num_qubits)\n",
    "print(\"Num gates = \", len(var_circ))\n",
    "#var_circ.draw(output='mpl')"
   ]
  },
  {
   "cell_type": "markdown",
   "metadata": {},
   "source": [
    "### Orbital Reduction, Depth = 3, Full Entanglement"
   ]
  },
  {
   "cell_type": "code",
   "execution_count": 5,
   "metadata": {},
   "outputs": [
    {
     "name": "stdout",
     "output_type": "stream",
     "text": [
      "Num qubits =  4\n",
      "Num gates =  93\n"
     ]
    }
   ],
   "source": [
    "#operator =  Hamiltonian(transformation=TransformationType.FULL, # full or particle_hole\n",
    "#                        qubit_mapping=QubitMappingType.PARITY,  # jordan_wigner, parity or bravyi_kitaev\n",
    "#                        two_qubit_reduction=True),\n",
    "#                        orbital_reduction=[-3, -2])\n",
    "    \n",
    "operator =  Hamiltonian(transformation=TransformationType.FULL,\n",
    "                        qubit_mapping=QubitMappingType.PARITY,\n",
    "                        two_qubit_reduction=True,\n",
    "                        freeze_core=True,\n",
    "                        orbital_reduction=[-3, -2])\n",
    "qubit_op, aux_ops = operator.run(qmolecule)\n",
    "var_form = RYRZ(qubit_op.num_qubits, depth=3, entanglement='full')\n",
    "var_circ = var_form.construct_circuit(np.zeros(var_form.num_parameters))\n",
    "optimizer = SPSA(max_trials=200)\n",
    "algo = VQE(qubit_op, var_form, optimizer)\n",
    "result = algo.run(QuantumInstance(BasicAer.get_backend('qasm_simulator'), seed_simulator=aqua_globals.random_seed,\n",
    "                                  seed_transpiler=aqua_globals.random_seed, shots=1))\n",
    "\n",
    "            \n",
    "lines, result = operator.process_algorithm_result(result)\n",
    "print(\"Num qubits = \", qubit_op.num_qubits)\n",
    "print(\"Num gates = \", len(var_circ))\n",
    "#var_circ.draw(output='mpl')"
   ]
  },
  {
   "cell_type": "code",
   "execution_count": 15,
   "metadata": {},
   "outputs": [
    {
     "data": {
      "text/plain": [
       "-7.0284100945419326"
      ]
     },
     "execution_count": 15,
     "metadata": {},
     "output_type": "execute_result"
    },
    {
     "data": {
      "text/plain": [
       "3.1750632655200004"
      ]
     },
     "execution_count": 15,
     "metadata": {},
     "output_type": "execute_result"
    },
    {
     "data": {
      "text/plain": [
       "array([ 0.        ,  0.        , -0.94486306])"
      ]
     },
     "execution_count": 15,
     "metadata": {},
     "output_type": "execute_result"
    },
    {
     "data": {
      "text/plain": [
       "True"
      ]
     },
     "execution_count": 15,
     "metadata": {},
     "output_type": "execute_result"
    },
    {
     "data": {
      "text/plain": [
       "[0]"
      ]
     },
     "execution_count": 15,
     "metadata": {},
     "output_type": "execute_result"
    },
    {
     "data": {
      "text/plain": [
       "10"
      ]
     },
     "execution_count": 15,
     "metadata": {},
     "output_type": "execute_result"
    },
    {
     "data": {
      "text/plain": [
       "492"
      ]
     },
     "execution_count": 15,
     "metadata": {},
     "output_type": "execute_result"
    }
   ],
   "source": [
    "\n",
    "qubit_op.num_qubits\n",
    "#dir(qubit_op)\n",
    "#dir(var_circ)\n",
    "#var_circ.swap\n",
    "#var_circ.__dict__\n",
    "len(var_circ)"
   ]
  },
  {
   "cell_type": "markdown",
   "metadata": {},
   "source": [
    "## VQE part"
   ]
  },
  {
   "cell_type": "code",
   "execution_count": null,
   "metadata": {},
   "outputs": [],
   "source": [
    "#optimizer = SPSA(max_trials=200)\n",
    "#algo = VQE(qubit_op, var_form, optimizer)\n",
    "#result = algo.run(QuantumInstance(BasicAer.get_backend('qasm_simulator'), seed_simulator=aqua_globals.random_seed,\n",
    "#                                  seed_transpiler=aqua_globals.random_seed, shots=1))\n",
    "     #   else:\n",
    "     #        result = ExactEigensolver(qubit_op).run()\n",
    "            \n",
    "#lines, result = operator.process_algorithm_result(result)\n",
    "    #energies[j][i] = result['energy']\n",
    "    #hf_energies[i] = result['hf_energy']\n",
    "    #distances[i] = d\n",
    "#print(' --- complete')\n",
    "\n",
    "#print('Distances: ', distances)\n",
    "#print('Energies:', energies)\n",
    "#print('Hartree-Fock energies:', hf_energies)"
   ]
  },
  {
   "cell_type": "code",
   "execution_count": 13,
   "metadata": {},
   "outputs": [],
   "source": [
    "#pylab.plot(distances, hf_energies, label='Hartree-Fock')\n",
    "#for j in range(len(algorithms)):\n",
    "#    pylab.plot(distances, energies[j], label=algorithms[j])\n",
    "#pylab.xlabel('Interatomic distance (Angstrom)')\n",
    "#pylab.ylabel('Energy (Hartree)')\n",
    "#pylab.title('H2 Ground State Energy')\n",
    "#pylab.legend(loc='upper right');"
   ]
  },
  {
   "cell_type": "code",
   "execution_count": 12,
   "metadata": {},
   "outputs": [],
   "source": [
    "#pylab.plot(distances, np.subtract(hf_energies, energies[1]), label='Hartree-Fock')\n",
    "#pylab.plot(distances, np.subtract(energies[0], energies[1]), label=algorithms[0])\n",
    "#pylab.xlabel('Interatomic distance (Angstrom)')\n",
    "#pylab.ylabel('Energy (Hartree)')\n",
    "#pylab.title('Energy difference from ExactEigensolver')\n",
    "#pylab.legend(loc='upper left');"
   ]
  }
 ],
 "metadata": {
  "kernelspec": {
   "display_name": "mol2qpu",
   "language": "python",
   "name": "python3"
  },
  "language_info": {
   "codemirror_mode": {
    "name": "ipython",
    "version": 3
   },
   "file_extension": ".py",
   "mimetype": "text/x-python",
   "name": "python",
   "nbconvert_exporter": "python",
   "pygments_lexer": "ipython3",
   "version": "3.8.2"
  }
 },
 "nbformat": 4,
 "nbformat_minor": 4
}

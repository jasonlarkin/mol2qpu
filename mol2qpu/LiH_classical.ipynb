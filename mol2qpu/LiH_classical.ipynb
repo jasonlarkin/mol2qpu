{
 "cells": [
  {
   "cell_type": "markdown",
   "metadata": {},
   "source": [
    "## LiH Dissociation Energy Curve with Classical Computation using PySCF \n",
    "Here we only use PySCF to calculate the LiH bond dissociation energy curve using different classical computational chemistry methods.\n"
   ]
  },
  {
   "cell_type": "code",
   "execution_count": 1,
   "metadata": {},
   "outputs": [
    {
     "name": "stderr",
     "output_type": "stream",
     "text": [
      "Numpy 1.16 has memory leak bug  https://github.com/numpy/numpy/issues/13808\n",
      "It is recommended to downgrade to numpy 1.15 or older\n"
     ]
    }
   ],
   "source": [
    "import numpy as np\n",
    "import pylab\n",
    "import matplotlib.pyplot as plt\n",
    "from pyscf import gto, scf, dft\n",
    "from IPython.core.interactiveshell import InteractiveShell \n",
    "InteractiveShell.ast_node_interactivity = \"all\""
   ]
  },
  {
   "cell_type": "markdown",
   "metadata": {},
   "source": [
    "### Define Molecule & Initializations\n",
    "Initialize arrays to store energies and distances for plots"
   ]
  },
  {
   "cell_type": "code",
   "execution_count": 14,
   "metadata": {},
   "outputs": [
    {
     "data": {
      "text/plain": [
       "<pyscf.gto.mole.Mole at 0x7fb1941a80b8>"
      ]
     },
     "execution_count": 14,
     "metadata": {},
     "output_type": "execute_result"
    },
    {
     "name": "stdout",
     "output_type": "stream",
     "text": [
      "(1, 1)\n",
      "2\n"
     ]
    }
   ],
   "source": [
    "xax = []       # rhf distances\n",
    "yax = []       # rhf energies\n",
    "xax_uhf = []   # uhf distances\n",
    "yax_uhf = []   # uhf energies\n",
    "xax_dft = []   # dft distances\n",
    "yax_dft = []   # dft energies\n",
    "\n",
    "#mol = gto.Mole(atom='Li .0 .0 -0.25; H .0 .0 0.25', \n",
    "#               unit='Angstrom', \n",
    "#               basis='sto3g')\n",
    "\n",
    "mol = gto.Mole()\n",
    "mol.atom = [['H', (0.2, 0., 0.)], ['H', (0.,0.,0.)]]\n",
    "mol.build()\n",
    "\n",
    "\n",
    "print(mol.nelec)\n",
    "print(mol.nelectron)\n",
    "\n",
    "\n",
    "#dir(mol)"
   ]
  },
  {
   "cell_type": "markdown",
   "metadata": {},
   "source": [
    "#### ... Looking at some things"
   ]
  },
  {
   "cell_type": "code",
   "execution_count": 35,
   "metadata": {},
   "outputs": [
    {
     "name": "stdout",
     "output_type": "stream",
     "text": [
      "converged SCF energy = 0.164175012061696\n"
     ]
    },
    {
     "data": {
      "text/plain": [
       "0.16417501206169627"
      ]
     },
     "execution_count": 35,
     "metadata": {},
     "output_type": "execute_result"
    },
    {
     "name": "stdout",
     "output_type": "stream",
     "text": [
      "[[ 0.50441808  3.78605257]\n",
      " [ 0.50441808 -3.78605257]]\n"
     ]
    },
    {
     "ename": "NameError",
     "evalue": "name 'array' is not defined",
     "output_type": "error",
     "traceback": [
      "\u001b[0;31m---------------------------------------------------------------------------\u001b[0m",
      "\u001b[0;31mNameError\u001b[0m                                 Traceback (most recent call last)",
      "\u001b[0;32m<ipython-input-35-43cb1b6cbb28>\u001b[0m in \u001b[0;36m<module>\u001b[0;34m\u001b[0m\n\u001b[1;32m      8\u001b[0m \u001b[0mprint\u001b[0m\u001b[0;34m(\u001b[0m\u001b[0mtest\u001b[0m\u001b[0;34m.\u001b[0m\u001b[0mmo_coeff\u001b[0m\u001b[0;34m)\u001b[0m\u001b[0;34m\u001b[0m\u001b[0;34m\u001b[0m\u001b[0m\n\u001b[1;32m      9\u001b[0m \u001b[0;34m\u001b[0m\u001b[0m\n\u001b[0;32m---> 10\u001b[0;31m print(array([[ 0.50441808,  3.78605257],\n\u001b[0m\u001b[1;32m     11\u001b[0m        [ 0.50441808, -3.78605257]]))\n",
      "\u001b[0;31mNameError\u001b[0m: name 'array' is not defined"
     ]
    }
   ],
   "source": [
    "#mol.atom\n",
    "#mol.atom[0][1][0]\n",
    "#mol.atom[0][1]\n",
    "\n",
    "test = scf.hf.RHF(mol)\n",
    "test.kernel()\n",
    "#dir(test)\n",
    "print(test.mo_coeff)\n",
    "\n",
    "array([[ 0.50441808,  3.78605257],\n",
    "       [ 0.50441808, -3.78605257]])"
   ]
  },
  {
   "cell_type": "code",
   "execution_count": 32,
   "metadata": {},
   "outputs": [
    {
     "name": "stdout",
     "output_type": "stream",
     "text": [
      "converged SCF energy = 2.71588739329275\n"
     ]
    },
    {
     "data": {
      "text/plain": [
       "2.7158873932927516"
      ]
     },
     "execution_count": 32,
     "metadata": {},
     "output_type": "execute_result"
    },
    {
     "name": "stdout",
     "output_type": "stream",
     "text": [
      "[ 0.50112407 -7.46920715]\n"
     ]
    }
   ],
   "source": [
    "test = scf.RHF(mol)\n",
    "test.kernel()\n",
    "print(test.mo_coeff[0])"
   ]
  },
  {
   "cell_type": "markdown",
   "metadata": {},
   "source": [
    "### RHF & UFH for range of energies"
   ]
  },
  {
   "cell_type": "code",
   "execution_count": 4,
   "metadata": {},
   "outputs": [
    {
     "name": "stdout",
     "output_type": "stream",
     "text": [
      "converged SCF energy = 2.80287805218654\n"
     ]
    },
    {
     "name": "stderr",
     "output_type": "stream",
     "text": [
      "Warning: <pyscf.gto.mole.Mole object at 0x7f7bf0402f98> must be initialized before calling SCF.\n",
      "Initialize <pyscf.gto.mole.Mole object at 0x7f7bf0402f98> in <pyscf.scf.hf.RHF object at 0x7f7bf041df60>\n"
     ]
    },
    {
     "data": {
      "text/plain": [
       "2.8028780521865357"
      ]
     },
     "execution_count": 4,
     "metadata": {},
     "output_type": "execute_result"
    },
    {
     "name": "stdout",
     "output_type": "stream",
     "text": [
      "converged SCF energy = 2.80287805218609  <S^2> = 6.4696692e-11  2S+1 = 1\n"
     ]
    },
    {
     "data": {
      "text/plain": [
       "2.80287805218609"
      ]
     },
     "execution_count": 4,
     "metadata": {},
     "output_type": "execute_result"
    },
    {
     "name": "stdout",
     "output_type": "stream",
     "text": [
      "converged SCF energy = -0.780454902071525\n"
     ]
    },
    {
     "data": {
      "text/plain": [
       "-0.7804549020715255"
      ]
     },
     "execution_count": 4,
     "metadata": {},
     "output_type": "execute_result"
    },
    {
     "name": "stdout",
     "output_type": "stream",
     "text": [
      "converged SCF energy = -0.780454902071526  <S^2> = 0  2S+1 = 1\n"
     ]
    },
    {
     "data": {
      "text/plain": [
       "-0.7804549020715259"
      ]
     },
     "execution_count": 4,
     "metadata": {},
     "output_type": "execute_result"
    },
    {
     "name": "stdout",
     "output_type": "stream",
     "text": [
      "radial grids: Gauss-Chebyshev (JCP, 108, 3226) radial grids\n",
      "becke partition: Becke, JCP, 88, 2547 (1988)\n",
      "pruning grids: None\n",
      "grids dens level: 3\n",
      "symmetrized grids: False\n",
      "User specified grid scheme (50, 194)\n",
      "tot grids = 19400\n",
      "converged SCF energy = -0.816348028511481\n"
     ]
    },
    {
     "data": {
      "text/plain": [
       "-0.8163480285114806"
      ]
     },
     "execution_count": 4,
     "metadata": {},
     "output_type": "execute_result"
    },
    {
     "name": "stdout",
     "output_type": "stream",
     "text": [
      "converged SCF energy = -1.1011282422677\n"
     ]
    },
    {
     "data": {
      "text/plain": [
       "-1.1011282422677013"
      ]
     },
     "execution_count": 4,
     "metadata": {},
     "output_type": "execute_result"
    },
    {
     "name": "stdout",
     "output_type": "stream",
     "text": [
      "converged SCF energy = -1.1011282422677  <S^2> = -4.4408921e-16  2S+1 = 1\n"
     ]
    },
    {
     "data": {
      "text/plain": [
       "-1.1011282422677013"
      ]
     },
     "execution_count": 4,
     "metadata": {},
     "output_type": "execute_result"
    },
    {
     "name": "stdout",
     "output_type": "stream",
     "text": [
      "radial grids: Gauss-Chebyshev (JCP, 108, 3226) radial grids\n",
      "becke partition: Becke, JCP, 88, 2547 (1988)\n",
      "pruning grids: None\n",
      "grids dens level: 3\n",
      "symmetrized grids: False\n",
      "User specified grid scheme (50, 194)\n",
      "tot grids = 19400\n",
      "converged SCF energy = -1.13923273858013\n"
     ]
    },
    {
     "data": {
      "text/plain": [
       "-1.139232738580125"
      ]
     },
     "execution_count": 4,
     "metadata": {},
     "output_type": "execute_result"
    },
    {
     "name": "stdout",
     "output_type": "stream",
     "text": [
      "converged SCF energy = -1.10251055392459\n"
     ]
    },
    {
     "data": {
      "text/plain": [
       "-1.1025105539245947"
      ]
     },
     "execution_count": 4,
     "metadata": {},
     "output_type": "execute_result"
    },
    {
     "name": "stdout",
     "output_type": "stream",
     "text": [
      "converged SCF energy = -1.10251055392459  <S^2> = 0  2S+1 = 1\n"
     ]
    },
    {
     "data": {
      "text/plain": [
       "-1.1025105539245947"
      ]
     },
     "execution_count": 4,
     "metadata": {},
     "output_type": "execute_result"
    },
    {
     "name": "stdout",
     "output_type": "stream",
     "text": [
      "radial grids: Gauss-Chebyshev (JCP, 108, 3226) radial grids\n",
      "becke partition: Becke, JCP, 88, 2547 (1988)\n",
      "pruning grids: None\n",
      "grids dens level: 3\n",
      "symmetrized grids: False\n",
      "User specified grid scheme (50, 194)\n",
      "tot grids = 19400\n",
      "converged SCF energy = -1.14841144738455\n"
     ]
    },
    {
     "data": {
      "text/plain": [
       "-1.1484114473845526"
      ]
     },
     "execution_count": 4,
     "metadata": {},
     "output_type": "execute_result"
    },
    {
     "name": "stdout",
     "output_type": "stream",
     "text": [
      "converged SCF energy = -1.03653887502918\n"
     ]
    },
    {
     "data": {
      "text/plain": [
       "-1.0365388750291795"
      ]
     },
     "execution_count": 4,
     "metadata": {},
     "output_type": "execute_result"
    },
    {
     "name": "stdout",
     "output_type": "stream",
     "text": [
      "converged SCF energy = -1.03653887502918  <S^2> = 2.220446e-16  2S+1 = 1\n"
     ]
    },
    {
     "data": {
      "text/plain": [
       "-1.0365388750291795"
      ]
     },
     "execution_count": 4,
     "metadata": {},
     "output_type": "execute_result"
    },
    {
     "name": "stdout",
     "output_type": "stream",
     "text": [
      "radial grids: Gauss-Chebyshev (JCP, 108, 3226) radial grids\n",
      "becke partition: Becke, JCP, 88, 2547 (1988)\n",
      "pruning grids: None\n",
      "grids dens level: 3\n",
      "symmetrized grids: False\n",
      "User specified grid scheme (50, 194)\n",
      "tot grids = 19400\n",
      "converged SCF energy = -1.09477439945451\n"
     ]
    },
    {
     "data": {
      "text/plain": [
       "-1.0947743994545083"
      ]
     },
     "execution_count": 4,
     "metadata": {},
     "output_type": "execute_result"
    },
    {
     "name": "stdout",
     "output_type": "stream",
     "text": [
      "converged SCF energy = -0.95720317507473\n"
     ]
    },
    {
     "data": {
      "text/plain": [
       "-0.9572031750747297"
      ]
     },
     "execution_count": 4,
     "metadata": {},
     "output_type": "execute_result"
    },
    {
     "name": "stdout",
     "output_type": "stream",
     "text": [
      "converged SCF energy = -0.95720317507473  <S^2> = 0  2S+1 = 1\n"
     ]
    },
    {
     "data": {
      "text/plain": [
       "-0.95720317507473"
      ]
     },
     "execution_count": 4,
     "metadata": {},
     "output_type": "execute_result"
    },
    {
     "name": "stdout",
     "output_type": "stream",
     "text": [
      "radial grids: Gauss-Chebyshev (JCP, 108, 3226) radial grids\n",
      "becke partition: Becke, JCP, 88, 2547 (1988)\n",
      "pruning grids: None\n",
      "grids dens level: 3\n",
      "symmetrized grids: False\n",
      "User specified grid scheme (50, 194)\n",
      "tot grids = 19400\n",
      "converged SCF energy = -1.03113563074805\n"
     ]
    },
    {
     "data": {
      "text/plain": [
       "-1.031135630748047"
      ]
     },
     "execution_count": 4,
     "metadata": {},
     "output_type": "execute_result"
    },
    {
     "name": "stdout",
     "output_type": "stream",
     "text": [
      "converged SCF energy = -0.881732449946056\n"
     ]
    },
    {
     "data": {
      "text/plain": [
       "-0.8817324499460559"
      ]
     },
     "execution_count": 4,
     "metadata": {},
     "output_type": "execute_result"
    },
    {
     "name": "stdout",
     "output_type": "stream",
     "text": [
      "converged SCF energy = -0.881732449946056  <S^2> = 6.6613381e-16  2S+1 = 1\n"
     ]
    },
    {
     "data": {
      "text/plain": [
       "-0.8817324499460559"
      ]
     },
     "execution_count": 4,
     "metadata": {},
     "output_type": "execute_result"
    },
    {
     "name": "stdout",
     "output_type": "stream",
     "text": [
      "radial grids: Gauss-Chebyshev (JCP, 108, 3226) radial grids\n",
      "becke partition: Becke, JCP, 88, 2547 (1988)\n",
      "pruning grids: None\n",
      "grids dens level: 3\n",
      "symmetrized grids: False\n",
      "User specified grid scheme (50, 194)\n",
      "tot grids = 19400\n",
      "converged SCF energy = -0.972720377229483\n"
     ]
    },
    {
     "data": {
      "text/plain": [
       "-0.9727203772294835"
      ]
     },
     "execution_count": 4,
     "metadata": {},
     "output_type": "execute_result"
    },
    {
     "name": "stdout",
     "output_type": "stream",
     "text": [
      "converged SCF energy = -0.816842292250873\n"
     ]
    },
    {
     "data": {
      "text/plain": [
       "-0.8168422922508728"
      ]
     },
     "execution_count": 4,
     "metadata": {},
     "output_type": "execute_result"
    },
    {
     "name": "stdout",
     "output_type": "stream",
     "text": [
      "converged SCF energy = -0.816842292250873  <S^2> = 0  2S+1 = 1\n"
     ]
    },
    {
     "data": {
      "text/plain": [
       "-0.816842292250873"
      ]
     },
     "execution_count": 4,
     "metadata": {},
     "output_type": "execute_result"
    },
    {
     "name": "stdout",
     "output_type": "stream",
     "text": [
      "radial grids: Gauss-Chebyshev (JCP, 108, 3226) radial grids\n",
      "becke partition: Becke, JCP, 88, 2547 (1988)\n",
      "pruning grids: None\n",
      "grids dens level: 3\n",
      "symmetrized grids: False\n",
      "User specified grid scheme (50, 194)\n",
      "tot grids = 19400\n",
      "converged SCF energy = -0.924351168276952\n"
     ]
    },
    {
     "data": {
      "text/plain": [
       "-0.9243511682769524"
      ]
     },
     "execution_count": 4,
     "metadata": {},
     "output_type": "execute_result"
    },
    {
     "name": "stdout",
     "output_type": "stream",
     "text": [
      "converged SCF energy = -0.764177651616797\n"
     ]
    },
    {
     "data": {
      "text/plain": [
       "-0.7641776516167966"
      ]
     },
     "execution_count": 4,
     "metadata": {},
     "output_type": "execute_result"
    },
    {
     "name": "stdout",
     "output_type": "stream",
     "text": [
      "converged SCF energy = -0.764177651616797  <S^2> = 0  2S+1 = 1\n"
     ]
    },
    {
     "data": {
      "text/plain": [
       "-0.7641776516167966"
      ]
     },
     "execution_count": 4,
     "metadata": {},
     "output_type": "execute_result"
    },
    {
     "name": "stdout",
     "output_type": "stream",
     "text": [
      "radial grids: Gauss-Chebyshev (JCP, 108, 3226) radial grids\n",
      "becke partition: Becke, JCP, 88, 2547 (1988)\n",
      "pruning grids: None\n",
      "grids dens level: 3\n",
      "symmetrized grids: False\n",
      "User specified grid scheme (50, 194)\n",
      "tot grids = 19400\n",
      "converged SCF energy = -0.886562250873291\n"
     ]
    },
    {
     "data": {
      "text/plain": [
       "-0.8865622508732913"
      ]
     },
     "execution_count": 4,
     "metadata": {},
     "output_type": "execute_result"
    },
    {
     "name": "stdout",
     "output_type": "stream",
     "text": [
      "converged SCF energy = -0.7229390719684\n"
     ]
    },
    {
     "data": {
      "text/plain": [
       "-0.7229390719684001"
      ]
     },
     "execution_count": 4,
     "metadata": {},
     "output_type": "execute_result"
    },
    {
     "name": "stdout",
     "output_type": "stream",
     "text": [
      "converged SCF energy = -0.7229390719684  <S^2> = 2.220446e-16  2S+1 = 1\n"
     ]
    },
    {
     "data": {
      "text/plain": [
       "-0.7229390719684003"
      ]
     },
     "execution_count": 4,
     "metadata": {},
     "output_type": "execute_result"
    },
    {
     "name": "stdout",
     "output_type": "stream",
     "text": [
      "radial grids: Gauss-Chebyshev (JCP, 108, 3226) radial grids\n",
      "becke partition: Becke, JCP, 88, 2547 (1988)\n",
      "pruning grids: None\n",
      "grids dens level: 3\n",
      "symmetrized grids: False\n",
      "User specified grid scheme (50, 194)\n",
      "tot grids = 19400\n",
      "converged SCF energy = -0.858153309872924\n"
     ]
    },
    {
     "data": {
      "text/plain": [
       "-0.8581533098729245"
      ]
     },
     "execution_count": 4,
     "metadata": {},
     "output_type": "execute_result"
    },
    {
     "name": "stdout",
     "output_type": "stream",
     "text": [
      "converged SCF energy = -0.691327561197377\n"
     ]
    },
    {
     "data": {
      "text/plain": [
       "-0.6913275611973775"
      ]
     },
     "execution_count": 4,
     "metadata": {},
     "output_type": "execute_result"
    },
    {
     "name": "stdout",
     "output_type": "stream",
     "text": [
      "converged SCF energy = -0.691327561197377  <S^2> = 0  2S+1 = 1\n"
     ]
    },
    {
     "data": {
      "text/plain": [
       "-0.691327561197377"
      ]
     },
     "execution_count": 4,
     "metadata": {},
     "output_type": "execute_result"
    },
    {
     "name": "stdout",
     "output_type": "stream",
     "text": [
      "radial grids: Gauss-Chebyshev (JCP, 108, 3226) radial grids\n",
      "becke partition: Becke, JCP, 88, 2547 (1988)\n",
      "pruning grids: None\n",
      "grids dens level: 3\n",
      "symmetrized grids: False\n",
      "User specified grid scheme (50, 194)\n",
      "tot grids = 19400\n",
      "converged SCF energy = -0.837336060688475\n"
     ]
    },
    {
     "data": {
      "text/plain": [
       "-0.8373360606884745"
      ]
     },
     "execution_count": 4,
     "metadata": {},
     "output_type": "execute_result"
    },
    {
     "name": "stdout",
     "output_type": "stream",
     "text": [
      "converged SCF energy = -0.667417245694688\n"
     ]
    },
    {
     "data": {
      "text/plain": [
       "-0.6674172456946882"
      ]
     },
     "execution_count": 4,
     "metadata": {},
     "output_type": "execute_result"
    },
    {
     "name": "stdout",
     "output_type": "stream",
     "text": [
      "converged SCF energy = -0.667417245694688  <S^2> = 0  2S+1 = 1\n"
     ]
    },
    {
     "data": {
      "text/plain": [
       "-0.6674172456946881"
      ]
     },
     "execution_count": 4,
     "metadata": {},
     "output_type": "execute_result"
    },
    {
     "name": "stdout",
     "output_type": "stream",
     "text": [
      "radial grids: Gauss-Chebyshev (JCP, 108, 3226) radial grids\n",
      "becke partition: Becke, JCP, 88, 2547 (1988)\n",
      "pruning grids: None\n",
      "grids dens level: 3\n",
      "symmetrized grids: False\n",
      "User specified grid scheme (50, 194)\n",
      "tot grids = 19400\n",
      "converged SCF energy = -0.822379453934063\n"
     ]
    },
    {
     "data": {
      "text/plain": [
       "-0.8223794539340628"
      ]
     },
     "execution_count": 4,
     "metadata": {},
     "output_type": "execute_result"
    },
    {
     "name": "stdout",
     "output_type": "stream",
     "text": [
      "converged SCF energy = -0.649505775890185\n"
     ]
    },
    {
     "data": {
      "text/plain": [
       "-0.6495057758901853"
      ]
     },
     "execution_count": 4,
     "metadata": {},
     "output_type": "execute_result"
    },
    {
     "name": "stdout",
     "output_type": "stream",
     "text": [
      "converged SCF energy = -0.649505775890185  <S^2> = -4.4408921e-16  2S+1 = 1\n"
     ]
    },
    {
     "data": {
      "text/plain": [
       "-0.6495057758901852"
      ]
     },
     "execution_count": 4,
     "metadata": {},
     "output_type": "execute_result"
    },
    {
     "name": "stdout",
     "output_type": "stream",
     "text": [
      "radial grids: Gauss-Chebyshev (JCP, 108, 3226) radial grids\n",
      "becke partition: Becke, JCP, 88, 2547 (1988)\n",
      "pruning grids: None\n",
      "grids dens level: 3\n",
      "symmetrized grids: False\n",
      "User specified grid scheme (50, 194)\n",
      "tot grids = 19400\n",
      "converged SCF energy = -0.811846710782311\n"
     ]
    },
    {
     "data": {
      "text/plain": [
       "-0.8118467107823112"
      ]
     },
     "execution_count": 4,
     "metadata": {},
     "output_type": "execute_result"
    },
    {
     "name": "stdout",
     "output_type": "stream",
     "text": [
      "converged SCF energy = -0.636152463434401\n"
     ]
    },
    {
     "data": {
      "text/plain": [
       "-0.6361524634344013"
      ]
     },
     "execution_count": 4,
     "metadata": {},
     "output_type": "execute_result"
    },
    {
     "name": "stdout",
     "output_type": "stream",
     "text": [
      "converged SCF energy = -0.636152463434401  <S^2> = 4.4408921e-16  2S+1 = 1\n"
     ]
    },
    {
     "data": {
      "text/plain": [
       "-0.6361524634344015"
      ]
     },
     "execution_count": 4,
     "metadata": {},
     "output_type": "execute_result"
    },
    {
     "name": "stdout",
     "output_type": "stream",
     "text": [
      "radial grids: Gauss-Chebyshev (JCP, 108, 3226) radial grids\n",
      "becke partition: Becke, JCP, 88, 2547 (1988)\n",
      "pruning grids: None\n",
      "grids dens level: 3\n",
      "symmetrized grids: False\n",
      "User specified grid scheme (50, 194)\n",
      "tot grids = 19400\n",
      "converged SCF energy = -0.804577218567662\n"
     ]
    },
    {
     "data": {
      "text/plain": [
       "-0.8045772185676624"
      ]
     },
     "execution_count": 4,
     "metadata": {},
     "output_type": "execute_result"
    },
    {
     "name": "stdout",
     "output_type": "stream",
     "text": [
      "converged SCF energy = -0.626159758066403\n"
     ]
    },
    {
     "data": {
      "text/plain": [
       "-0.6261597580664031"
      ]
     },
     "execution_count": 4,
     "metadata": {},
     "output_type": "execute_result"
    },
    {
     "name": "stdout",
     "output_type": "stream",
     "text": [
      "converged SCF energy = -0.626159758066403  <S^2> = 4.4408921e-16  2S+1 = 1\n"
     ]
    },
    {
     "data": {
      "text/plain": [
       "-0.6261597580664031"
      ]
     },
     "execution_count": 4,
     "metadata": {},
     "output_type": "execute_result"
    },
    {
     "name": "stdout",
     "output_type": "stream",
     "text": [
      "radial grids: Gauss-Chebyshev (JCP, 108, 3226) radial grids\n",
      "becke partition: Becke, JCP, 88, 2547 (1988)\n",
      "pruning grids: None\n",
      "grids dens level: 3\n",
      "symmetrized grids: False\n",
      "User specified grid scheme (50, 194)\n",
      "tot grids = 19400\n",
      "converged SCF energy = -0.799634095236864\n"
     ]
    },
    {
     "data": {
      "text/plain": [
       "-0.7996340952368644"
      ]
     },
     "execution_count": 4,
     "metadata": {},
     "output_type": "execute_result"
    },
    {
     "name": "stdout",
     "output_type": "stream",
     "text": [
      "converged SCF energy = -0.618573708294092\n"
     ]
    },
    {
     "data": {
      "text/plain": [
       "-0.6185737082940921"
      ]
     },
     "execution_count": 4,
     "metadata": {},
     "output_type": "execute_result"
    },
    {
     "name": "stdout",
     "output_type": "stream",
     "text": [
      "converged SCF energy = -0.618573708294092  <S^2> = -4.4408921e-16  2S+1 = 1\n"
     ]
    },
    {
     "data": {
      "text/plain": [
       "-0.6185737082940923"
      ]
     },
     "execution_count": 4,
     "metadata": {},
     "output_type": "execute_result"
    },
    {
     "name": "stdout",
     "output_type": "stream",
     "text": [
      "radial grids: Gauss-Chebyshev (JCP, 108, 3226) radial grids\n",
      "becke partition: Becke, JCP, 88, 2547 (1988)\n",
      "pruning grids: None\n",
      "grids dens level: 3\n",
      "symmetrized grids: False\n",
      "User specified grid scheme (50, 194)\n",
      "tot grids = 19400\n",
      "converged SCF energy = -0.79628689108605\n"
     ]
    },
    {
     "data": {
      "text/plain": [
       "-0.7962868910860501"
      ]
     },
     "execution_count": 4,
     "metadata": {},
     "output_type": "execute_result"
    },
    {
     "name": "stdout",
     "output_type": "stream",
     "text": [
      "converged SCF energy = -0.612677467222809\n"
     ]
    },
    {
     "data": {
      "text/plain": [
       "-0.6126774672228088"
      ]
     },
     "execution_count": 4,
     "metadata": {},
     "output_type": "execute_result"
    },
    {
     "name": "stdout",
     "output_type": "stream",
     "text": [
      "converged SCF energy = -0.612677467222809  <S^2> = -4.4408921e-16  2S+1 = 1\n"
     ]
    },
    {
     "data": {
      "text/plain": [
       "-0.6126774672228088"
      ]
     },
     "execution_count": 4,
     "metadata": {},
     "output_type": "execute_result"
    },
    {
     "name": "stdout",
     "output_type": "stream",
     "text": [
      "radial grids: Gauss-Chebyshev (JCP, 108, 3226) radial grids\n",
      "becke partition: Becke, JCP, 88, 2547 (1988)\n",
      "pruning grids: None\n",
      "grids dens level: 3\n",
      "symmetrized grids: False\n",
      "User specified grid scheme (50, 194)\n",
      "tot grids = 19400\n",
      "converged SCF energy = -0.793998910705766\n"
     ]
    },
    {
     "data": {
      "text/plain": [
       "-0.7939989107057661"
      ]
     },
     "execution_count": 4,
     "metadata": {},
     "output_type": "execute_result"
    },
    {
     "name": "stdout",
     "output_type": "stream",
     "text": [
      "converged SCF energy = -0.607960639251252\n"
     ]
    },
    {
     "data": {
      "text/plain": [
       "-0.6079606392512517"
      ]
     },
     "execution_count": 4,
     "metadata": {},
     "output_type": "execute_result"
    },
    {
     "name": "stdout",
     "output_type": "stream",
     "text": [
      "converged SCF energy = -0.607960639251252  <S^2> = 4.4408921e-16  2S+1 = 1\n"
     ]
    },
    {
     "data": {
      "text/plain": [
       "-0.6079606392512515"
      ]
     },
     "execution_count": 4,
     "metadata": {},
     "output_type": "execute_result"
    },
    {
     "name": "stdout",
     "output_type": "stream",
     "text": [
      "radial grids: Gauss-Chebyshev (JCP, 108, 3226) radial grids\n",
      "becke partition: Becke, JCP, 88, 2547 (1988)\n",
      "pruning grids: None\n",
      "grids dens level: 3\n",
      "symmetrized grids: False\n",
      "User specified grid scheme (50, 194)\n",
      "tot grids = 19400\n",
      "converged SCF energy = -0.792397469148484\n"
     ]
    },
    {
     "data": {
      "text/plain": [
       "-0.7923974691484843"
      ]
     },
     "execution_count": 4,
     "metadata": {},
     "output_type": "execute_result"
    },
    {
     "name": "stdout",
     "output_type": "stream",
     "text": [
      "converged SCF energy = -0.604073578627504\n"
     ]
    },
    {
     "data": {
      "text/plain": [
       "-0.6040735786275035"
      ]
     },
     "execution_count": 4,
     "metadata": {},
     "output_type": "execute_result"
    },
    {
     "name": "stdout",
     "output_type": "stream",
     "text": [
      "converged SCF energy = -0.604073578627504  <S^2> = 0  2S+1 = 1\n"
     ]
    },
    {
     "data": {
      "text/plain": [
       "-0.6040735786275035"
      ]
     },
     "execution_count": 4,
     "metadata": {},
     "output_type": "execute_result"
    },
    {
     "name": "stdout",
     "output_type": "stream",
     "text": [
      "radial grids: Gauss-Chebyshev (JCP, 108, 3226) radial grids\n",
      "becke partition: Becke, JCP, 88, 2547 (1988)\n",
      "pruning grids: None\n",
      "grids dens level: 3\n",
      "symmetrized grids: False\n",
      "User specified grid scheme (50, 194)\n",
      "tot grids = 19400\n",
      "converged SCF energy = -0.791237703957446\n"
     ]
    },
    {
     "data": {
      "text/plain": [
       "-0.7912377039574464"
      ]
     },
     "execution_count": 4,
     "metadata": {},
     "output_type": "execute_result"
    },
    {
     "name": "stdout",
     "output_type": "stream",
     "text": [
      "converged SCF energy = -0.600781734078478\n"
     ]
    },
    {
     "data": {
      "text/plain": [
       "-0.6007817340784777"
      ]
     },
     "execution_count": 4,
     "metadata": {},
     "output_type": "execute_result"
    },
    {
     "name": "stdout",
     "output_type": "stream",
     "text": [
      "converged SCF energy = -0.600781734078477  <S^2> = 0  2S+1 = 1\n"
     ]
    },
    {
     "data": {
      "text/plain": [
       "-0.6007817340784775"
      ]
     },
     "execution_count": 4,
     "metadata": {},
     "output_type": "execute_result"
    },
    {
     "name": "stdout",
     "output_type": "stream",
     "text": [
      "radial grids: Gauss-Chebyshev (JCP, 108, 3226) radial grids\n",
      "becke partition: Becke, JCP, 88, 2547 (1988)\n",
      "pruning grids: None\n",
      "grids dens level: 3\n",
      "symmetrized grids: False\n",
      "User specified grid scheme (50, 194)\n",
      "tot grids = 19400\n",
      "converged SCF energy = -0.790361480276365\n"
     ]
    },
    {
     "data": {
      "text/plain": [
       "-0.7903614802763653"
      ]
     },
     "execution_count": 4,
     "metadata": {},
     "output_type": "execute_result"
    },
    {
     "name": "stdout",
     "output_type": "stream",
     "text": [
      "converged SCF energy = -0.597928683110515\n"
     ]
    },
    {
     "data": {
      "text/plain": [
       "-0.5979286831105145"
      ]
     },
     "execution_count": 4,
     "metadata": {},
     "output_type": "execute_result"
    },
    {
     "name": "stdout",
     "output_type": "stream",
     "text": [
      "converged SCF energy = -0.597928683110514  <S^2> = 0  2S+1 = 1\n"
     ]
    },
    {
     "data": {
      "text/plain": [
       "-0.5979286831105143"
      ]
     },
     "execution_count": 4,
     "metadata": {},
     "output_type": "execute_result"
    },
    {
     "name": "stdout",
     "output_type": "stream",
     "text": [
      "radial grids: Gauss-Chebyshev (JCP, 108, 3226) radial grids\n",
      "becke partition: Becke, JCP, 88, 2547 (1988)\n",
      "pruning grids: None\n",
      "grids dens level: 3\n",
      "symmetrized grids: False\n",
      "User specified grid scheme (50, 194)\n",
      "tot grids = 19400\n",
      "converged SCF energy = -0.789670027110215\n"
     ]
    },
    {
     "data": {
      "text/plain": [
       "-0.7896700271102146"
      ]
     },
     "execution_count": 4,
     "metadata": {},
     "output_type": "execute_result"
    },
    {
     "name": "stdout",
     "output_type": "stream",
     "text": [
      "converged SCF energy = -0.595409560740627\n"
     ]
    },
    {
     "data": {
      "text/plain": [
       "-0.5954095607406272"
      ]
     },
     "execution_count": 4,
     "metadata": {},
     "output_type": "execute_result"
    },
    {
     "name": "stdout",
     "output_type": "stream",
     "text": [
      "converged SCF energy = -0.595409560740627  <S^2> = 0  2S+1 = 1\n"
     ]
    },
    {
     "data": {
      "text/plain": [
       "-0.5954095607406273"
      ]
     },
     "execution_count": 4,
     "metadata": {},
     "output_type": "execute_result"
    },
    {
     "name": "stdout",
     "output_type": "stream",
     "text": [
      "radial grids: Gauss-Chebyshev (JCP, 108, 3226) radial grids\n",
      "becke partition: Becke, JCP, 88, 2547 (1988)\n",
      "pruning grids: None\n",
      "grids dens level: 3\n",
      "symmetrized grids: False\n",
      "User specified grid scheme (50, 194)\n",
      "tot grids = 19400\n",
      "converged SCF energy = -0.789101145232769\n"
     ]
    },
    {
     "data": {
      "text/plain": [
       "-0.7891011452327686"
      ]
     },
     "execution_count": 4,
     "metadata": {},
     "output_type": "execute_result"
    },
    {
     "name": "stdout",
     "output_type": "stream",
     "text": [
      "converged SCF energy = -0.593153126489896\n"
     ]
    },
    {
     "data": {
      "text/plain": [
       "-0.5931531264898965"
      ]
     },
     "execution_count": 4,
     "metadata": {},
     "output_type": "execute_result"
    },
    {
     "name": "stdout",
     "output_type": "stream",
     "text": [
      "converged SCF energy = -0.593153126489897  <S^2> = 0  2S+1 = 1\n"
     ]
    },
    {
     "data": {
      "text/plain": [
       "-0.5931531264898967"
      ]
     },
     "execution_count": 4,
     "metadata": {},
     "output_type": "execute_result"
    },
    {
     "name": "stdout",
     "output_type": "stream",
     "text": [
      "radial grids: Gauss-Chebyshev (JCP, 108, 3226) radial grids\n",
      "becke partition: Becke, JCP, 88, 2547 (1988)\n",
      "pruning grids: None\n",
      "grids dens level: 3\n",
      "symmetrized grids: False\n",
      "User specified grid scheme (50, 194)\n",
      "tot grids = 19400\n",
      "converged SCF energy = -0.788615938975542\n"
     ]
    },
    {
     "data": {
      "text/plain": [
       "-0.7886159389755425"
      ]
     },
     "execution_count": 4,
     "metadata": {},
     "output_type": "execute_result"
    },
    {
     "name": "stdout",
     "output_type": "stream",
     "text": [
      "converged SCF energy = -0.591109989793387\n"
     ]
    },
    {
     "data": {
      "text/plain": [
       "-0.591109989793387"
      ]
     },
     "execution_count": 4,
     "metadata": {},
     "output_type": "execute_result"
    },
    {
     "name": "stdout",
     "output_type": "stream",
     "text": [
      "converged SCF energy = -0.591109989793387  <S^2> = 4.4408921e-16  2S+1 = 1\n"
     ]
    },
    {
     "data": {
      "text/plain": [
       "-0.5911099897933868"
      ]
     },
     "execution_count": 4,
     "metadata": {},
     "output_type": "execute_result"
    },
    {
     "name": "stdout",
     "output_type": "stream",
     "text": [
      "radial grids: Gauss-Chebyshev (JCP, 108, 3226) radial grids\n",
      "becke partition: Becke, JCP, 88, 2547 (1988)\n",
      "pruning grids: None\n",
      "grids dens level: 3\n",
      "symmetrized grids: False\n",
      "User specified grid scheme (50, 194)\n",
      "tot grids = 19400\n",
      "converged SCF energy = -0.788190314044799\n"
     ]
    },
    {
     "data": {
      "text/plain": [
       "-0.7881903140447991"
      ]
     },
     "execution_count": 4,
     "metadata": {},
     "output_type": "execute_result"
    },
    {
     "name": "stdout",
     "output_type": "stream",
     "text": [
      "converged SCF energy = -0.589244954191382\n"
     ]
    },
    {
     "data": {
      "text/plain": [
       "-0.5892449541913816"
      ]
     },
     "execution_count": 4,
     "metadata": {},
     "output_type": "execute_result"
    },
    {
     "name": "stdout",
     "output_type": "stream",
     "text": [
      "converged SCF energy = -0.589244954191381  <S^2> = 0  2S+1 = 1\n"
     ]
    },
    {
     "data": {
      "text/plain": [
       "-0.5892449541913815"
      ]
     },
     "execution_count": 4,
     "metadata": {},
     "output_type": "execute_result"
    },
    {
     "name": "stdout",
     "output_type": "stream",
     "text": [
      "radial grids: Gauss-Chebyshev (JCP, 108, 3226) radial grids\n",
      "becke partition: Becke, JCP, 88, 2547 (1988)\n",
      "pruning grids: None\n",
      "grids dens level: 3\n",
      "symmetrized grids: False\n",
      "User specified grid scheme (50, 194)\n",
      "tot grids = 19400\n",
      "converged SCF energy = -0.787809407257908\n"
     ]
    },
    {
     "data": {
      "text/plain": [
       "-0.7878094072579084"
      ]
     },
     "execution_count": 4,
     "metadata": {},
     "output_type": "execute_result"
    },
    {
     "name": "stdout",
     "output_type": "stream",
     "text": [
      "converged SCF energy = -0.587532071908982\n"
     ]
    },
    {
     "data": {
      "text/plain": [
       "-0.5875320719089825"
      ]
     },
     "execution_count": 4,
     "metadata": {},
     "output_type": "execute_result"
    },
    {
     "name": "stdout",
     "output_type": "stream",
     "text": [
      "converged SCF energy = -0.587532071908982  <S^2> = -4.4408921e-16  2S+1 = 1\n"
     ]
    },
    {
     "data": {
      "text/plain": [
       "-0.5875320719089825"
      ]
     },
     "execution_count": 4,
     "metadata": {},
     "output_type": "execute_result"
    },
    {
     "name": "stdout",
     "output_type": "stream",
     "text": [
      "radial grids: Gauss-Chebyshev (JCP, 108, 3226) radial grids\n",
      "becke partition: Becke, JCP, 88, 2547 (1988)\n",
      "pruning grids: None\n",
      "grids dens level: 3\n",
      "symmetrized grids: False\n",
      "User specified grid scheme (50, 194)\n",
      "tot grids = 19400\n",
      "converged SCF energy = -0.787462786165199\n"
     ]
    },
    {
     "data": {
      "text/plain": [
       "-0.7874627861651992"
      ]
     },
     "execution_count": 4,
     "metadata": {},
     "output_type": "execute_result"
    },
    {
     "name": "stdout",
     "output_type": "stream",
     "text": [
      "converged SCF energy = -0.585951482404405\n"
     ]
    },
    {
     "data": {
      "text/plain": [
       "-0.5859514824044054"
      ]
     },
     "execution_count": 4,
     "metadata": {},
     "output_type": "execute_result"
    },
    {
     "name": "stdout",
     "output_type": "stream",
     "text": [
      "converged SCF energy = -0.585951482404405  <S^2> = 0  2S+1 = 1\n"
     ]
    },
    {
     "data": {
      "text/plain": [
       "-0.5859514824044054"
      ]
     },
     "execution_count": 4,
     "metadata": {},
     "output_type": "execute_result"
    },
    {
     "name": "stdout",
     "output_type": "stream",
     "text": [
      "radial grids: Gauss-Chebyshev (JCP, 108, 3226) radial grids\n",
      "becke partition: Becke, JCP, 88, 2547 (1988)\n",
      "pruning grids: None\n",
      "grids dens level: 3\n",
      "symmetrized grids: False\n",
      "User specified grid scheme (50, 194)\n",
      "tot grids = 19400\n",
      "converged SCF energy = -0.787145284846413\n"
     ]
    },
    {
     "data": {
      "text/plain": [
       "-0.7871452848464129"
      ]
     },
     "execution_count": 4,
     "metadata": {},
     "output_type": "execute_result"
    },
    {
     "name": "stdout",
     "output_type": "stream",
     "text": [
      "converged SCF energy = -0.584487418336501\n"
     ]
    },
    {
     "data": {
      "text/plain": [
       "-0.5844874183365008"
      ]
     },
     "execution_count": 4,
     "metadata": {},
     "output_type": "execute_result"
    },
    {
     "name": "stdout",
     "output_type": "stream",
     "text": [
      "converged SCF energy = -0.584487418336501  <S^2> = -4.4408921e-16  2S+1 = 1\n"
     ]
    },
    {
     "data": {
      "text/plain": [
       "-0.584487418336501"
      ]
     },
     "execution_count": 4,
     "metadata": {},
     "output_type": "execute_result"
    },
    {
     "name": "stdout",
     "output_type": "stream",
     "text": [
      "radial grids: Gauss-Chebyshev (JCP, 108, 3226) radial grids\n",
      "becke partition: Becke, JCP, 88, 2547 (1988)\n",
      "pruning grids: None\n",
      "grids dens level: 3\n",
      "symmetrized grids: False\n",
      "User specified grid scheme (50, 194)\n",
      "tot grids = 19400\n",
      "converged SCF energy = -0.786852020874444\n"
     ]
    },
    {
     "data": {
      "text/plain": [
       "-0.7868520208744441"
      ]
     },
     "execution_count": 4,
     "metadata": {},
     "output_type": "execute_result"
    },
    {
     "name": "stdout",
     "output_type": "stream",
     "text": [
      "converged SCF energy = -0.583126960737296\n"
     ]
    },
    {
     "data": {
      "text/plain": [
       "-0.5831269607372956"
      ]
     },
     "execution_count": 4,
     "metadata": {},
     "output_type": "execute_result"
    },
    {
     "name": "stdout",
     "output_type": "stream",
     "text": [
      "converged SCF energy = -0.583126960737296  <S^2> = 8.8817842e-16  2S+1 = 1\n"
     ]
    },
    {
     "data": {
      "text/plain": [
       "-0.5831269607372958"
      ]
     },
     "execution_count": 4,
     "metadata": {},
     "output_type": "execute_result"
    },
    {
     "name": "stdout",
     "output_type": "stream",
     "text": [
      "radial grids: Gauss-Chebyshev (JCP, 108, 3226) radial grids\n",
      "becke partition: Becke, JCP, 88, 2547 (1988)\n",
      "pruning grids: None\n",
      "grids dens level: 3\n",
      "symmetrized grids: False\n",
      "User specified grid scheme (50, 194)\n",
      "tot grids = 19400\n",
      "converged SCF energy = -0.786579322247388\n"
     ]
    },
    {
     "data": {
      "text/plain": [
       "-0.786579322247388"
      ]
     },
     "execution_count": 4,
     "metadata": {},
     "output_type": "execute_result"
    },
    {
     "name": "stdout",
     "output_type": "stream",
     "text": [
      "converged SCF energy = -0.581859261204807\n"
     ]
    },
    {
     "data": {
      "text/plain": [
       "-0.5818592612048068"
      ]
     },
     "execution_count": 4,
     "metadata": {},
     "output_type": "execute_result"
    },
    {
     "name": "stdout",
     "output_type": "stream",
     "text": [
      "converged SCF energy = -0.581859261204826  <S^2> = 1.0280665e-13  2S+1 = 1\n"
     ]
    },
    {
     "data": {
      "text/plain": [
       "-0.5818592612048265"
      ]
     },
     "execution_count": 4,
     "metadata": {},
     "output_type": "execute_result"
    },
    {
     "name": "stdout",
     "output_type": "stream",
     "text": [
      "radial grids: Gauss-Chebyshev (JCP, 108, 3226) radial grids\n",
      "becke partition: Becke, JCP, 88, 2547 (1988)\n",
      "pruning grids: None\n",
      "grids dens level: 3\n",
      "symmetrized grids: False\n",
      "User specified grid scheme (50, 194)\n",
      "tot grids = 19400\n",
      "converged SCF energy = -0.786325756387066\n"
     ]
    },
    {
     "data": {
      "text/plain": [
       "-0.7863257563870658"
      ]
     },
     "execution_count": 4,
     "metadata": {},
     "output_type": "execute_result"
    },
    {
     "name": "stdout",
     "output_type": "stream",
     "text": [
      "converged SCF energy = -0.580675046688089\n"
     ]
    },
    {
     "data": {
      "text/plain": [
       "-0.580675046688089"
      ]
     },
     "execution_count": 4,
     "metadata": {},
     "output_type": "execute_result"
    },
    {
     "name": "stdout",
     "output_type": "stream",
     "text": [
      "converged SCF energy = -0.580675046688089  <S^2> = 2.220446e-16  2S+1 = 1\n"
     ]
    },
    {
     "data": {
      "text/plain": [
       "-0.5806750466880893"
      ]
     },
     "execution_count": 4,
     "metadata": {},
     "output_type": "execute_result"
    },
    {
     "name": "stdout",
     "output_type": "stream",
     "text": [
      "radial grids: Gauss-Chebyshev (JCP, 108, 3226) radial grids\n",
      "becke partition: Becke, JCP, 88, 2547 (1988)\n",
      "pruning grids: None\n",
      "grids dens level: 3\n",
      "symmetrized grids: False\n",
      "User specified grid scheme (50, 194)\n",
      "tot grids = 19400\n",
      "converged SCF energy = -0.786089285308322\n"
     ]
    },
    {
     "data": {
      "text/plain": [
       "-0.7860892853083222"
      ]
     },
     "execution_count": 4,
     "metadata": {},
     "output_type": "execute_result"
    }
   ],
   "source": [
    "mf = scf.hf.RHF(mol)\n",
    "mf.kernel()\n",
    "xax.append(mol.atom[0][1][0])\n",
    "yax.append(mf.e_tot)\n",
    "\n",
    "\n",
    "mf = scf.uhf.UHF(mol)\n",
    "mf.kernel()\n",
    "xax_uhf.append(mol.atom[0][1][0])\n",
    "yax_uhf.append(mf.e_tot)\n",
    "\n",
    "dist = 0\n",
    "dist_new = 0\n",
    "for i in range(0,30):\n",
    "    dist = mol.atom[0][1][0]\n",
    "    dist_new = dist + 0.25\n",
    "    mol.atom = [['H', (dist_new, 0., 0.)], ['H', (0., 0., 0.)]]\n",
    "    mol = mol.build()\n",
    "    # RHF\n",
    "    mf = scf.hf.RHF(mol)\n",
    "    mf.kernel()\n",
    "    xax.append(dist_new)\n",
    "    yax.append(mf.e_tot)\n",
    "    # UHF\n",
    "    mf = scf.uhf.UHF(mol)\n",
    "    mf.kernel()\n",
    "    xax_uhf.append(dist_new)\n",
    "    yax_uhf.append(mf.e_tot)\n",
    "    # DFT\n",
    "    mf=scf.RKS(mol)\n",
    "    mf.conv_tol=1e-12\n",
    "    mf.conv_tol_grad=1e-8\n",
    "    mf.direct_scf_tol=1e-13\n",
    "    mf.init_guess='atom'\n",
    "    mf.max_cycle=100\n",
    "    mf.max_memory=8000\n",
    "    #mf.verbose=0\n",
    "    mf.xc='B3LYP'\n",
    "    mf.grids.atom_grid=(50,194)\n",
    "    mf.grids.becke_scheme=dft.gen_grid.original_becke\n",
    "    mf.grids.prune=None\n",
    "    mf.grids.radi_method=dft.radi.gauss_chebyshev\n",
    "    mf.grids.radii_adjust=None\n",
    "    mf.grids.verbose=4\n",
    "    mf.small_rho_cutoff=1e-10\n",
    "    mf.kernel()\n",
    "    xax_dft.append(dist_new)\n",
    "    yax_dft.append(mf.e_tot)\n",
    "    "
   ]
  },
  {
   "cell_type": "code",
   "execution_count": null,
   "metadata": {},
   "outputs": [],
   "source": []
  },
  {
   "cell_type": "code",
   "execution_count": 6,
   "metadata": {},
   "outputs": [
    {
     "data": {
      "text/plain": [
       "[0.1,\n",
       " 0.35,\n",
       " 0.6,\n",
       " 0.85,\n",
       " 1.1,\n",
       " 1.35,\n",
       " 1.6,\n",
       " 1.85,\n",
       " 2.1,\n",
       " 2.35,\n",
       " 2.6,\n",
       " 2.85,\n",
       " 3.1,\n",
       " 3.35,\n",
       " 3.6,\n",
       " 3.85,\n",
       " 4.1,\n",
       " 4.35,\n",
       " 4.6,\n",
       " 4.85,\n",
       " 5.1,\n",
       " 5.35,\n",
       " 5.6,\n",
       " 5.85,\n",
       " 6.1,\n",
       " 6.35,\n",
       " 6.6,\n",
       " 6.85,\n",
       " 7.1,\n",
       " 7.35,\n",
       " 7.6]"
      ]
     },
     "execution_count": 6,
     "metadata": {},
     "output_type": "execute_result"
    },
    {
     "data": {
      "text/plain": [
       "[0.35,\n",
       " 0.6,\n",
       " 0.85,\n",
       " 1.1,\n",
       " 1.35,\n",
       " 1.6,\n",
       " 1.85,\n",
       " 2.1,\n",
       " 2.35,\n",
       " 2.6,\n",
       " 2.85,\n",
       " 3.1,\n",
       " 3.35,\n",
       " 3.6,\n",
       " 3.85,\n",
       " 4.1,\n",
       " 4.35,\n",
       " 4.6,\n",
       " 4.85,\n",
       " 5.1,\n",
       " 5.35,\n",
       " 5.6,\n",
       " 5.85,\n",
       " 6.1,\n",
       " 6.35,\n",
       " 6.6,\n",
       " 6.85,\n",
       " 7.1,\n",
       " 7.35,\n",
       " 7.6]"
      ]
     },
     "execution_count": 6,
     "metadata": {},
     "output_type": "execute_result"
    }
   ],
   "source": [
    "xax\n",
    "xax_dft"
   ]
  },
  {
   "cell_type": "code",
   "execution_count": 11,
   "metadata": {},
   "outputs": [
    {
     "data": {
      "text/plain": [
       "[2.8028780521865357,\n",
       " -0.7804549020715255,\n",
       " -1.1011282422677013,\n",
       " -1.1025105539245947,\n",
       " -1.0365388750291795,\n",
       " -0.9572031750747297,\n",
       " -0.8817324499460559,\n",
       " -0.8168422922508728,\n",
       " -0.7641776516167966,\n",
       " -0.7229390719684001,\n",
       " -0.6913275611973775,\n",
       " -0.6674172456946882,\n",
       " -0.6495057758901853,\n",
       " -0.6361524634344013,\n",
       " -0.6261597580664031,\n",
       " -0.6185737082940921,\n",
       " -0.6126774672228088,\n",
       " -0.6079606392512517,\n",
       " -0.6040735786275035,\n",
       " -0.6007817340784777,\n",
       " -0.5979286831105145,\n",
       " -0.5954095607406272,\n",
       " -0.5931531264898965,\n",
       " -0.591109989793387,\n",
       " -0.5892449541913816,\n",
       " -0.5875320719089825,\n",
       " -0.5859514824044054,\n",
       " -0.5844874183365008,\n",
       " -0.5831269607372956,\n",
       " -0.5818592612048068,\n",
       " -0.580675046688089]"
      ]
     },
     "execution_count": 11,
     "metadata": {},
     "output_type": "execute_result"
    }
   ],
   "source": [
    "yax\n"
   ]
  },
  {
   "cell_type": "code",
   "execution_count": 17,
   "metadata": {},
   "outputs": [
    {
     "data": {
      "text/plain": [
       "[<matplotlib.lines.Line2D at 0x7f7bed7a76a0>]"
      ]
     },
     "execution_count": 17,
     "metadata": {},
     "output_type": "execute_result"
    },
    {
     "data": {
      "text/plain": [
       "[<matplotlib.lines.Line2D at 0x7f7bed702518>]"
      ]
     },
     "execution_count": 17,
     "metadata": {},
     "output_type": "execute_result"
    },
    {
     "data": {
      "text/plain": [
       "[<matplotlib.lines.Line2D at 0x7f7bed702978>]"
      ]
     },
     "execution_count": 17,
     "metadata": {},
     "output_type": "execute_result"
    },
    {
     "data": {
      "text/plain": [
       "Text(0.5, 0, 'distance (Angstrom)')"
      ]
     },
     "execution_count": 17,
     "metadata": {},
     "output_type": "execute_result"
    },
    {
     "data": {
      "text/plain": [
       "Text(0, 0.5, 'energy (Hartree)')"
      ]
     },
     "execution_count": 17,
     "metadata": {},
     "output_type": "execute_result"
    },
    {
     "data": {
      "text/plain": [
       "Text(0.5, 1.0, 'LiH Dissociation Curve')"
      ]
     },
     "execution_count": 17,
     "metadata": {},
     "output_type": "execute_result"
    },
    {
     "data": {
      "image/png": "[encoded data removed]",
      "text/plain": [
       "<Figure size 432x288 with 1 Axes>"
      ]
     },
     "metadata": {
      "needs_background": "light"
     },
     "output_type": "display_data"
    }
   ],
   "source": [
    "fig, main_ax = plt.subplots()\n",
    "main_ax.plot(xax,yax)\n",
    "main_ax.plot(xax,yax_uhf)\n",
    "main_ax.plot(xax_dft,yax_dft)\n",
    "#main_ax.set_xlim(0.5, 8.0)\n",
    "#main_ax.set_ylim(-7.06062, -7.0606)\n",
    "main_ax.set_xlabel('distance (Angstrom)')\n",
    "main_ax.set_ylabel('energy (Hartree)')\n",
    "main_ax.set_title('LiH Dissociation Curve')\n",
    "\n",
    "plt.show()\n",
    "\n"
   ]
  },
  {
   "cell_type": "markdown",
   "metadata": {},
   "source": [
    "### DFT "
   ]
  },
  {
   "cell_type": "code",
   "execution_count": null,
   "metadata": {},
   "outputs": [],
   "source": [
    "print(\"RUNNING DFT CALCULATION============\")\n",
    "\n",
    "###\n",
    "### PySCF: calculate energy using DFT\n",
    "###\n",
    "m_f2=scf.RKS(mol)\n",
    "\n",
    "m_f2.conv_tol=1e-12\n",
    "m_f2.conv_tol_grad=1e-8\n",
    "m_f2.direct_scf_tol=1e-13\n",
    "m_f2.init_guess='atom'\n",
    "m_f2.max_cycle=100\n",
    "m_f2.max_memory=8000\n",
    "m_f2.verbose=0\n",
    "\n",
    "m_f2.xc='B3LYP'\n",
    "m_f2.grids.atom_grid=(50,194)\n",
    "m_f2.grids.becke_scheme=dft.gen_grid.original_becke\n",
    "m_f2.grids.prune=None\n",
    "m_f2.grids.radi_method=dft.radi.gauss_chebyshev\n",
    "m_f2.grids.radii_adjust=None\n",
    "m_f2.grids.verbose=4\n",
    "m_f2.small_rho_cutoff=1e-10\n",
    "\n",
    "m_f2.kernel()\n",
    "\n"
   ]
  },
  {
   "cell_type": "code",
   "execution_count": null,
   "metadata": {},
   "outputs": [],
   "source": []
  }
 ],
 "metadata": {
  "kernelspec": {
   "display_name": "Python 3",
   "language": "python",
   "name": "python3"
  },
  "language_info": {
   "codemirror_mode": {
    "name": "ipython",
    "version": 3
   },
   "file_extension": ".py",
   "mimetype": "text/x-python",
   "name": "python",
   "nbconvert_exporter": "python",
   "pygments_lexer": "ipython3",
   "version": "3.6.8"
  }
 },
 "nbformat": 4,
 "nbformat_minor": 2
}

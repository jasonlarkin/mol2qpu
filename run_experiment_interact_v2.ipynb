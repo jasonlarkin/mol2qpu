{
 "cells": [
  {
   "cell_type": "code",
   "execution_count": 17,
   "metadata": {},
   "outputs": [],
   "source": [
    "#import cvxpy as cvx\n",
    "#import cvxopt\n",
    "import networkx as nx\n",
    "import numpy as np\n",
    "import argparse\n",
    "from typing import Tuple\n",
    "# %matplotlib inline\n",
    "import matplotlib.pyplot as plt\n",
    "import random\n",
    "from time import time\n",
    "import os, sys\n",
    "import subprocess\n",
    "import re\n",
    "import numpy as np\n",
    "import pylab\n",
    "import pickle\n",
    "from qiskit import Aer, BasicAer\n",
    "from qiskit.aqua import aqua_globals, QuantumInstance\n",
    "from qiskit.aqua.algorithms import ExactEigensolver, VQE\n",
    "from qiskit.aqua.components.optimizers import SPSA, COBYLA, L_BFGS_B\n",
    "from qiskit.aqua.components.variational_forms import RY, RYRZ\n",
    "from qiskit.aqua.operators import Z2Symmetries\n",
    "from qiskit.chemistry import FermionicOperator\n",
    "from qiskit.chemistry.core import Hamiltonian, QubitMappingType, TransformationType\n",
    "from qiskit.chemistry.drivers import PySCFDriver, UnitsType\n",
    "\n",
    "import types\n",
    "\n",
    "args = types.SimpleNamespace()\n",
    "args.molecule='Be2' \n",
    "args.basis_set='ccpvdz' \n",
    "#args.basis_set='sto3g' \n",
    "args.algorithm='VQE' \n",
    "args.transformation_type='TransformationType.FULL' \n",
    "#args.qubitmapping_type='QubitMappingType.BRAVYI_KITAEV' \n",
    "#args.qubitmapping_type='bravyi_kitaev'\n",
    "#args.qubitmapping_type='jordan_wigner'\n",
    "args.qubitmapping_type='parity'\n",
    "args.two_qubit_reduce = True\n",
    "args.vqe_optimizer='SPSA' \n",
    "args.vqe_max_iter=2\n",
    "args.vqe_var_form='RY' \n",
    "args.vqe_depth=1 \n",
    "args.vqe_entangler='linear' \n",
    "args.num_shots=100 \n",
    "args.max_parallel_threads=10 \n",
    "args.vqe_sim = True\n",
    "args.vqe_aer = True\n",
    "args.datapath='/pylon5/cc5phsp/cbernaci/mol2qpu'\n",
    "args.outpath='/home/ubuntu/mol2qpu/output/qubitOps'\n",
    "args.random_seed=750 \n",
    "args.vqe_opt_params = False\n",
    "\n",
    "\n"
   ]
  },
  {
   "cell_type": "code",
   "execution_count": 3,
   "metadata": {},
   "outputs": [
    {
     "name": "stdout",
     "output_type": "stream",
     "text": [
      "num orbitals =  28\n",
      "num alpha =  4\n",
      "num beta =  4\n",
      "['__class__', '__delattr__', '__dict__', '__dir__', '__doc__', '__eq__', '__format__', '__ge__', '__getattribute__', '__gt__', '__hash__', '__init__', '__init_subclass__', '__le__', '__lt__', '__module__', '__ne__', '__new__', '__reduce__', '__reduce_ex__', '__repr__', '__setattr__', '__sizeof__', '__str__', '__subclasshook__', '__weakref__', '_bravyi_kitaev_mode', '_convert_to_block_spins', '_convert_to_interleaved_spins', '_h1', '_h1_transform', '_h2', '_h2_transform', '_jordan_wigner_mode', '_map_type', '_modes', '_one_body_mapping', '_parity_mode', '_ph_trans_shift', '_s_x_squared', '_s_y_squared', '_s_z_squared', '_two_body_mapping', 'fermion_mode_elimination', 'fermion_mode_freezing', 'h1', 'h2', 'mapping', 'modes', 'particle_hole_transformation', 'total_angular_momentum', 'total_magnetization', 'total_particle_number', 'transform']\n",
      "['__abstractmethods__', '__add__', '__class__', '__delattr__', '__dict__', '__dir__', '__doc__', '__eq__', '__format__', '__ge__', '__getattribute__', '__gt__', '__hash__', '__iadd__', '__init__', '__init_subclass__', '__isub__', '__le__', '__lt__', '__module__', '__mul__', '__ne__', '__neg__', '__new__', '__reduce__', '__reduce_ex__', '__repr__', '__rmul__', '__setattr__', '__sizeof__', '__slots__', '__str__', '__sub__', '__subclasshook__', '__weakref__', '_abc_impl', '_add_or_sub', '_atol', '_basis', '_name', '_paulis', '_paulis_table', '_routine_compute_mean_and_var', '_scaling_weight', '_z2_symmetries', 'add', 'anticommute_with', 'atol', 'basis', 'chop', 'commute_with', 'construct_evaluation_circuit', 'copy', 'evaluate_with_result', 'evaluate_with_statevector', 'evaluation_instruction', 'evolve', 'evolve_instruction', 'from_dict', 'from_file', 'from_list', 'is_empty', 'multiply', 'name', 'num_qubits', 'paulis', 'print_details', 'reorder_paulis', 'rounding', 'simplify', 'sub', 'to_dict', 'to_file', 'z2_symmetries']\n"
     ]
    }
   ],
   "source": [
    "### READ IN MOLECULE\n",
    "if args.molecule=='H2':\n",
    "    molecule = 'H .0 .0 -{0}; H .0 .0 {0}'\n",
    "elif args.molecule=='LiH':\n",
    "    molecule = 'Li .0 .0 -{0}; H .0 .0 {0}'\n",
    "elif args.molecule=='Be2':\n",
    "    molecule = 'Be .0 .0 -{0}; Be .0 .0 {0}'\n",
    "\n",
    "start = 0.5  # Start distance\n",
    "steps = 0    # Number of steps to increase by\n",
    "energies = np.zeros(steps+1)\n",
    "hf_energies = np.zeros(steps+1)\n",
    "distances = np.zeros(steps+1)\n",
    "aqua_globals.random_seed = args.random_seed\n",
    "d = start\n",
    "\n",
    "driver = PySCFDriver(molecule.format(d/2), basis=args.basis_set)\n",
    "qmolecule = driver.run()\n",
    "ferOp = FermionicOperator(h1=qmolecule.one_body_integrals, h2=qmolecule.two_body_integrals)\n"
   ]
  },
  {
   "cell_type": "code",
   "execution_count": 14,
   "metadata": {},
   "outputs": [
    {
     "name": "stdout",
     "output_type": "stream",
     "text": [
      "num orbitals =  28\n",
      "num qubits =  54\n",
      "['__abstractmethods__', '__add__', '__class__', '__delattr__', '__dict__', '__dir__', '__doc__', '__eq__', '__format__', '__ge__', '__getattribute__', '__gt__', '__hash__', '__iadd__', '__init__', '__init_subclass__', '__isub__', '__le__', '__lt__', '__module__', '__mul__', '__ne__', '__neg__', '__new__', '__reduce__', '__reduce_ex__', '__repr__', '__rmul__', '__setattr__', '__sizeof__', '__slots__', '__str__', '__sub__', '__subclasshook__', '__weakref__', '_abc_impl', '_add_or_sub', '_atol', '_basis', '_name', '_paulis', '_paulis_table', '_routine_compute_mean_and_var', '_scaling_weight', '_z2_symmetries', 'add', 'anticommute_with', 'atol', 'basis', 'chop', 'commute_with', 'construct_evaluation_circuit', 'copy', 'evaluate_with_result', 'evaluate_with_statevector', 'evaluation_instruction', 'evolve', 'evolve_instruction', 'from_dict', 'from_file', 'from_list', 'is_empty', 'multiply', 'name', 'num_qubits', 'paulis', 'print_details', 'reorder_paulis', 'rounding', 'simplify', 'sub', 'to_dict', 'to_file', 'z2_symmetries']\n"
     ]
    }
   ],
   "source": [
    "num_particles = qmolecule.num_alpha + qmolecule.num_beta\n",
    "qubitOp = ferOp.mapping(map_type=args.qubitmapping_type,threshold=0.00000001)\n",
    "qubitOp = Z2Symmetries.two_qubit_reduction(qubitOp, num_particles)\n",
    "#operator =  Hamiltonian(transformation=eval(args.transformation_type), \n",
    "#                        qubit_mapping=eval(args.qubitmapping_type),  \n",
    "#                        two_qubit_reduction=args.two_qubit_reduce)\n",
    "\n",
    "#print(dir(qmolecule))\n",
    "print(\"num orbitals = \", qmolecule.num_orbitals)\n",
    "#print(\"num alpha = \", qmolecule.num_alpha)\n",
    "#print(\"num beta = \", qmolecule.num_beta)\n",
    "print(\"num qubits = \", qubitOp.num_qubits)\n",
    "#print(dir(ferOp))\n",
    "print(dir(qubitOp))"
   ]
  },
  {
   "cell_type": "code",
   "execution_count": 19,
   "metadata": {},
   "outputs": [
    {
     "name": "stdout",
     "output_type": "stream",
     "text": [
      "/home/ubuntu/mol2qpu/output/\n"
     ]
    }
   ],
   "source": [
    "print(args.outpath)"
   ]
  },
  {
   "cell_type": "code",
   "execution_count": 20,
   "metadata": {},
   "outputs": [],
   "source": [
    "bk_ccpvdz_2qr = qubitOp\n",
    "filename = args.outpath + 'bk_ccpvdz_2qr.pkl'\n",
    "filehandler = open(filename, 'wb')\n",
    "pickle.dump(bk_ccpvdz_2qr, filehandler)\n",
    "\n",
    "# where hist = some object\n",
    "# and then you can reload with this\n",
    "#bk_ccpvdz = pickle.load(open(filename,'rb'))"
   ]
  },
  {
   "cell_type": "code",
   "execution_count": null,
   "metadata": {},
   "outputs": [],
   "source": [
    "#lines, result_op = operator.process_algorithm_result(result)\n",
    "\n",
    "#qubitOp, aux_ops = operator.run(qmolecule)\n",
    "#print(dir(operator))\n",
    "\n",
    "\n",
    "#backend = Aer.get_backend('qasm_simulator')\n",
    "\n",
    "#quantum_instance = QuantumInstance(circuit_caching=True, \n",
    "#                                   backend=backend,\n",
    "#                                   backend_options={'max_parallel_threads': args.max_parallel_threads,                         #                                                    'max_parallel_experiments': 0, \n",
    "#                                                    'shots': args.num_shots})\n",
    "## optimizer\n",
    "#if args.vqe_optimizer=='SPSA':\n",
    "#    optimizer = SPSA(max_trials=200)\n",
    "#elif args.vqe_optimizer=='COBYLA':\n",
    "#    optimizer = COBYLA()\n",
    "#    optimizer.set_options(maxiter=args.vqe_max_iter)\n",
    "#elif args.vqe_optimizer=='L_BFGS_B':\n",
    "#    optimizer = L_BFGS_B(maxfun=args.vqe_max_iter)\n",
    "#else:\n",
    "#    optimizer = COBYLA()\n",
    "#    optimizer.set_options(maxiter=args.vqe_max_iter)\n",
    "#\n",
    "### variational form\n",
    "#if args.vqe_var_form=='RY':\n",
    "#    var_form = RY(qubitOp.num_qubits, depth=args.vqe_depth, entanglement=args.vqe_entangler)   \n",
    "#elif args.vqe_var_form=='RYRZ':\n",
    "#    var_form = RYRZ(qubitOp.num_qubits, depth=args.vqe_depth, entanglement=args.vqe_entangler)\n",
    "#\n",
    "### VQE params\n",
    "#if args.vqe_opt_params:\n",
    "#    initial_point=np.load(args.vqe_opt_params_path+'._ret_opt_params.npy',allow_pickle=True, fix_imports=True)\n",
    "#    algo = VQE(qubitOp, var_form, optimizer, initial_point=initial_point)\n",
    "#else:\n",
    "#    algo = VQE(qubitOp, var_form, optimizer)\n",
    "#\n",
    "#result = algo.run(quantum_instance)    \n",
    "##result['algorithm_retvals']['eigvecs']\n",
    "##results['eigvecs']\n",
    "##type(results)\n",
    "##eigvecs = results.get('eigvecs')\n",
    "#\n",
    "#\n",
    "#circ_opt = algo.get_optimal_circuit()\n",
    "#print(circ_opt)\n",
    "#print(algo.print_settings())\n",
    "#print('circuit_summary=', quantum_instance.circuit_summary)\n",
    "#\n",
    "#\n",
    "#\n",
    "#\n",
    "#\n",
    "##lines, resultA = operator.process_algorithm_result(results)\n",
    "#\n",
    "#\n",
    "#\n",
    "#\n",
    "\n",
    "\n"
   ]
  },
  {
   "cell_type": "code",
   "execution_count": null,
   "metadata": {},
   "outputs": [],
   "source": []
  }
 ],
 "metadata": {
  "kernelspec": {
   "display_name": "mol2qpu",
   "language": "python",
   "name": "python3"
  },
  "language_info": {
   "codemirror_mode": {
    "name": "ipython",
    "version": 3
   },
   "file_extension": ".py",
   "mimetype": "text/x-python",
   "name": "python",
   "nbconvert_exporter": "python",
   "pygments_lexer": "ipython3",
   "version": "3.8.2"
  }
 },
 "nbformat": 4,
 "nbformat_minor": 2
}

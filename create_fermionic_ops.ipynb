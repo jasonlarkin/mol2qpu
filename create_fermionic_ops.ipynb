{
 "cells": [
  {
   "cell_type": "code",
   "execution_count": 11,
   "metadata": {},
   "outputs": [],
   "source": [
    "import argparse\n",
    "import numpy as np\n",
    "import pickle\n",
    "import types\n",
    "from qiskit.aqua.operators import Z2Symmetries\n",
    "from qiskit.chemistry import FermionicOperator\n",
    "from qiskit.chemistry.core import Hamiltonian, QubitMappingType, TransformationType\n",
    "from qiskit.chemistry.drivers import PySCFDriver, UnitsType\n",
    "\n",
    "args = types.SimpleNamespace()\n",
    "args.qubitmapping_type='parity'\n",
    "args.two_qubit_reduce = True\n",
    "args.outpath='/home/ubuntu/mol2qpu/output/operators/fermionic/'"
   ]
  },
  {
   "cell_type": "markdown",
   "metadata": {},
   "source": [
    "## H2, ccpvdz"
   ]
  },
  {
   "cell_type": "code",
   "execution_count": 20,
   "metadata": {},
   "outputs": [],
   "source": [
    "### OUTER LOOP OVER DISTANCES\n",
    "start = 0.5  \n",
    "by    = 0.5  \n",
    "steps = 20\n",
    "molecule = 'H .0 .0 -{0}; H .0 .0 {0}'\n",
    "args.molecule='H2'\n",
    "args.basis_set='ccpvdz' \n",
    "\n",
    "for i in range(steps):\n",
    "    \n",
    "    d = start + i*by/steps\n",
    "    driver = PySCFDriver(molecule.format(d/2), basis=args.basis_set)\n",
    "    qmolecule = driver.run()\n",
    "    ferOp = FermionicOperator(h1=qmolecule.one_body_integrals, h2=qmolecule.two_body_integrals)\n",
    "    d_string = str(d).replace(\".\", \"pt\")\n",
    "    filename = args.outpath + args.molecule + '_' + args.basis_set + '_' + d_string + '.pkl'\n",
    "    filehandler = open(filename, 'wb')\n",
    "    pickle.dump(ferOp, filehandler)\n",
    "    #print(d)\n",
    "    #print(d_string)\n",
    "    #print(filename)\n",
    "    #print(ferOp.modes)"
   ]
  },
  {
   "cell_type": "markdown",
   "metadata": {},
   "source": [
    "## LiH, ccpvdz"
   ]
  },
  {
   "cell_type": "code",
   "execution_count": 24,
   "metadata": {},
   "outputs": [],
   "source": [
    "### OUTER LOOP OVER DISTANCES\n",
    "start = 0.5  \n",
    "by    = 0.5  \n",
    "steps = 20\n",
    "molecule = 'Li .0 .0 -{0}; H .0 .0 {0}'\n",
    "args.molecule='LiH'\n",
    "args.basis_set='ccpvdz' \n",
    "\n",
    "for i in range(steps):\n",
    "    \n",
    "    d = start + i*by/steps\n",
    "    driver = PySCFDriver(molecule.format(d/2), basis=args.basis_set)\n",
    "    qmolecule = driver.run()\n",
    "    ferOp = FermionicOperator(h1=qmolecule.one_body_integrals, h2=qmolecule.two_body_integrals)\n",
    "    d_string = str(d).replace(\".\", \"pt\")\n",
    "    filename = args.outpath + args.molecule + '_' + args.basis_set + '_' + d_string + '.pkl'\n",
    "    filehandler = open(filename, 'wb')\n",
    "    pickle.dump(ferOp, filehandler)\n",
    "    #print(d)\n",
    "    #print(d_string)\n",
    "    #print(filename)\n",
    "    #print(ferOp.modes)"
   ]
  },
  {
   "cell_type": "markdown",
   "metadata": {},
   "source": [
    "## Be2, ccpvdz"
   ]
  },
  {
   "cell_type": "code",
   "execution_count": 26,
   "metadata": {},
   "outputs": [
    {
     "name": "stdout",
     "output_type": "stream",
     "text": [
      "0.5\n",
      "0pt5\n",
      "/home/ubuntu/mol2qpu/output/operators/fermionic/Be2_ccpvdz_0pt5.pkl\n",
      "56\n",
      "0.525\n",
      "0pt525\n",
      "/home/ubuntu/mol2qpu/output/operators/fermionic/Be2_ccpvdz_0pt525.pkl\n",
      "56\n",
      "0.55\n",
      "0pt55\n",
      "/home/ubuntu/mol2qpu/output/operators/fermionic/Be2_ccpvdz_0pt55.pkl\n",
      "56\n",
      "0.575\n",
      "0pt575\n",
      "/home/ubuntu/mol2qpu/output/operators/fermionic/Be2_ccpvdz_0pt575.pkl\n",
      "56\n",
      "0.6\n",
      "0pt6\n",
      "/home/ubuntu/mol2qpu/output/operators/fermionic/Be2_ccpvdz_0pt6.pkl\n",
      "56\n",
      "0.625\n",
      "0pt625\n",
      "/home/ubuntu/mol2qpu/output/operators/fermionic/Be2_ccpvdz_0pt625.pkl\n",
      "56\n",
      "0.65\n",
      "0pt65\n",
      "/home/ubuntu/mol2qpu/output/operators/fermionic/Be2_ccpvdz_0pt65.pkl\n",
      "56\n",
      "0.675\n",
      "0pt675\n",
      "/home/ubuntu/mol2qpu/output/operators/fermionic/Be2_ccpvdz_0pt675.pkl\n",
      "56\n",
      "0.7\n",
      "0pt7\n",
      "/home/ubuntu/mol2qpu/output/operators/fermionic/Be2_ccpvdz_0pt7.pkl\n",
      "56\n",
      "0.725\n",
      "0pt725\n",
      "/home/ubuntu/mol2qpu/output/operators/fermionic/Be2_ccpvdz_0pt725.pkl\n",
      "56\n",
      "0.75\n",
      "0pt75\n",
      "/home/ubuntu/mol2qpu/output/operators/fermionic/Be2_ccpvdz_0pt75.pkl\n",
      "56\n",
      "0.775\n",
      "0pt775\n",
      "/home/ubuntu/mol2qpu/output/operators/fermionic/Be2_ccpvdz_0pt775.pkl\n",
      "56\n",
      "0.8\n",
      "0pt8\n",
      "/home/ubuntu/mol2qpu/output/operators/fermionic/Be2_ccpvdz_0pt8.pkl\n",
      "56\n",
      "0.825\n",
      "0pt825\n",
      "/home/ubuntu/mol2qpu/output/operators/fermionic/Be2_ccpvdz_0pt825.pkl\n",
      "56\n",
      "0.85\n",
      "0pt85\n",
      "/home/ubuntu/mol2qpu/output/operators/fermionic/Be2_ccpvdz_0pt85.pkl\n",
      "56\n",
      "0.875\n",
      "0pt875\n",
      "/home/ubuntu/mol2qpu/output/operators/fermionic/Be2_ccpvdz_0pt875.pkl\n",
      "56\n",
      "0.9\n",
      "0pt9\n",
      "/home/ubuntu/mol2qpu/output/operators/fermionic/Be2_ccpvdz_0pt9.pkl\n",
      "56\n",
      "0.925\n",
      "0pt925\n",
      "/home/ubuntu/mol2qpu/output/operators/fermionic/Be2_ccpvdz_0pt925.pkl\n",
      "56\n",
      "0.95\n",
      "0pt95\n",
      "/home/ubuntu/mol2qpu/output/operators/fermionic/Be2_ccpvdz_0pt95.pkl\n",
      "56\n",
      "0.975\n",
      "0pt975\n",
      "/home/ubuntu/mol2qpu/output/operators/fermionic/Be2_ccpvdz_0pt975.pkl\n",
      "56\n"
     ]
    }
   ],
   "source": [
    "### OUTER LOOP OVER DISTANCES\n",
    "start = 0.5  \n",
    "by    = 0.5  \n",
    "steps = 20\n",
    "molecule = 'Be .0 .0 -{0}; Be .0 .0 {0}'\n",
    "args.molecule='Be2'\n",
    "args.basis_set='ccpvdz' \n",
    "\n",
    "for i in range(steps):\n",
    "    \n",
    "    d = start + i*by/steps\n",
    "    driver = PySCFDriver(molecule.format(d/2), basis=args.basis_set)\n",
    "    qmolecule = driver.run()\n",
    "    ferOp = FermionicOperator(h1=qmolecule.one_body_integrals, h2=qmolecule.two_body_integrals)\n",
    "    d_string = str(d).replace(\".\", \"pt\")\n",
    "    filename = args.outpath + args.molecule + '_' + args.basis_set + '_' + d_string + '.pkl'\n",
    "    filehandler = open(filename, 'wb')\n",
    "    pickle.dump(ferOp, filehandler)\n",
    "    print(d)\n",
    "    print(d_string)\n",
    "    print(filename)\n",
    "    print(ferOp.modes)"
   ]
  },
  {
   "cell_type": "code",
   "execution_count": 28,
   "metadata": {},
   "outputs": [
    {
     "ename": "EOFError",
     "evalue": "Ran out of input",
     "output_type": "error",
     "traceback": [
      "\u001b[0;31m---------------------------------------------------------------------------\u001b[0m",
      "\u001b[0;31mEOFError\u001b[0m                                  Traceback (most recent call last)",
      "\u001b[0;32m<ipython-input-28-9ca9ea5e3e93>\u001b[0m in \u001b[0;36m<module>\u001b[0;34m\u001b[0m\n\u001b[1;32m      2\u001b[0m \u001b[0;31m# and then you can reload with this\u001b[0m\u001b[0;34m\u001b[0m\u001b[0;34m\u001b[0m\u001b[0;34m\u001b[0m\u001b[0m\n\u001b[1;32m      3\u001b[0m \u001b[0mfilename\u001b[0m \u001b[0;34m=\u001b[0m \u001b[0;34m'/home/ubuntu/mol2qpu/output/operators/fermionic/Be2_ccpvdz_0pt975.pkl'\u001b[0m\u001b[0;34m\u001b[0m\u001b[0;34m\u001b[0m\u001b[0m\n\u001b[0;32m----> 4\u001b[0;31m \u001b[0mcheck_ferOp\u001b[0m \u001b[0;34m=\u001b[0m \u001b[0mpickle\u001b[0m\u001b[0;34m.\u001b[0m\u001b[0mload\u001b[0m\u001b[0;34m(\u001b[0m\u001b[0mopen\u001b[0m\u001b[0;34m(\u001b[0m\u001b[0mfilename\u001b[0m\u001b[0;34m,\u001b[0m\u001b[0;34m'rb'\u001b[0m\u001b[0;34m)\u001b[0m\u001b[0;34m)\u001b[0m\u001b[0;34m\u001b[0m\u001b[0;34m\u001b[0m\u001b[0m\n\u001b[0m\u001b[1;32m      5\u001b[0m \u001b[0mprint\u001b[0m\u001b[0;34m(\u001b[0m\u001b[0mcheck_ferOp\u001b[0m\u001b[0;34m.\u001b[0m\u001b[0mmodes\u001b[0m\u001b[0;34m)\u001b[0m\u001b[0;34m\u001b[0m\u001b[0;34m\u001b[0m\u001b[0m\n",
      "\u001b[0;31mEOFError\u001b[0m: Ran out of input"
     ]
    }
   ],
   "source": [
    "# where hist = some object\n",
    "# and then you can reload with this\n",
    "filename = '/home/ubuntu/mol2qpu/output/operators/fermionic/Be2_ccpvdz_0pt975.pkl'\n",
    "check_ferOp = pickle.load(open(filename,'rb'))\n",
    "print(check_ferOp.modes)"
   ]
  },
  {
   "cell_type": "code",
   "execution_count": null,
   "metadata": {},
   "outputs": [],
   "source": [
    "num_particles = qmolecule.num_alpha + qmolecule.num_beta\n",
    "qubitOp = ferOp.mapping(map_type=args.qubitmapping_type,threshold=0.00000001)\n",
    "qubitOp = Z2Symmetries.two_qubit_reduction(qubitOp, num_particles)\n",
    "\n",
    "\n",
    "#print(dir(qmolecule))\n",
    "print(\"num orbitals = \", qmolecule.num_orbitals)\n",
    "#print(\"num alpha = \", qmolecule.num_alpha)\n",
    "#print(\"num beta = \", qmolecule.num_beta)\n",
    "print(\"num qubits = \", qubitOp.num_qubits)\n",
    "print(dir(qubitOp))"
   ]
  },
  {
   "cell_type": "code",
   "execution_count": null,
   "metadata": {},
   "outputs": [],
   "source": []
  },
  {
   "cell_type": "code",
   "execution_count": null,
   "metadata": {},
   "outputs": [],
   "source": []
  }
 ],
 "metadata": {
  "kernelspec": {
   "display_name": "mol2qpu",
   "language": "python",
   "name": "python3"
  },
  "language_info": {
   "codemirror_mode": {
    "name": "ipython",
    "version": 3
   },
   "file_extension": ".py",
   "mimetype": "text/x-python",
   "name": "python",
   "nbconvert_exporter": "python",
   "pygments_lexer": "ipython3",
   "version": "3.8.2"
  }
 },
 "nbformat": 4,
 "nbformat_minor": 2
}

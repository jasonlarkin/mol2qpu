{
 "cells": [
  {
   "cell_type": "code",
   "execution_count": 1,
   "metadata": {},
   "outputs": [],
   "source": [
    "import argparse\n",
    "import numpy as np\n",
    "import pickle\n",
    "import types\n",
    "from qiskit import Aer, BasicAer\n",
    "from qiskit.aqua import aqua_globals, QuantumInstance\n",
    "from qiskit.aqua.algorithms import ExactEigensolver, VQE\n",
    "from qiskit.aqua.components.optimizers import SPSA, COBYLA, L_BFGS_B\n",
    "from qiskit.aqua.components.variational_forms import RY, RYRZ\n",
    "#from qiskit.aqua.operators import Z2Symmetries\n",
    "from qiskit.chemistry import FermionicOperator\n",
    "#from qiskit.chemistry.core import Hamiltonian, QubitMappingType, TransformationType\n",
    "from qiskit.chemistry.drivers import PySCFDriver, UnitsType\n",
    "\n",
    "args = types.SimpleNamespace()\n",
    "#args.algorithm='VQE' \n",
    "args.basis_set='ccpvdz' \n",
    "#args.basis_set='sto3g' \n",
    "args.max_parallel_threads=10 \n",
    "args.molecule='H2' \n",
    "args.num_shots=1000\n",
    "args.outpath_mol='/home/ubuntu/mol2qpu/output/operators/molecule/'\n",
    "args.outpath_ferm='/home/ubuntu/mol2qpu/output/operators/fermionic/'\n",
    "args.outpath_qub='/home/ubuntu/mol2qpu/output/operators/qubit/'\n",
    "args.outpath_vqe='/home/ubuntu/mol2qpu/output/VQE_results/'\n",
    "args.qubitmapping_type='bravyi_kitaev'\n",
    "#args.qubitmapping_type='jordan_wigner'\n",
    "#args.qubitmapping_type='parity'\n",
    "#args.random_seed=750 \n",
    "#args.two_qubit_reduce = True\n",
    "#args.vqe_aer = True\n",
    "args.vqe_depth=1 \n",
    "args.vqe_entangler='linear' \n",
    "#args.vqe_max_iter=2\n",
    "#args.vqe_opt_params = False\n",
    "#args.vqe_optimizer='SPSA' \n",
    "#args.vqe_sim = True\n",
    "#args.vqe_var_form='RY' "
   ]
  },
  {
   "cell_type": "code",
   "execution_count": 30,
   "metadata": {},
   "outputs": [],
   "source": [
    "## load qmolecule\n",
    "d_string = '0pt55'\n",
    "filename_mol = args.outpath_mol + args.molecule + '_' + args.basis_set + '_' + d_string + '_MOLE' + '.pkl'\n",
    "qmolecule = pickle.load(open(filename_mol,'rb'))\n",
    "\n",
    "## load operators\n",
    "filename_ferm = args.outpath_ferm + args.molecule + '_' + args.basis_set + '_' + d_string + '_FERM' + '.pkl'\n",
    "filename_qub = args.outpath_qub + args.molecule + '_' + args.basis_set + '_' + d_string + '_QUBIT_bk' + '.pkl'\n",
    "ferOp = pickle.load(open(filename_ferm, 'rb'))\n",
    "qubitOp = pickle.load(open(filename_qub, 'rb'))"
   ]
  },
  {
   "cell_type": "code",
   "execution_count": 31,
   "metadata": {},
   "outputs": [
    {
     "name": "stdout",
     "output_type": "stream",
     "text": [
      "molecule file =  /home/ubuntu/mol2qpu/output/operators/molecule/H2_ccpvdz_0pt55_MOLE.pkl\n",
      "qubit file =  /home/ubuntu/mol2qpu/output/operators/qubit/H2_ccpvdz_0pt55_QUBIT_bk.pkl\n",
      "num orbitals =  10\n",
      "num_particles =  2\n",
      "num qubits =  20\n"
     ]
    }
   ],
   "source": [
    "print(\"molecule file = \", filename_mol)\n",
    "print(\"qubit file = \", filename_qub)\n",
    "num_particles = qmolecule.num_alpha + qmolecule.num_beta\n",
    "print(\"num orbitals = \", qmolecule.num_orbitals)\n",
    "print(\"num_particles = \", num_particles)\n",
    "print(\"num qubits = \", qubitOp.num_qubits)"
   ]
  },
  {
   "cell_type": "code",
   "execution_count": 41,
   "metadata": {},
   "outputs": [
    {
     "name": "stdout",
     "output_type": "stream",
     "text": [
      "/home/ubuntu/mol2qpu/output/VQE_results/H2_ccpvdz_0pt55_VQE_SPSA_RY_lin_bk_1000.pkl\n"
     ]
    }
   ],
   "source": [
    "backend = Aer.get_backend('qasm_simulator')\n",
    "quantum_instance = QuantumInstance(circuit_caching=True, \n",
    "                                   backend=backend,\n",
    "                                   backend_options={'max_parallel_threads': args.max_parallel_threads,                                                                             'max_parallel_experiments': 0, \n",
    "                                                    'shots': args.num_shots})\n",
    "optimizer = SPSA(max_trials=200)\n",
    "var_form = RY(qubitOp.num_qubits, depth=args.vqe_depth, entanglement=args.vqe_entangler) \n",
    "algo = VQE(qubitOp, var_form, optimizer)\n",
    "result = algo.run(quantum_instance)  \n",
    "## save VQE results\n",
    "filename_vqe = args.outpath_vqe \\\n",
    "             + args.molecule + '_' \\\n",
    "             + args.basis_set + '_' \\\n",
    "             + d_string + '_VQE_SPSA_RY_lin_bk_' \\\n",
    "             + str(args.num_shots) + '.pkl'\n",
    "filehandler_vqe = open(filename_vqe, 'wb')\n",
    "pickle.dump(result, filehandler_vqe)\n",
    "print(\"saved file = \", filename_vqe)"
   ]
  },
  {
   "cell_type": "code",
   "execution_count": 32,
   "metadata": {},
   "outputs": [
    {
     "name": "stdout",
     "output_type": "stream",
     "text": [
      "VQE settings =  \n",
      "==================== Setting of VQE ============================\n",
      "Algorithm: VQE\n",
      "-- quantum_instance: \n",
      "Qiskit Terra version: 0.12.0\n",
      "Backend: 'qasm_simulator (AerProvider)', with following setting:\n",
      "{'basis_gates': ['u1', 'u2', 'u3', 'cx', 'cz', 'id', 'x', 'y', 'z', 'h', 's', 'sdg', 't', 'tdg', 'swap', 'ccx', 'unitary', 'initialize', 'cu1', 'cu2', 'cu3', 'cswap', 'mcx', 'mcy', 'mcz', 'mcu1', 'mcu2', 'mcu3', 'mcswap', 'multiplexer', 'kraus', 'roerror'], 'coupling_map': None}\n",
      "{'pass_manager': None, 'initial_layout': None, 'seed_transpiler': None, 'optimization_level': None}\n",
      "RunConfig(max_credits=10, shots=1024)\n",
      "{'timeout': None}\n",
      "{'backend_options': {'max_parallel_threads': 10, 'max_parallel_experiments': 0, 'shots': 10}}\n",
      "{}\n",
      "Measurement mitigation: None\n",
      "-- var_form: <qiskit.aqua.components.variational_forms.ry.RY object at 0x7ff01378d9d0>\n",
      "-- optimizer: <qiskit.aqua.components.optimizers.spsa.SPSA object at 0x7ff01378ddc0>\n",
      "-- cost_fn: <bound method VQE._energy_evaluation of <qiskit.aqua.algorithms.adaptive.vqe.vqe.VQE object at 0x7ff19213ceb0>>\n",
      "-- initial_point: Random seed\n",
      "-- parameterized_circuits: None\n",
      "-- use_simulator_snapshot_mode: False\n",
      "-- ret: {'num_optimizer_evals': None, 'min_val': 24.434041564524765, 'opt_params': array([ 1.27838137,  0.93962972, -1.21642166,  1.99249258, -3.36752337,\n",
      "        0.22872054,  2.91283336, -2.05564601, -1.48489161, -0.90719709,\n",
      "        0.05035043, -0.8611353 ,  1.38032328,  0.72537749,  1.85646108,\n",
      "        1.23967499,  1.33578385,  0.94867126, -0.0303317 ,  3.48702445,\n",
      "        0.15098988, -1.49079323,  0.17772595, -0.11110189, -2.89392263,\n",
      "        1.18214993, -0.25386109, -1.13967618, -0.93000068,  1.15689503,\n",
      "        1.3611201 , -4.27124984,  1.35956809,  2.35701586, -3.8871554 ,\n",
      "       -5.38495828, -1.16899272, -3.20994809,  1.28760584, -0.47160713]), 'eval_time': 25632.190756559372, 'eval_count': 451, 'energy': 24.434041564524765, 'eigvals': array([24.43404156]), 'min_vector': {'10100111110011001000': 1, '11010101110011001110': 1, '10100011111111111101': 1, '10100101000001001000': 1, '10111011111111101000': 1, '10001111010011000000': 1, '10111110000001101011': 1, '10101110010001001110': 1, '10111011010001001000': 1, '10101111001111101011': 1}, 'eigvecs': array([{'10100111110011001000': 1, '11010101110011001110': 1, '10100011111111111101': 1, '10100101000001001000': 1, '10111011111111101000': 1, '10001111010011000000': 1, '10111110000001101011': 1, '10101110010001001110': 1, '10111011010001001000': 1, '10101111001111101011': 1}],\n",
      "      dtype=object)}\n",
      "-- eval_time: 25632.190756559372\n",
      "-- callback: None\n",
      "-- operator: : Representation: tpb grouped paulis, qubits: 20, size: 2951, group: 1025\n",
      "-- eval_count: 451\n",
      "-- aux_operators: []\n",
      "-- auto_conversion: True\n",
      "-- var_form_params: θ, ['θ[0]', 'θ[1]', 'θ[2]', 'θ[3]', 'θ[4]', 'θ[5]', 'θ[6]', 'θ[7]', 'θ[8]', 'θ[9]', 'θ[10]', 'θ[11]', 'θ[12]', 'θ[13]', 'θ[14]', 'θ[15]', 'θ[16]', 'θ[17]', 'θ[18]', 'θ[19]', 'θ[20]', 'θ[21]', 'θ[22]', 'θ[23]', 'θ[24]', 'θ[25]', 'θ[26]', 'θ[27]', 'θ[28]', 'θ[29]', 'θ[30]', 'θ[31]', 'θ[32]', 'θ[33]', 'θ[34]', 'θ[35]', 'θ[36]', 'θ[37]', 'θ[38]', 'θ[39]']\n",
      "===============================================================\n",
      "Variational Form: RY\n",
      "-- num_parameters: 40\n",
      "-- num_qubits: 20\n",
      "-- bounds: [(-3.141592653589793, 3.141592653589793), (-3.141592653589793, 3.141592653589793), (-3.141592653589793, 3.141592653589793), (-3.141592653589793, 3.141592653589793), (-3.141592653589793, 3.141592653589793), (-3.141592653589793, 3.141592653589793), (-3.141592653589793, 3.141592653589793), (-3.141592653589793, 3.141592653589793), (-3.141592653589793, 3.141592653589793), (-3.141592653589793, 3.141592653589793), (-3.141592653589793, 3.141592653589793), (-3.141592653589793, 3.141592653589793), (-3.141592653589793, 3.141592653589793), (-3.141592653589793, 3.141592653589793), (-3.141592653589793, 3.141592653589793), (-3.141592653589793, 3.141592653589793), (-3.141592653589793, 3.141592653589793), (-3.141592653589793, 3.141592653589793), (-3.141592653589793, 3.141592653589793), (-3.141592653589793, 3.141592653589793), (-3.141592653589793, 3.141592653589793), (-3.141592653589793, 3.141592653589793), (-3.141592653589793, 3.141592653589793), (-3.141592653589793, 3.141592653589793), (-3.141592653589793, 3.141592653589793), (-3.141592653589793, 3.141592653589793), (-3.141592653589793, 3.141592653589793), (-3.141592653589793, 3.141592653589793), (-3.141592653589793, 3.141592653589793), (-3.141592653589793, 3.141592653589793), (-3.141592653589793, 3.141592653589793), (-3.141592653589793, 3.141592653589793), (-3.141592653589793, 3.141592653589793), (-3.141592653589793, 3.141592653589793), (-3.141592653589793, 3.141592653589793), (-3.141592653589793, 3.141592653589793), (-3.141592653589793, 3.141592653589793), (-3.141592653589793, 3.141592653589793), (-3.141592653589793, 3.141592653589793), (-3.141592653589793, 3.141592653589793)]\n",
      "-- support_parameterized_circuit: True\n",
      "-- depth: 1\n",
      "-- entanglement: linear\n",
      "-- entangler_map: [[0, 1], [1, 2], [2, 3], [3, 4], [4, 5], [5, 6], [6, 7], [7, 8], [8, 9], [9, 10], [10, 11], [11, 12], [12, 13], [13, 14], [14, 15], [15, 16], [16, 17], [17, 18], [18, 19]]\n",
      "-- entangled_qubits: [0, 1, 2, 3, 4, 5, 6, 7, 8, 9, 10, 11, 12, 13, 14, 15, 16, 17, 18, 19]\n",
      "-- initial_state: None\n",
      "-- entanglement_gate: cz\n",
      "-- skip_unentangled_qubits: False\n",
      "-- skip_final_ry: False\n",
      "===============================================================\n",
      "Optimizer: SPSA\n",
      "-- gradient_support_level: 1\n",
      "-- bounds_support_level: 1\n",
      "-- initial_point_support_level: 3\n",
      "-- options: {'save_steps': 1, 'last_avg': 1}\n",
      "-- max_evals_grouped: 1\n",
      "-- max_trials: 200\n",
      "-- parameters: [0.02435521 0.1        0.602      0.101      0.        ]\n",
      "-- skip_calibration: False\n",
      "===============================================================\n",
      "\n",
      "VQE result =  {'num_optimizer_evals': None, 'min_val': 24.434041564524765, 'opt_params': array([ 1.27838137,  0.93962972, -1.21642166,  1.99249258, -3.36752337,\n",
      "        0.22872054,  2.91283336, -2.05564601, -1.48489161, -0.90719709,\n",
      "        0.05035043, -0.8611353 ,  1.38032328,  0.72537749,  1.85646108,\n",
      "        1.23967499,  1.33578385,  0.94867126, -0.0303317 ,  3.48702445,\n",
      "        0.15098988, -1.49079323,  0.17772595, -0.11110189, -2.89392263,\n",
      "        1.18214993, -0.25386109, -1.13967618, -0.93000068,  1.15689503,\n",
      "        1.3611201 , -4.27124984,  1.35956809,  2.35701586, -3.8871554 ,\n",
      "       -5.38495828, -1.16899272, -3.20994809,  1.28760584, -0.47160713]), 'eval_time': 25632.190756559372, 'eval_count': 451, 'energy': 24.434041564524765, 'eigvals': array([24.43404156]), 'min_vector': {'10100111110011001000': 1, '11010101110011001110': 1, '10100011111111111101': 1, '10100101000001001000': 1, '10111011111111101000': 1, '10001111010011000000': 1, '10111110000001101011': 1, '10101110010001001110': 1, '10111011010001001000': 1, '10101111001111101011': 1}, 'eigvecs': array([{'10100111110011001000': 1, '11010101110011001110': 1, '10100011111111111101': 1, '10100101000001001000': 1, '10111011111111101000': 1, '10001111010011000000': 1, '10111110000001101011': 1, '10101110010001001110': 1, '10111011010001001000': 1, '10101111001111101011': 1}],\n",
      "      dtype=object)}\n"
     ]
    }
   ],
   "source": [
    "print(\"VQE settings = \", algo.print_settings())\n",
    "print(\"VQE result = \", result)"
   ]
  },
  {
   "cell_type": "code",
   "execution_count": 28,
   "metadata": {},
   "outputs": [
    {
     "name": "stdout",
     "output_type": "stream",
     "text": [
      "/home/ubuntu/mol2qpu/output/VQE_results/H2_ccpvdz_0pt55_VQE_SPSA_RY_lin_bk.pkl\n"
     ]
    },
    {
     "data": {
      "text/plain": [
       "{'num_optimizer_evals': None,\n",
       " 'min_val': 24.434041564524765,\n",
       " 'opt_params': array([ 1.27838137,  0.93962972, -1.21642166,  1.99249258, -3.36752337,\n",
       "         0.22872054,  2.91283336, -2.05564601, -1.48489161, -0.90719709,\n",
       "         0.05035043, -0.8611353 ,  1.38032328,  0.72537749,  1.85646108,\n",
       "         1.23967499,  1.33578385,  0.94867126, -0.0303317 ,  3.48702445,\n",
       "         0.15098988, -1.49079323,  0.17772595, -0.11110189, -2.89392263,\n",
       "         1.18214993, -0.25386109, -1.13967618, -0.93000068,  1.15689503,\n",
       "         1.3611201 , -4.27124984,  1.35956809,  2.35701586, -3.8871554 ,\n",
       "        -5.38495828, -1.16899272, -3.20994809,  1.28760584, -0.47160713]),\n",
       " 'eval_time': 25632.190756559372,\n",
       " 'eval_count': 451,\n",
       " 'energy': 24.434041564524765,\n",
       " 'eigvals': array([24.43404156]),\n",
       " 'min_vector': {'10100111110011001000': 1,\n",
       "  '11010101110011001110': 1,\n",
       "  '10100011111111111101': 1,\n",
       "  '10100101000001001000': 1,\n",
       "  '10111011111111101000': 1,\n",
       "  '10001111010011000000': 1,\n",
       "  '10111110000001101011': 1,\n",
       "  '10101110010001001110': 1,\n",
       "  '10111011010001001000': 1,\n",
       "  '10101111001111101011': 1},\n",
       " 'eigvecs': array([{'10100111110011001000': 1, '11010101110011001110': 1, '10100011111111111101': 1, '10100101000001001000': 1, '10111011111111101000': 1, '10001111010011000000': 1, '10111110000001101011': 1, '10101110010001001110': 1, '10111011010001001000': 1, '10101111001111101011': 1}],\n",
       "       dtype=object)}"
      ]
     },
     "execution_count": 28,
     "metadata": {},
     "output_type": "execute_result"
    }
   ],
   "source": [
    "## load VQE results\n",
    "#print(filename_vqe)\n",
    "#result_load = pickle.load(open(filename_vqe,'rb'))\n",
    "#result_load"
   ]
  }
 ],
 "metadata": {
  "kernelspec": {
   "display_name": "mol2qpu",
   "language": "python",
   "name": "python3"
  },
  "language_info": {
   "codemirror_mode": {
    "name": "ipython",
    "version": 3
   },
   "file_extension": ".py",
   "mimetype": "text/x-python",
   "name": "python",
   "nbconvert_exporter": "python",
   "pygments_lexer": "ipython3",
   "version": "3.8.2"
  }
 },
 "nbformat": 4,
 "nbformat_minor": 2
}

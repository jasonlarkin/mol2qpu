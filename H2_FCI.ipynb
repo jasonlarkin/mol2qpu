{
 "cells": [
  {
   "cell_type": "code",
   "execution_count": 2,
   "metadata": {},
   "outputs": [],
   "source": [
    "#import cvxpy as cvx\n",
    "#import cvxopt\n",
    "#import networkx as nx\n",
    "\n",
    "import argparse\n",
    "#from typing import Tuple\n",
    "# %matplotlib inline\n",
    "#import matplotlib.pyplot as plt\n",
    "#import random\n",
    "#from time import time\n",
    "#import os, sys\n",
    "#import subprocess\n",
    "#import re\n",
    "import numpy as np\n",
    "#import pylab\n",
    "import pickle\n",
    "import types\n",
    "from qiskit import Aer, BasicAer\n",
    "from qiskit.aqua import aqua_globals, QuantumInstance\n",
    "from qiskit.aqua.algorithms import ExactEigensolver, VQE\n",
    "from qiskit.aqua.components.optimizers import SPSA, COBYLA, L_BFGS_B\n",
    "from qiskit.aqua.components.variational_forms import RY, RYRZ\n",
    "#from qiskit.aqua.operators import Z2Symmetries\n",
    "from qiskit.chemistry import FermionicOperator\n",
    "#from qiskit.chemistry.core import Hamiltonian, QubitMappingType, TransformationType\n",
    "from qiskit.chemistry.drivers import PySCFDriver, UnitsType\n",
    "\n",
    "\n",
    "\n",
    "args = types.SimpleNamespace()\n",
    "args.molecule='H2' \n",
    "args.basis_set='ccpvdz' \n",
    "#args.basis_set='sto3g' \n",
    "#args.algorithm='VQE' \n",
    "#args.transformation_type='TransformationType.FULL' \n",
    "#args.qubitmapping_type='QubitMappingType.BRAVYI_KITAEV' \n",
    "args.qubitmapping_type='bravyi_kitaev'\n",
    "#args.qubitmapping_type='jordan_wigner'\n",
    "#args.qubitmapping_type='parity'\n",
    "#args.two_qubit_reduce = True\n",
    "#args.vqe_optimizer='SPSA' \n",
    "#args.vqe_max_iter=2\n",
    "#args.vqe_var_form='RY' \n",
    "args.vqe_depth=1 \n",
    "args.vqe_entangler='linear' \n",
    "args.num_shots=10\n",
    "args.max_parallel_threads=10 \n",
    "#args.vqe_sim = True\n",
    "#args.vqe_aer = True\n",
    "#args.datapath='/pylon5/cc5phsp/cbernaci/mol2qpu'\n",
    "args.outpath_mol='/home/ubuntu/mol2qpu/output/operators/molecule/'\n",
    "args.outpath_ferm='/home/ubuntu/mol2qpu/output/operators/fermionic/'\n",
    "args.outpath_qub='/home/ubuntu/mol2qpu/output/operators/qubit/'\n",
    "args.outpath_vqe='/home/ubuntu/mol2qpu/output/VQE_runs/'\n",
    "#args.random_seed=750 \n",
    "#args.vqe_opt_params = False\n",
    "\n",
    "\n",
    "\n"
   ]
  },
  {
   "cell_type": "code",
   "execution_count": 3,
   "metadata": {},
   "outputs": [],
   "source": [
    "## load qmolecule\n",
    "d_string = '0pt55'\n",
    "filename_mol = args.outpath_mol + args.molecule + '_' + args.basis_set + '_' + d_string + '_MOLE' + '.pkl'\n",
    "qmolecule = pickle.load(open(filename_mol,'rb'))\n",
    "\n",
    "## load operators\n",
    "filename_ferm = args.outpath_ferm + args.molecule + '_' + args.basis_set + '_' + d_string + '_FERM' + '.pkl'\n",
    "filename_qub = args.outpath_qub + args.molecule + '_' + args.basis_set + '_' + d_string + '_QUBIT_bk' + '.pkl'\n",
    "ferOp = pickle.load(open(filename_ferm, 'rb'))\n",
    "qubitOp = pickle.load(open(filename_qub, 'rb'))\n",
    "\n"
   ]
  },
  {
   "cell_type": "code",
   "execution_count": 4,
   "metadata": {},
   "outputs": [
    {
     "name": "stderr",
     "output_type": "stream",
     "text": [
      "/home/ubuntu/anaconda3/envs/mol2qpu/lib/python3.8/site-packages/qiskit/aqua/quantum_instance.py:205: UserWarning: circuit_caching will be removed at Qiskit Aqua 0.7+, this setting will be ignored. On the other hand, Qiskit Aqua does support parameterized circuits for adaptive algorithms (e.g. VQE and VQC) to avoid for compiling the circuit with the same topology multiple times\n",
      "  warnings.warn(\"circuit_caching will be removed at Qiskit Aqua 0.7+, \"\n"
     ]
    }
   ],
   "source": [
    "backend = Aer.get_backend('qasm_simulator')\n",
    "quantum_instance = QuantumInstance(circuit_caching=True, \n",
    "                                   backend=backend,\n",
    "                                   backend_options={'max_parallel_threads': args.max_parallel_threads,                                                                             'max_parallel_experiments': 0, \n",
    "                                                    'shots': args.num_shots})"
   ]
  },
  {
   "cell_type": "code",
   "execution_count": 5,
   "metadata": {},
   "outputs": [],
   "source": [
    "optimizer = SPSA(max_trials=200)\n",
    "var_form = RY(qubitOp.num_qubits, depth=args.vqe_depth, entanglement=args.vqe_entangler)   "
   ]
  },
  {
   "cell_type": "code",
   "execution_count": 6,
   "metadata": {},
   "outputs": [],
   "source": [
    "algo = VQE(qubitOp, var_form, optimizer)"
   ]
  },
  {
   "cell_type": "code",
   "execution_count": null,
   "metadata": {},
   "outputs": [],
   "source": [
    "result = algo.run(quantum_instance)  "
   ]
  },
  {
   "cell_type": "code",
   "execution_count": null,
   "metadata": {},
   "outputs": [],
   "source": [
    "filename_vqe = args.outpath_vqe + args.molecule + '_' + args.basis_set + '_' + d_string + '_VQE_bk' + '.pkl'\n",
    "filehandler_vqe = open(filename_vqe, 'wb')\n",
    "pickle.dump(result, filehandler_vqe)"
   ]
  },
  {
   "cell_type": "code",
   "execution_count": 15,
   "metadata": {},
   "outputs": [
    {
     "name": "stdout",
     "output_type": "stream",
     "text": [
      "num orbitals =  10\n",
      "num_particles =  2\n",
      "num qubits =  20\n"
     ]
    }
   ],
   "source": [
    "num_particles = qmolecule.num_alpha + qmolecule.num_beta\n",
    "\n",
    "print(\"num orbitals = \", qmolecule.num_orbitals)\n",
    "print(\"num_particles = \", num_particles)\n",
    "print(\"num qubits = \", qubitOp.num_qubits)\n",
    "#print(dir(ferOp))\n",
    "#print(dir(qubitOp))"
   ]
  },
  {
   "cell_type": "code",
   "execution_count": null,
   "metadata": {},
   "outputs": [],
   "source": []
  },
  {
   "cell_type": "code",
   "execution_count": null,
   "metadata": {},
   "outputs": [],
   "source": []
  }
 ],
 "metadata": {
  "kernelspec": {
   "display_name": "mol2qpu",
   "language": "python",
   "name": "python3"
  },
  "language_info": {
   "codemirror_mode": {
    "name": "ipython",
    "version": 3
   },
   "file_extension": ".py",
   "mimetype": "text/x-python",
   "name": "python",
   "nbconvert_exporter": "python",
   "pygments_lexer": "ipython3",
   "version": "3.8.2"
  }
 },
 "nbformat": 4,
 "nbformat_minor": 2
}
